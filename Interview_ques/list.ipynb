{
 "cells": [
  {
   "cell_type": "code",
   "execution_count": null,
   "id": "3d3bf5b0",
   "metadata": {},
   "outputs": [],
   "source": []
  },
  {
   "cell_type": "markdown",
   "id": "024426e1",
   "metadata": {},
   "source": [
    "7️⃣ Find All Pairs in a List Whose Sum Equals K Input: [1, 5, 7, -1, 5], K = 6 Output: (1,5), (7,-1), (1,5)"
   ]
  },
  {
   "cell_type": "code",
   "execution_count": 6,
   "id": "9e1bc0cb",
   "metadata": {},
   "outputs": [
    {
     "name": "stdout",
     "output_type": "stream",
     "text": [
      "#### 1\n",
      "$$$$$ 5\n",
      "$$$$$ 7\n",
      "$$$$$ -1\n",
      "$$$$$ 5\n",
      "#### 5\n",
      "$$$$$ 7\n",
      "$$$$$ -1\n",
      "$$$$$ 5\n",
      "#### 7\n",
      "$$$$$ -1\n",
      "$$$$$ 5\n",
      "#### -1\n",
      "$$$$$ 5\n",
      "#### 5\n",
      "[(1, 5), (1, 5), (7, -1)]\n"
     ]
    }
   ],
   "source": [
    "lst = [1,5,7,-1,5]\n",
    "k = 6\n",
    "pairs = []\n",
    "for i in range(len(lst)):\n",
    "    print(\"####\",lst[i])\n",
    "    for j in range(i+1,len(lst)):\n",
    "        print(\"$$$$$\",lst[j])\n",
    "        if lst[i] + lst[j] == k:\n",
    "            pairs.append((lst[i],lst[j]))\n",
    "\n",
    "print(pairs)\n",
    "\n"
   ]
  },
  {
   "cell_type": "markdown",
   "id": "45f2235e",
   "metadata": {},
   "source": [
    "Find All Duplicate Elements in a List\n",
    "Input: [1,2,3,2,1,5,6,5]\n",
    "Output: [1,2,5]"
   ]
  },
  {
   "cell_type": "code",
   "execution_count": 11,
   "id": "3def4d5d",
   "metadata": {},
   "outputs": [
    {
     "name": "stdout",
     "output_type": "stream",
     "text": [
      "[1, 2, 5]\n"
     ]
    }
   ],
   "source": [
    "lst = [1,2,3,2,1,5,6,5]\n",
    "dupl = []\n",
    "for i in range(len(lst)):\n",
    "    if lst.count(lst[i])>1 and lst[i] not in dupl:\n",
    "        dupl.append(lst[i])\n",
    "print(dupl)"
   ]
  },
  {
   "cell_type": "markdown",
   "id": "b87ff185",
   "metadata": {},
   "source": [
    "Intersection and Union of Two Lists (without using set())\n",
    "A = [1,2,3,4]\n",
    "B = [3,4,5,6]\n",
    "Intersection → [3,4]\n",
    "Union → [1,2,3,4,5,6]"
   ]
  },
  {
   "cell_type": "code",
   "execution_count": 12,
   "id": "530805b9",
   "metadata": {},
   "outputs": [
    {
     "name": "stdout",
     "output_type": "stream",
     "text": [
      "inter [3, 4]\n",
      "union [1, 2, 3, 4, 5, 6]\n"
     ]
    }
   ],
   "source": [
    "# Input lists\n",
    "A = [1, 2, 3, 4]\n",
    "B = [3, 4, 5, 6]\n",
    "\n",
    "\n",
    "# Intersection (common elements)\n",
    "intersection = []\n",
    "for i in A:\n",
    "    if i in B and i not in intersection:\n",
    "        intersection.append(i)\n",
    "\n",
    "# Union (all unique elements)\n",
    "union = A.copy()   # Start with all elements from A\n",
    "for j in B:\n",
    "    if j not in union:\n",
    "        union.append(j)\n",
    "print(\"inter\",intersection)\n",
    "print(\"union\",union)\n"
   ]
  },
  {
   "cell_type": "markdown",
   "id": "2bdc0fdb",
   "metadata": {},
   "source": [
    "Find All Combinations of Two Lists\n",
    "A = [1, 2]\n",
    "B = ['a', 'b']\n",
    "Output = [(1,'a'), (1,'b'), (2,'a'), (2,'b')]"
   ]
  },
  {
   "cell_type": "code",
   "execution_count": 15,
   "id": "a0f48602",
   "metadata": {},
   "outputs": [
    {
     "name": "stdout",
     "output_type": "stream",
     "text": [
      "[(1, 'a'), (1, 'b'), (2, 'a'), (2, 'b')]\n"
     ]
    }
   ],
   "source": [
    "a = [1,2]\n",
    "b = ['a','b']\n",
    "pair = []\n",
    "for i in a:\n",
    "    for j in b:\n",
    "        pair.append((i,j))\n",
    "print(pair)\n"
   ]
  },
  {
   "cell_type": "code",
   "execution_count": 16,
   "id": "91fa00bc",
   "metadata": {},
   "outputs": [
    {
     "name": "stdout",
     "output_type": "stream",
     "text": [
      "Input List: [1, 2, 3, 4, 5, 6, 7, 8, 9]\n",
      "Number of parts: 3\n",
      "Split parts: [[1, 2, 3], [4, 5, 6], [7, 8, 9]]\n"
     ]
    }
   ],
   "source": [
    "# Input\n",
    "lst = [1, 2, 3, 4, 5, 6, 7, 8, 9]\n",
    "n = 3\n",
    "\n",
    "print(\"Input List:\", lst)\n",
    "print(\"Number of parts:\", n)\n",
    "\n",
    "# Find the step size (length of each part)\n",
    "size = len(lst) // n\n",
    "\n",
    "# Split the list\n",
    "parts = [lst[i:i + size] for i in range(0, len(lst), size)]\n",
    "\n",
    "# Output\n",
    "print(\"Split parts:\", parts)\n"
   ]
  },
  {
   "cell_type": "markdown",
   "id": "7fdacdf9",
   "metadata": {},
   "source": [
    "Reverse Each Word in a List of Strings\n",
    "Input: [\"apple\", \"banana\", \"cherry\"]\n",
    "Output: [\"elppa\", \"ananab\", \"yrrehc\"]"
   ]
  },
  {
   "cell_type": "code",
   "execution_count": 17,
   "id": "303661f0",
   "metadata": {},
   "outputs": [
    {
     "name": "stdout",
     "output_type": "stream",
     "text": [
      "['elppa', 'ognam', 'yrrehc']\n"
     ]
    }
   ],
   "source": [
    "words = [\"apple\",\"mango\",\"cherry\"]\n",
    "rev_word = [word[::-1] for word in words]\n",
    "print(rev_word)"
   ]
  },
  {
   "cell_type": "markdown",
   "id": "910a3431",
   "metadata": {},
   "source": [
    "16️⃣ Find the Longest Increasing Subsequence in a List\n",
    "Input: [3, 10, 2, 1, 20]\n",
    "Output: [3, 10, 20]"
   ]
  },
  {
   "cell_type": "code",
   "execution_count": null,
   "id": "3143ad4f",
   "metadata": {},
   "outputs": [],
   "source": [
    "# Input\n",
    "nums = [3, 10, 2, 1, 20]\n",
    "print(\"Input List:\", nums)\n",
    "\n",
    "# Find the Longest Increasing Subsequence (LIS)\n",
    "longest = []\n",
    "\n",
    "for i in range(len(nums)):\n",
    "    temp = [nums[i]]\n",
    "    for j in range(i + 1, len(nums)):\n",
    "        if nums[j] > temp[-1]:\n",
    "            temp.append(nums[j])\n",
    "    if len(temp) > len(longest):\n",
    "        longest = temp\n",
    "\n",
    "# Output\n",
    "print(\"Longest Increasing Subsequence:\", longest)\n"
   ]
  },
  {
   "cell_type": "markdown",
   "id": "a65c31e3",
   "metadata": {},
   "source": []
  },
  {
   "cell_type": "markdown",
   "id": "34198d81",
   "metadata": {},
   "source": [
    "17️⃣ Replace All Occurrences of One Element with Another\n",
    "Input: [1,2,2,3,2], replace 2 with 9\n",
    "Output: [1,9,9,3,9]"
   ]
  },
  {
   "cell_type": "code",
   "execution_count": 19,
   "id": "a263dfc5",
   "metadata": {},
   "outputs": [
    {
     "name": "stdout",
     "output_type": "stream",
     "text": [
      "[1, 9, 9, 3, 9]\n"
     ]
    }
   ],
   "source": [
    "lst = [1,2,2,3,2]\n",
    "num = 9 \n",
    "for i in range(len(lst)):\n",
    "    if lst[i] == 2:\n",
    "        lst[i]=num\n",
    "print(lst)\n"
   ]
  },
  {
   "cell_type": "markdown",
   "id": "1d2e99d0",
   "metadata": {},
   "source": []
  },
  {
   "cell_type": "markdown",
   "id": "0cfe17c4",
   "metadata": {},
   "source": [
    "19️⃣ Transpose a Matrix (list of lists)\n",
    "Input: [[1,2,3],[4,5,6],[7,8,9]]\n",
    "Output: [[1,4,7],[2,5,8],[3,6,9]]"
   ]
  },
  {
   "cell_type": "code",
   "execution_count": 35,
   "id": "2a2f99d9",
   "metadata": {},
   "outputs": [
    {
     "name": "stdout",
     "output_type": "stream",
     "text": [
      "Input Matrix: [4, 5, 6]\n"
     ]
    }
   ],
   "source": [
    "matrix = [[1, 2, 3],[4, 5, 6],[7, 8, 9]]\n",
    "\n",
    "print(\"Input Matrix:\",matrix[1])\n",
    "# for row in matrix:\n",
    "    # print(row[1])\n"
   ]
  },
  {
   "cell_type": "code",
   "execution_count": 4,
   "id": "fab155f0",
   "metadata": {},
   "outputs": [
    {
     "name": "stdout",
     "output_type": "stream",
     "text": [
      "Input Matrix:\n",
      "[1, 2, 3]\n",
      "[4, 5, 6]\n",
      "[7, 8, 9]\n",
      "\n",
      "Transposed Matrix:\n",
      "[7, 4, 1]\n",
      "[8, 5, 2]\n",
      "[9, 6, 3]\n",
      "[[9, 6, 3], [8, 5, 2], [7, 4, 1]]\n"
     ]
    }
   ],
   "source": [
    "# Input matrix\n",
    "matrix = [\n",
    "    [1, 2, 3],\n",
    "    [4, 5, 6],\n",
    "    [7, 8, 9]\n",
    "]\n",
    "\n",
    "print(\"Input Matrix:\")\n",
    "for row in matrix:\n",
    "    print(row)\n",
    "\n",
    "# Transpose the matrix\n",
    "transpose = []\n",
    "\n",
    "# Loop through columns\n",
    "for i in range(len(matrix[0])):  # number of columns\n",
    "    new_row = []\n",
    "    for row in matrix:\n",
    "        new_row.append(row[i])\n",
    "    transpose.append(new_row)\n",
    "    \n",
    "# Output\n",
    "print(\"\\nTransposed Matrix:\")\n",
    "for row in transpose:\n",
    "    row.reverse()\n",
    "    print(row)\n",
    "\n",
    "transpose.reverse()\n",
    "print(transpose)\n",
    "\n",
    "\n",
    "\n",
    "\n",
    "    # print(row.)\n",
    "    #print(row.reverse())\n",
    "\n",
    "\n",
    "\n",
    "\n"
   ]
  },
  {
   "cell_type": "code",
   "execution_count": 40,
   "id": "e5b76be1",
   "metadata": {},
   "outputs": [
    {
     "name": "stdout",
     "output_type": "stream",
     "text": [
      "Input Matrix:\n",
      "[1, 2, 3]\n",
      "[4, 5, 6]\n",
      "[7, 8, 9]\n",
      "$$$$ 0\n",
      "[1]\n",
      "[1, 4]\n",
      "[1, 4, 7]\n",
      "$$$$ 1\n",
      "[2]\n",
      "[2, 5]\n",
      "[2, 5, 8]\n",
      "$$$$ 2\n",
      "[3]\n",
      "[3, 6]\n",
      "[3, 6, 9]\n",
      "\n",
      "Transposed Matrix:\n",
      "[1, 4, 7]\n",
      "[1, 4, 7]\n",
      "[1, 4, 7]\n",
      "[2, 5, 8]\n",
      "[2, 5, 8]\n",
      "[2, 5, 8]\n",
      "[3, 6, 9]\n",
      "[3, 6, 9]\n",
      "[3, 6, 9]\n"
     ]
    }
   ],
   "source": [
    "# Input matrix\n",
    "matrix = [\n",
    "    [1, 2, 3],\n",
    "    [4, 5, 6],\n",
    "    [7, 8, 9]\n",
    "]\n",
    "\n",
    "print(\"Input Matrix:\")\n",
    "for row in matrix:\n",
    "    print(row)\n",
    "\n",
    "# Transpose the matrix\n",
    "transpose = []\n",
    "\n",
    "# Loop through columns\n",
    "for i in range(len(matrix[0])): \n",
    "    print(\"$$$$\",i) # number of columns\n",
    "    new_row = []\n",
    "    for row in matrix:\n",
    "        new_row.append(row[i])\n",
    "        print(new_row)\n",
    "        transpose.append(new_row)\n",
    "\n",
    "# Output\n",
    "print(\"\\nTransposed Matrix:\")\n",
    "for row in transpose:\n",
    "    print(row)\n"
   ]
  },
  {
   "cell_type": "code",
   "execution_count": null,
   "id": "dd1fb3e4",
   "metadata": {},
   "outputs": [],
   "source": [
    "# Original matrix\n",
    "matrix = [\n",
    "    [1, 2, 3],\n",
    "    [4, 5, 6],\n",
    "    [7, 8, 9]\n",
    "]\n",
    "\n",
    "# Transpose using list comprehension\n",
    "transpose = [[row[i] for row in matrix] for i in range(len(matrix[0]))]\n",
    "\n",
    "# Display\n",
    "print(\"Original Matrix:\")\n",
    "for row in matrix:\n",
    "    print(row)\n",
    "\n",
    "print(\"\\nTransposed Matrix:\")\n",
    "for row in transpose:\n",
    "    print(row)\n"
   ]
  },
  {
   "cell_type": "code",
   "execution_count": null,
   "id": "e5627249",
   "metadata": {},
   "outputs": [],
   "source": [
    "# Input list\n",
    "nums = [10, 20, 4, 45, 99]\n",
    "print(\"Input List:\", nums)\n",
    "\n",
    "# Initialize first and second maximums\n",
    "first = second = float('-inf')  # smallest possible number\n",
    "\n",
    "# Traverse the list once\n",
    "for num in nums:\n",
    "    if num > first:\n",
    "        second = first   # update second before first\n",
    "        first = num\n",
    "    elif num > second and num != first:\n",
    "        second = num\n",
    "\n",
    "# Output\n",
    "print(\"Second Largest Element:\", second)\n"
   ]
  },
  {
   "cell_type": "markdown",
   "id": "70e59291",
   "metadata": {},
   "source": [
    "Flatten a Nested List"
   ]
  },
  {
   "cell_type": "code",
   "execution_count": null,
   "id": "b36facd7",
   "metadata": {},
   "outputs": [
    {
     "name": "stdout",
     "output_type": "stream",
     "text": [
      "Input Nested List: [1, [2, [3, [4, 5]]]]\n",
      "### 1\n",
      "0000 [1]\n",
      "$$$ [2, [3, [4, 5]]]\n",
      "### 2\n",
      "0000 [2]\n",
      "$$$ [3, [4, 5]]\n",
      "### 3\n",
      "0000 [3]\n",
      "$$$ [4, 5]\n",
      "### 4\n",
      "0000 [4]\n",
      "### 5\n",
      "0000 [4, 5]\n",
      "99999 [3, 4, 5]\n",
      "99999 [2, 3, 4, 5]\n",
      "99999 [1, 2, 3, 4, 5]\n",
      "Flattened List: [1, 2, 3, 4, 5]\n"
     ]
    }
   ],
   "source": [
    "# Input nested list\n",
    "nested_list = [1, [2, [3, [4, 5]]]]\n",
    "print(\"Input Nested List:\", nested_list)\n",
    "\n",
    "# Function to flatten the list\n",
    "def flatten(lst):\n",
    "    flat_list = []\n",
    "    for item in lst:\n",
    "        if isinstance(item, list):   \n",
    "            # print(\"$$$\",item)    # If item is a list → recurse\n",
    "            flat_list.extend(flatten(item))\n",
    "            # print(\"99999\",flat_list)\n",
    "        else: \n",
    "            # print(\"###\",item)                            # If item is not a list → append\n",
    "            flat_list.append(item)\n",
    "            # print(\"0000\",flat_list)\n",
    "    return flat_list\n",
    "\n",
    "# Flatten the nested list\n",
    "result = flatten(nested_list)\n",
    "\n",
    "# Output\n",
    "print(\"Flattened List:\", result)\n"
   ]
  },
  {
   "cell_type": "markdown",
   "id": "13c96fbf",
   "metadata": {},
   "source": [
    "| Step | num | first | second |\n",
    "| ---- | --- | ----- | ------ |\n",
    "| 10   | 10  | 10    | -inf   |\n",
    "| 20   | 20  | 20    | 10     |\n",
    "| 4    | 4   | 20    | 10     |\n",
    "| 45   | 45  | 45    | 20     |\n",
    "| 99   | 99  | 99    | 45     |\n",
    "\n",
    "\n",
    "\n",
    "Example:\n",
    "\n",
    "nums = [10, 20, 15, 5]\n",
    "\n",
    "\n",
    "Step num = 15:\n",
    "\n",
    "15 > first → 15 > 20 ❌ False\n",
    "\n",
    "15 > second → 15 > 10 ✅ True → second = 15 ✅\n"
   ]
  },
  {
   "cell_type": "markdown",
   "id": "3d8b2be1",
   "metadata": {},
   "source": [
    "17️⃣ Subarray with Given Sum\n",
    "Input: [1,2,3,7,5], target=12\n",
    "Output: [2,3,7]"
   ]
  },
  {
   "cell_type": "code",
   "execution_count": 47,
   "id": "2d231d64",
   "metadata": {},
   "outputs": [
    {
     "name": "stdout",
     "output_type": "stream",
     "text": [
      "Input Array: [1, 2, 3, 7, 5]\n",
      "Target Sum: 10\n",
      "Subarray with given sum: [3, 7]\n"
     ]
    }
   ],
   "source": [
    "# Input\n",
    "arr = [1, 2, 3, 7, 5]\n",
    "target = 10\n",
    "\n",
    "print(\"Input Array:\", arr)\n",
    "print(\"Target Sum:\", target)\n",
    "\n",
    "# Initialize pointers\n",
    "start = 0\n",
    "current_sum = 0\n",
    "\n",
    "# Traverse the array\n",
    "for end in range(len(arr)):\n",
    "    current_sum += arr[end]  # add current element\n",
    "\n",
    "    # Shrink the window from the left if sum > target\n",
    "    \n",
    "    while current_sum > target and start < end:\n",
    "        current_sum -= arr[start]\n",
    "        start += 1\n",
    "\n",
    "    # Check if we found the target sum\n",
    "    if current_sum == target:\n",
    "        print(\"Subarray with given sum:\", arr[start:end + 1])\n",
    "        break\n",
    "else:\n",
    "    print(\"No subarray found with the given sum.\")\n"
   ]
  },
  {
   "cell_type": "markdown",
   "id": "b2cfc3bf",
   "metadata": {},
   "source": [
    "8️⃣ Product of All Elements Except Self Input: [1,2,3,4] Output: [24,12,8,6]"
   ]
  },
  {
   "cell_type": "code",
   "execution_count": 50,
   "id": "7d5e835e",
   "metadata": {},
   "outputs": [
    {
     "name": "stdout",
     "output_type": "stream",
     "text": [
      "4\n"
     ]
    }
   ],
   "source": [
    "lst = [1,2,3,4]\n",
    "product = 1 \n",
    "for i in range(len(lst)):\n",
    "    if lst[i]:\n",
    "        continue\n",
    "print(lst[i])\n",
    "    \n",
    "\n"
   ]
  },
  {
   "cell_type": "code",
   "execution_count": 51,
   "id": "2cf5acd2",
   "metadata": {},
   "outputs": [
    {
     "name": "stdout",
     "output_type": "stream",
     "text": [
      "Input: [1, 2, 3, 4]\n",
      "Output: [24, 12, 8, 6]\n"
     ]
    }
   ],
   "source": [
    "def product_except_self(arr):\n",
    "    n = len(arr)\n",
    "    output = [1] * n\n",
    "    \n",
    "    # Step 1: Prefix product\n",
    "    prefix = 1\n",
    "    for i in range(n):\n",
    "        output[i] = prefix\n",
    "        prefix *= arr[i]\n",
    "    \n",
    "    # Step 2: Suffix product\n",
    "    suffix = 1\n",
    "    for i in range(n-1, -1, -1):\n",
    "        output[i] *= suffix\n",
    "        suffix *= arr[i]\n",
    "    \n",
    "    return output\n",
    "\n",
    "# Test\n",
    "arr = [1, 2, 3, 4]\n",
    "result = product_except_self(arr)\n",
    "print(\"Input:\", arr)\n",
    "print(\"Output:\", result)\n"
   ]
  },
  {
   "cell_type": "markdown",
   "id": "fcdfa7bd",
   "metadata": {},
   "source": [
    "Problem: Word Frequency and Unique Characters Analysis\n",
    "\n",
    "You are given a paragraph of text. Implement a Python program to:\n",
    "\n",
    "Split the paragraph into words.\n",
    "\n",
    "Count the frequency of each word (case-insensitive).\n",
    "\n",
    "Identify all unique characters in the paragraph.\n",
    "\n",
    "Return:\n",
    "\n",
    "Top 3 most frequent words with their counts.\n",
    "\n",
    "Set of all unique characters.\n",
    "\n",
    "Dictionary where keys are word lengths and values are lists of words of that length."
   ]
  },
  {
   "cell_type": "code",
   "execution_count": 3,
   "id": "3764da1d",
   "metadata": {},
   "outputs": [
    {
     "name": "stdout",
     "output_type": "stream",
     "text": [
      "['Data', 'science', 'is', 'fun.', 'Data', 'analysis', 'is', 'important.', 'Python', 'programming', 'is', 'amazing.']\n",
      "{'Data': 2, 'science': 1, 'is': 3, 'fun.': 1, 'analysis': 1, 'important.': 1, 'Python': 1, 'programming': 1, 'amazing.': 1}\n"
     ]
    }
   ],
   "source": [
    "paragraph = \"Data science is fun. Data analysis is important. Python programming is amazing.\"\n",
    "\n",
    "words = paragraph.split(\" \")\n",
    "print(words)\n",
    "my_dict = {}\n",
    "for i in words:\n",
    "    if i in my_dict:\n",
    "        my_dict[i] += 1\n",
    "    else:\n",
    "        my_dict[i] = 1\n",
    "print(my_dict)\n"
   ]
  },
  {
   "cell_type": "code",
   "execution_count": 8,
   "id": "c7759ad0",
   "metadata": {},
   "outputs": [
    {
     "name": "stdout",
     "output_type": "stream",
     "text": [
      "python is fun python programming is amazing fun and learning\n",
      "['python', 'is', 'fun', 'python', 'programming', 'is', 'amazing', 'fun', 'and', 'learning']\n"
     ]
    }
   ],
   "source": [
    "paragraph = \"Python is fun. Python programming is amazing. Fun and learning.\"\n",
    "\n",
    "    # 1. Remove punctuation (keep only letters, numbers, space)\n",
    "clean_text = ''\n",
    "for ch in paragraph:\n",
    "    if ch.isalnum() or ch.isspace():\n",
    "         clean_text += ch\n",
    "    # else:\n",
    "    #     clean_text += ch  # keep punctuation if needed\n",
    "clean_text = clean_text.lower()\n",
    "print(clean_text)\n",
    "    # 2. Split paragraph into words\n",
    "words = clean_text.split()\n",
    "\n",
    "print(words)"
   ]
  },
  {
   "cell_type": "code",
   "execution_count": 9,
   "id": "f728dbee",
   "metadata": {},
   "outputs": [
    {
     "name": "stdout",
     "output_type": "stream",
     "text": [
      "Most frequent words: [('python', 2), ('is', 2), ('fun.', 1)]\n",
      "Unique characters: {'p', 'd', 'z', ' ', 'y', 'l', 'P', 'a', 'm', 's', 'f', 'o', 'g', 'r', 'i', 'h', 'n', '.', 't', 'u', 'F', 'e'}\n",
      "Words by length: {6: ['python'], 2: ['is'], 4: ['fun.'], 11: ['programming'], 8: ['amazing.'], 3: ['fun', 'and'], 9: ['learning.']}\n"
     ]
    }
   ],
   "source": [
    "def analyze_paragraph(paragraph):\n",
    "    # 1. Remove punctuation (keep only letters, numbers, space)\n",
    "    clean_text = ''\n",
    "    for ch in paragraph:\n",
    "        if ch.isalnum() or ch.isspace():\n",
    "            clean_text += ch\n",
    "        else:\n",
    "            clean_text += ch  # keep punctuation if needed\n",
    "    clean_text = clean_text.lower()\n",
    "    \n",
    "    # 2. Split paragraph into words\n",
    "    words = clean_text.split()\n",
    "    \n",
    "    # 3. Count word frequency using dictionary\n",
    "    word_freq = {}\n",
    "    for word in words:\n",
    "        if word in word_freq:\n",
    "            word_freq[word] += 1\n",
    "        else:\n",
    "            word_freq[word] = 1\n",
    "    \n",
    "    # 4. Find top 3 most frequent words manually\n",
    "    top_words = []\n",
    "    temp_dict = word_freq.copy()\n",
    "    for _ in range(3):\n",
    "        if not temp_dict:\n",
    "            break\n",
    "        max_word = max(temp_dict, key=temp_dict.get)\n",
    "        top_words.append((max_word, temp_dict[max_word]))\n",
    "        temp_dict.pop(max_word)\n",
    "    \n",
    "    # 5. Find unique characters using set\n",
    "    unique_chars = set(paragraph)\n",
    "    \n",
    "    # 6. Create dictionary of word lengths\n",
    "    words_by_length = {}\n",
    "    for word in words:\n",
    "        length = len(word)\n",
    "        if length not in words_by_length:\n",
    "            words_by_length[length] = [word]\n",
    "        else:\n",
    "            if word not in words_by_length[length]:  # avoid duplicates\n",
    "                words_by_length[length].append(word)\n",
    "    \n",
    "    return top_words, unique_chars, words_by_length\n",
    "\n",
    "# Example usage\n",
    "paragraph = \"Python is fun. Python programming is amazing. Fun and learning.\"\n",
    "top_words, unique_chars, words_by_length = analyze_paragraph(paragraph)\n",
    "\n",
    "print(\"Most frequent words:\", top_words)\n",
    "print(\"Unique characters:\", unique_chars)\n",
    "print(\"Words by length:\", words_by_length)\n"
   ]
  },
  {
   "cell_type": "code",
   "execution_count": null,
   "id": "e91a4a4e",
   "metadata": {},
   "outputs": [],
   "source": [
    "\n",
    "# Most frequent words: [('is', 3), ('data', 2), ('science', 1)]\n",
    "# Unique characters: {'a', 'c', 'd', 'e', 'f', 'g', 'h', 'i', 'l', 'm', 'n', 'o', 'p', 'r', 's', 't', 'u', 'y', '.'}\n",
    "# Words by length: {2: ['is'], 3: ['fun'], 4: ['data', 'Python'], 5: ['amazing'], 7: ['science'], 9: ['analysis'], 11: ['programming']}\n"
   ]
  },
  {
   "cell_type": "markdown",
   "id": "26d92041",
   "metadata": {},
   "source": [
    "# ALL METHODS OF LIST\n"
   ]
  },
  {
   "cell_type": "code",
   "execution_count": null,
   "id": "ea014124",
   "metadata": {},
   "outputs": [],
   "source": [
    "lst = [1, 2]\n",
    "lst.extend([3, 4])\n",
    "print(lst)  # [1, 2, 3, 4]\n"
   ]
  }
 ],
 "metadata": {
  "kernelspec": {
   "display_name": "Python 3",
   "language": "python",
   "name": "python3"
  },
  "language_info": {
   "codemirror_mode": {
    "name": "ipython",
    "version": 3
   },
   "file_extension": ".py",
   "mimetype": "text/x-python",
   "name": "python",
   "nbconvert_exporter": "python",
   "pygments_lexer": "ipython3",
   "version": "3.10.0"
  }
 },
 "nbformat": 4,
 "nbformat_minor": 5
}
