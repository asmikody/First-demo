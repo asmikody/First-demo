{
 "cells": [
  {
   "cell_type": "code",
   "execution_count": 2,
   "id": "dbb5e159",
   "metadata": {},
   "outputs": [
    {
     "name": "stdout",
     "output_type": "stream",
     "text": [
      "{0, 1, 2, 3, 4}\n",
      "{3, 4, 5, 6, 7, 8}\n",
      " Difference of two sets using difference() function\n",
      "{0, 1, 2}\n",
      "\n",
      "Difference of two sets using '-' operator\n",
      "{0, 1, 2}\n"
     ]
    }
   ],
   "source": [
    "# Python program to\n",
    "# demonstrate difference\n",
    "# of two sets\n",
    "\n",
    "set1 = set()\n",
    "set2 = set()\n",
    "\n",
    "for i in range(5):\n",
    "    set1.add(i)\n",
    "print(set1)\n",
    "for i in range(3,9):\n",
    "    set2.add(i)\n",
    "print(set2)\n",
    "# Difference of two sets\n",
    "# using difference() function\n",
    "set3 = set1.difference(set2)\n",
    "\n",
    "print(\" Difference of two sets using difference() function\")\n",
    "print(set3)\n",
    "\n",
    "# Difference of two sets\n",
    "# using '-' operator\n",
    "set3 = set1 - set2\n",
    "\n",
    "print(\"\\nDifference of two sets using '-' operator\")\n",
    "print(set3)"
   ]
  },
  {
   "cell_type": "code",
   "execution_count": 4,
   "id": "e46f9578",
   "metadata": {},
   "outputs": [
    {
     "name": "stdout",
     "output_type": "stream",
     "text": [
      "{2: None, 3: None, 7: None, 5: None}\n",
      "Distinct elements (order preserved): [2, 3, 7, 5]\n"
     ]
    }
   ],
   "source": [
    "arr = [2, 2, 3, 3, 7, 5]\n",
    "print(dict.fromkeys(arr))\n",
    "\n",
    "# dict.fromkeys() creates keys from list, which are unique\n",
    "distinct_elements = list(dict.fromkeys(arr))\n",
    "\n",
    "print(\"Distinct elements (order preserved):\", distinct_elements)\n"
   ]
  },
  {
   "cell_type": "code",
   "execution_count": 5,
   "id": "0568a7f4",
   "metadata": {},
   "outputs": [
    {
     "name": "stdout",
     "output_type": "stream",
     "text": [
      "Original sets:\n",
      "{'green', 'blue'}\n",
      "{'blue', 'yellow'}\n",
      "\n",
      "Symmetric difference of setc1 - setc2:\n",
      "{'green', 'yellow'}\n",
      "\n",
      "Symmetric difference of setc2 - setc1:\n",
      "{'green', 'yellow'}\n",
      "\n",
      "Original sets:\n",
      "{1, 2, 3, 4, 5}\n",
      "{1, 5, 6, 7, 8, 9}\n",
      "\n",
      "Symmetric difference of setn1 - setn2:\n",
      "{2, 3, 4, 6, 7, 8, 9}\n",
      "\n",
      "Symmetric difference of setn2 - setn1:\n",
      "{2, 3, 4, 6, 7, 8, 9}\n"
     ]
    }
   ],
   "source": [
    "# Create a set 'setc1' with elements \"green\" and \"blue\":\n",
    "setc1 = set([\"green\", \"blue\"])\n",
    "\n",
    "# Create a set 'setc2' with elements \"blue\" and \"yellow\":\n",
    "setc2 = set([\"blue\", \"yellow\"])\n",
    "\n",
    "# Print a message to indicate the original sets:\n",
    "print(\"Original sets:\")\n",
    "\n",
    "# Print the contents of 'setc1' and 'setc2':\n",
    "print(setc1)\n",
    "print(setc2)\n",
    "\n",
    "# Calculate the symmetric difference of 'setc1' and 'setc2' and store it in 'r1':\n",
    "r1 = setc1.symmetric_difference(setc2)\n",
    "\n",
    "# Print a message to indicate the symmetric difference of 'setc1 - setc2':\n",
    "print(\"\\nSymmetric difference of setc1 - setc2:\")\n",
    "\n",
    "# Print the result 'r1', which contains elements that are unique to each of 'setc1' and 'setc2':\n",
    "print(r1)\n",
    "\n",
    "# Calculate the symmetric difference of 'setc2' and 'setc1' and store it in 'r2':\n",
    "r2 = setc2.symmetric_difference(setc1)\n",
    "\n",
    "# Print a message to indicate the symmetric difference of 'setc2 - setc1':\n",
    "print(\"\\nSymmetric difference of setc2 - setc1:\")\n",
    "\n",
    "# Print the result 'r2', which is the same as 'r1' and contains elements unique to each set:\n",
    "print(r2)\n",
    "\n",
    "# Create a set 'setn1' with repeated elements, including 1, 2, 3, 4, and 5:\n",
    "setn1 = set([1, 1, 2, 3, 4, 5])\n",
    "\n",
    "# Create a set 'setn2' with elements including 1, 5, 6, 7, 8, and 9:\n",
    "setn2 = set([1, 5, 6, 7, 8, 9])\n",
    "\n",
    "# Print a message to indicate the original sets:\n",
    "print(\"\\nOriginal sets:\")\n",
    "\n",
    "# Print the contents of 'setn1' and 'setn2':\n",
    "print(setn1)\n",
    "print(setn2)\n",
    "\n",
    "# Calculate the symmetric difference of 'setn1' and 'setn2' and store it in 'r1':\n",
    "r1 = setn1.symmetric_difference(setn2)\n",
    "\n",
    "# Print a message to indicate the symmetric difference of 'setn1 - setn2':\n",
    "print(\"\\nSymmetric difference of setn1 - setn2:\")\n",
    "\n",
    "# Print the result 'r1', which contains elements unique to each of 'setn1' and 'setn2':\n",
    "print(r1)\n",
    "\n",
    "# Calculate the symmetric difference of 'setn2' and 'setn1' and store it in 'r2':\n",
    "r2 = setn2.symmetric_difference(setn1)\n",
    "\n",
    "# Print a message to indicate the symmetric difference of 'setn2 - setn1':\n",
    "print(\"\\nSymmetric difference of setn2 - setn1:\")\n",
    "\n",
    "# Print the result 'r2', which is the same as 'r1' and contains elements unique to each set:\n",
    "print(r2)"
   ]
  },
  {
   "cell_type": "code",
   "execution_count": 6,
   "id": "8f6b2370",
   "metadata": {},
   "outputs": [
    {
     "ename": "NameError",
     "evalue": "name 'setc' is not defined",
     "output_type": "error",
     "traceback": [
      "\u001b[31m---------------------------------------------------------------------------\u001b[39m",
      "\u001b[31mNameError\u001b[39m                                 Traceback (most recent call last)",
      "\u001b[36mCell\u001b[39m\u001b[36m \u001b[39m\u001b[32mIn[6]\u001b[39m\u001b[32m, line 2\u001b[39m\n\u001b[32m      1\u001b[39m \u001b[38;5;66;03m# Use the 'clear()' method to remove all elements from 'setc'.\u001b[39;00m\n\u001b[32m----> \u001b[39m\u001b[32m2\u001b[39m \u001b[43msetc\u001b[49m.clear()\n",
      "\u001b[31mNameError\u001b[39m: name 'setc' is not defined"
     ]
    }
   ],
   "source": [
    "# Use the 'clear()' method to remove all elements from 'setc'.\n",
    "setc.clear()"
   ]
  },
  {
   "cell_type": "code",
   "execution_count": 9,
   "id": "02fd092e",
   "metadata": {},
   "outputs": [
    {
     "name": "stdout",
     "output_type": "stream",
     "text": [
      "Unique words: ['apple', 'banana', 'orange']\n",
      "Frequency count: {'apple': 3, 'banana': 2, 'orange': 1}\n"
     ]
    }
   ],
   "source": [
    "words = [\"apple\", \"banana\", \"apple\", \"orange\", \"banana\", \"apple\"]\n",
    "\n",
    "# Create an empty dictionary to store frequency\n",
    "freq = {}\n",
    "\n",
    "for word in words:\n",
    "    if word in freq:\n",
    "        freq[word] += 1\n",
    "    else:\n",
    "        freq[word] = 1\n",
    "\n",
    "# Get unique words\n",
    "unique_words = list(freq.keys())\n",
    "\n",
    "print(\"Unique words:\", unique_words)\n",
    "print(\"Frequency count:\", freq)\n"
   ]
  },
  {
   "cell_type": "code",
   "execution_count": 14,
   "id": "fce7c56e",
   "metadata": {},
   "outputs": [
    {
     "name": "stdout",
     "output_type": "stream",
     "text": [
      "{'kaaa', 'adi', 'kii', 'asmi'}\n",
      "{'kaaa': 3, 'adi': 2, 'kii': 2, 'asmi': 3}\n"
     ]
    }
   ],
   "source": [
    "def word_count(words):\n",
    "    word_set = set(words)\n",
    "    print(word_set)\n",
    "    word_counts = {}\n",
    "    for word in word_set:\n",
    "        word_counts[word] = words.count(word)\n",
    "    return word_counts\n",
    "words = [\"asmi\",\"adi\",\"kii\",\"kaaa\",\"adi\",\"asmi\",\"asmi\",'kii','kaaa','kaaa']\n",
    "print(word_count(words))"
   ]
  },
  {
   "cell_type": "code",
   "execution_count": 17,
   "id": "ef32d589",
   "metadata": {},
   "outputs": [
    {
     "name": "stdout",
     "output_type": "stream",
     "text": [
      "{'f'}\n",
      "$$ f\n",
      "{'l'}\n",
      "$$ fl\n",
      "{'i', 'o'}\n",
      "Longest Common Prefix: fl\n"
     ]
    }
   ],
   "source": [
    "def longest_common_prefix(strings):\n",
    "    if not strings:\n",
    "        return \"\"\n",
    "    \n",
    "    prefix = \"\"\n",
    "    \n",
    "    # Loop through each index of the first string\n",
    "    for i in range(len(strings[0])):\n",
    "        # Create a set of characters at position i from all strings\n",
    "        chars = {s[i] for s in strings if i < len(s)}\n",
    "        print(chars)\n",
    "        \n",
    "        # If all characters are the same, add to prefix\n",
    "        if len(chars) == 1:\n",
    "     \n",
    "            prefix += strings[0][i]\n",
    "            print(\"$$\",prefix)\n",
    "        else:\n",
    "            break\n",
    "    \n",
    "    return prefix\n",
    "\n",
    "# Example\n",
    "strings = [\"flower\", \"flow\", \"flight\"]\n",
    "print(\"Longest Common Prefix:\", longest_common_prefix(strings))\n"
   ]
  },
  {
   "cell_type": "code",
   "execution_count": 20,
   "id": "8760b091",
   "metadata": {},
   "outputs": [],
   "source": [
    "def max_product(nums):\n",
    "    nums_set = set(nums)\n",
    "    max_product = float('-inf')\n",
    "    max_num1 = None\n",
    "    max_num2 = None\n",
    "    \n",
    "    for n1 in nums_set:\n",
    "        for n2 in nums_set:\n",
    "            if n1 != n2 and n1 * n2 > max_product:\n",
    "                max_product = n1 * n2\n",
    "                max_num1 = n1\n",
    "                max_num2 = n2\n",
    "    \n",
    "    return (max_num1, max_num2)\n"
   ]
  },
  {
   "cell_type": "code",
   "execution_count": 19,
   "id": "32c47de0",
   "metadata": {},
   "outputs": [],
   "source": [
    "def third_largest(nums):\n",
    "    nums = set(nums)  # Remove duplicates\n",
    "    if len(nums) < 3:\n",
    "        return None  # Not enough elements for a third largest\n",
    "    nums = list(nums)\n",
    "    nums.sort(reverse=True)  # Sort descending\n",
    "    return nums[2]  # Third largest element\n"
   ]
  },
  {
   "cell_type": "code",
   "execution_count": 21,
   "id": "44a4b97a",
   "metadata": {},
   "outputs": [
    {
     "name": "stdout",
     "output_type": "stream",
     "text": [
      "Unique triplets: [(-1, 0, 1), (-2, 0, 2), (-1, -1, 2), (-2, 1, 1)]\n"
     ]
    }
   ],
   "source": [
    "def three_sum(nums, target):\n",
    "    triplets = set()  # Use set to avoid duplicates\n",
    "    n = len(nums)\n",
    "    \n",
    "    for i in range(n):\n",
    "        for j in range(i+1, n):\n",
    "            for k in range(j+1, n):\n",
    "                if nums[i] + nums[j] + nums[k] == target:\n",
    "                    # Sort the triplet so that set can detect duplicates\n",
    "                    triplet = tuple(sorted([nums[i], nums[j], nums[k]]))\n",
    "                    triplets.add(triplet)\n",
    "    \n",
    "    return list(triplets)\n",
    "\n",
    "# Example\n",
    "nums = [1, 2, -1, 0, -2, 1, -1]\n",
    "target = 0\n",
    "print(\"Unique triplets:\", three_sum(nums, target))\n"
   ]
  },
  {
   "cell_type": "code",
   "execution_count": 22,
   "id": "a3c6bfff",
   "metadata": {},
   "outputs": [
    {
     "name": "stdout",
     "output_type": "stream",
     "text": [
      "Numbers in set1 but missing in set2: {1, 3}\n",
      "Numbers in set2 but missing in set1: {6, 7}\n"
     ]
    }
   ],
   "source": [
    "# Define two sets\n",
    "set1 = {1, 2, 3, 4, 5}\n",
    "set2 = {2, 4, 5, 6, 7}\n",
    "\n",
    "# Numbers in set1 but not in set2\n",
    "missing_in_set2 = set1 - set2  # or set1.difference(set2)\n",
    "\n",
    "# Numbers in set2 but not in set1\n",
    "missing_in_set1 = set2 - set1  # or set2.difference(set1)\n",
    "\n",
    "print(\"Numbers in set1 but missing in set2:\", missing_in_set2)\n",
    "print(\"Numbers in set2 but missing in set1:\", missing_in_set1)\n"
   ]
  },
  {
   "cell_type": "code",
   "execution_count": null,
   "id": "0ab35f09",
   "metadata": {},
   "outputs": [],
   "source": []
  }
 ],
 "metadata": {
  "kernelspec": {
   "display_name": "Python 3",
   "language": "python",
   "name": "python3"
  },
  "language_info": {
   "codemirror_mode": {
    "name": "ipython",
    "version": 3
   },
   "file_extension": ".py",
   "mimetype": "text/x-python",
   "name": "python",
   "nbconvert_exporter": "python",
   "pygments_lexer": "ipython3",
   "version": "3.11.0"
  }
 },
 "nbformat": 4,
 "nbformat_minor": 5
}
