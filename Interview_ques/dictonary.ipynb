{
 "cells": [
  {
   "cell_type": "code",
   "execution_count": 1,
   "id": "e4c93380",
   "metadata": {},
   "outputs": [
    {
     "name": "stdout",
     "output_type": "stream",
     "text": [
      "1906263836352\n",
      "[1, 2, 3, 4]\n",
      "1906263836352\n"
     ]
    }
   ],
   "source": [
    "numbers = [1, 2, 3]\n",
    "print(id(numbers))  # memory address before change\n",
    "\n",
    "numbers.append(4)\n",
    "print(numbers)      # [1, 2, 3, 4]\n",
    "print(id(numbers))  # same memory address → changed in place\n"
   ]
  },
  {
   "cell_type": "code",
   "execution_count": 2,
   "id": "3ad63549",
   "metadata": {},
   "outputs": [
    {
     "name": "stdout",
     "output_type": "stream",
     "text": [
      "1906263864624\n",
      "asmi jain\n",
      "1906263537200\n"
     ]
    }
   ],
   "source": [
    "name = \"asmi\"\n",
    "print(id(name))  # memory address before\n",
    "\n",
    "name = name + \" jain\"\n",
    "print(name)      # 'asmi jain'\n",
    "print(id(name))  # new memory address → new object created\n"
   ]
  },
  {
   "cell_type": "code",
   "execution_count": 3,
   "id": "14c0c498",
   "metadata": {},
   "outputs": [
    {
     "name": "stdout",
     "output_type": "stream",
     "text": [
      "1906263834112\n",
      "(1, 2, 3, 4)\n",
      "1906263389536\n"
     ]
    }
   ],
   "source": [
    "t = (1, 2, 3)\n",
    "print(id(t))\n",
    "\n",
    "t = t + (4,)\n",
    "print(t)\n",
    "print(id(t))  # new memory address → tuple is immutable\n"
   ]
  },
  {
   "cell_type": "code",
   "execution_count": 4,
   "id": "720c9975",
   "metadata": {},
   "outputs": [
    {
     "name": "stdout",
     "output_type": "stream",
     "text": [
      "1906261675360\n",
      "{1, 2, 3, 4}\n",
      "1906261675360\n"
     ]
    }
   ],
   "source": [
    "s = {1, 2, 3}\n",
    "print(id(s))\n",
    "\n",
    "s.add(4)\n",
    "print(s)\n",
    "print(id(s))  # same ID → modified in place\n"
   ]
  },
  {
   "cell_type": "code",
   "execution_count": 5,
   "id": "4d83e53f",
   "metadata": {},
   "outputs": [
    {
     "name": "stdout",
     "output_type": "stream",
     "text": [
      "1906263897536\n",
      "{'name': 'asmi', 'age': 22}\n",
      "1906263897536\n"
     ]
    }
   ],
   "source": [
    "d = {\"name\": \"asmi\", \"age\": 21}\n",
    "print(id(d))\n",
    "\n",
    "d[\"age\"] = 22\n",
    "print(d)\n",
    "print(id(d))  # same ID → mutable\n"
   ]
  },
  {
   "cell_type": "code",
   "execution_count": 6,
   "id": "345b4c62",
   "metadata": {},
   "outputs": [
    {
     "name": "stdout",
     "output_type": "stream",
     "text": [
      "{1: 'Geeks', 2: 'For', 3: 'Geeks'}\n",
      "{'a': 'Geeks', 'b': 'for', 'c': 'Geeks'}\n"
     ]
    }
   ],
   "source": [
    "d1 = {1: 'Geeks', 2: 'For', 3: 'Geeks'}\n",
    "print(d1)\n",
    "\n",
    "# create dictionary using dict() constructor\n",
    "d2 = dict(a = \"Geeks\", b = \"for\", c = \"Geeks\")\n",
    "print(d2)"
   ]
  },
  {
   "cell_type": "code",
   "execution_count": 7,
   "id": "416ee930",
   "metadata": {},
   "outputs": [
    {
     "name": "stdout",
     "output_type": "stream",
     "text": [
      "Prajjwal\n",
      "Prajjwal\n"
     ]
    }
   ],
   "source": [
    "d = { \"name\": \"Prajjwal\", 1: \"Python\", (1, 2): [1,2,4] }\n",
    "\n",
    "# Access using key\n",
    "print(d[\"name\"])\n",
    "\n",
    "# Access using get()\n",
    "print(d.get(\"name\"))"
   ]
  },
  {
   "cell_type": "code",
   "execution_count": 10,
   "id": "66428cb1",
   "metadata": {},
   "outputs": [
    {
     "name": "stdout",
     "output_type": "stream",
     "text": [
      "{1: 'Geeks', 2: 'For', 3: 'Geeks'}\n",
      "Geeks\n",
      "Key: 3, Value: Geeks\n",
      "{2: 'For'}\n",
      "{}\n"
     ]
    }
   ],
   "source": [
    "d = {1: 'Geeks', 2: 'For', 3: 'Geeks', 'age':22}\n",
    "\n",
    "# Using del to remove an item\n",
    "del d[\"age\"]\n",
    "print(d)\n",
    "\n",
    "# Using pop() to remove an item and return the value\n",
    "val = d.pop(1)\n",
    "print(val)\n",
    "\n",
    "# Using popitem to removes and returns\n",
    "# the last key-value pair.\n",
    "key, val = d.popitem()\n",
    "print(f\"Key: {key}, Value: {val}\")\n",
    "print(d)\n",
    "\n",
    "\n",
    "d.clear()\n",
    "print(d)\n"
   ]
  },
  {
   "cell_type": "code",
   "execution_count": 11,
   "id": "a382db44",
   "metadata": {},
   "outputs": [
    {
     "name": "stdout",
     "output_type": "stream",
     "text": [
      "1\n",
      "2\n",
      "age\n"
     ]
    }
   ],
   "source": [
    "d = {1: 'Geeks', 2: 'For', 'age':22}\n",
    "\n",
    "# Iterate over keys\n",
    "for key in d:\n",
    "    print(key)"
   ]
  },
  {
   "cell_type": "code",
   "execution_count": 12,
   "id": "d32a107d",
   "metadata": {},
   "outputs": [
    {
     "name": "stdout",
     "output_type": "stream",
     "text": [
      "Geeks\n",
      "For\n",
      "22\n"
     ]
    }
   ],
   "source": [
    "\n",
    "# Iterate over values\n",
    "for value in d.values():\n",
    "    print(value)"
   ]
  },
  {
   "cell_type": "code",
   "execution_count": 14,
   "id": "0502d23c",
   "metadata": {},
   "outputs": [
    {
     "name": "stdout",
     "output_type": "stream",
     "text": [
      "1: Geeks\n",
      "2: For\n",
      "age: 22\n"
     ]
    }
   ],
   "source": [
    "\n",
    "# Iterate over key-value pairs\n",
    "for key, value in d.items():\n",
    "    print(f\"{key}: {value}\")"
   ]
  },
  {
   "cell_type": "code",
   "execution_count": 15,
   "id": "23af5eb6",
   "metadata": {},
   "outputs": [
    {
     "name": "stdout",
     "output_type": "stream",
     "text": [
      "The newly created dict with None values : {'c': None, 'a': None, 'e': None, 'b': None, 'd': None}\n",
      "The newly created dict with 1 as value : {'c': 1, 'a': 1, 'e': 1, 'b': 1, 'd': 1}\n"
     ]
    }
   ],
   "source": [
    "seq = {'a', 'b', 'c', 'd', 'e'}\n",
    "\n",
    "# creating dict with default values as None\n",
    "res_dict = dict.fromkeys(seq)\n",
    "\n",
    "print(\"The newly created dict with None values : \" + str(res_dict))\n",
    "\n",
    "# creating dict with default values as 1\n",
    "res_dict2 = dict.fromkeys(seq, 1)\n",
    "\n",
    "print(\"The newly created dict with 1 as value : \" + str(res_dict2))"
   ]
  },
  {
   "cell_type": "code",
   "execution_count": 16,
   "id": "cabb0b36",
   "metadata": {},
   "outputs": [
    {
     "name": "stdout",
     "output_type": "stream",
     "text": [
      "The newly created dict with list values : {'c': [2, 3], 'a': [2, 3], 'e': [2, 3], 'b': [2, 3], 'd': [2, 3]}\n"
     ]
    }
   ],
   "source": [
    "seq = {'a', 'b', 'c', 'd', 'e'}\n",
    "lis1 = [2, 3]\n",
    "\n",
    "res_dict = dict.fromkeys(seq, lis1)\n",
    "\n",
    "# Printing created dict\n",
    "print(\"The newly created dict with list values : \"\n",
    "      + str(res_dict))\n"
   ]
  },
  {
   "cell_type": "code",
   "execution_count": 19,
   "id": "67a2c25b",
   "metadata": {},
   "outputs": [
    {
     "name": "stdout",
     "output_type": "stream",
     "text": [
      "{'c': [2, 3, 4], 'a': [2, 3, 4], 'e': [2, 3, 4], 'b': [2, 3, 4], 'd': [2, 3, 4]}\n"
     ]
    }
   ],
   "source": [
    "\n",
    "# appending to lis1\n",
    "lis1.append(4)\n",
    "\n",
    "print(str(res_dict))"
   ]
  },
  {
   "cell_type": "code",
   "execution_count": 21,
   "id": "1d6fff93",
   "metadata": {},
   "outputs": [
    {
     "name": "stdout",
     "output_type": "stream",
     "text": [
      "\n",
      "\n",
      "{'c': [2, 3], 'a': [2, 3], 'e': [2, 3], 'b': [2, 3], 'd': [2, 3]}\n"
     ]
    }
   ],
   "source": [
    "lis1 = [2, 3]\n",
    "print('\\n')\n",
    "\n",
    "# using fromkeys() to convert sequence to dict\n",
    "# using dict. comprehension\n",
    "res_dict2 = {key: list(lis1) for key in seq}\n",
    "\n",
    "# Printing created dict\n",
    "print(str(res_dict2))"
   ]
  },
  {
   "cell_type": "markdown",
   "id": "216f7dbb",
   "metadata": {},
   "source": [
    "Find all duplicate characters in string in Python"
   ]
  },
  {
   "cell_type": "code",
   "execution_count": null,
   "id": "f434a156",
   "metadata": {},
   "outputs": [
    {
     "name": "stdout",
     "output_type": "stream",
     "text": [
      "{'G': 2, 'e': 4, 'k': 2, 's': 2, 'f': 1, 'o': 1, 'r': 1}\n",
      "['G', 'e', 'k', 's']\n"
     ]
    }
   ],
   "source": [
    "s = \"GeeksforGeeks\"\n",
    "d = {}\n",
    "res = []\n",
    "\n",
    "# Count characters\n",
    "for c in s:\n",
    "    d[c] = d.get(c, 0) + 1\n",
    "print(d)\n",
    "# Find duplicate\n",
    "for c, cnt in d.items():\n",
    "    if cnt > 1:\n",
    "        res.append(c)\n",
    " \n",
    "print(res)"
   ]
  },
  {
   "cell_type": "code",
   "execution_count": 14,
   "id": "5485c2ae",
   "metadata": {},
   "outputs": [
    {
     "name": "stdout",
     "output_type": "stream",
     "text": [
      "Result: [5, 7, 'Best']\n"
     ]
    }
   ],
   "source": [
    "# Input\n",
    "test_list = [\"Gfg\", \"is\", \"Best\"]\n",
    "subs_dict = {\"Gfg\": [5, 6, 7], \"is\": [7, 4, 2]}\n",
    "K = 0\n",
    "\n",
    "# Replace each word by its Kth dictionary value (if exists)\n",
    "res = []\n",
    "\n",
    "for word in test_list:\n",
    "    if word in subs_dict:\n",
    "        res.append(subs_dict[word][K])   # Replace with Kth value\n",
    "    else:\n",
    "        res.append(word)                  # Keep original word\n",
    "\n",
    "print(\"Result:\", res)\n"
   ]
  },
  {
   "cell_type": "code",
   "execution_count": 15,
   "id": "1a1d0219",
   "metadata": {},
   "outputs": [
    {
     "name": "stdout",
     "output_type": "stream",
     "text": [
      "Result: ['cat', 'dog', 5, 7]\n"
     ]
    }
   ],
   "source": [
    "# Input\n",
    "test_list = [\"cat\", \"dog\", \"rat\", \"fish\"]\n",
    "subs_dict = {\"cat\": [1, 2], \"rat\": [3, 4, 5], \"fish\": [9, 8, 7]}\n",
    "K = 2\n",
    "\n",
    "# Safer replacement\n",
    "res = []\n",
    "\n",
    "for word in test_list:\n",
    "    if word in subs_dict and len(subs_dict[word]) > K:\n",
    "        res.append(subs_dict[word][K])  # Replace with Kth value\n",
    "    else:\n",
    "        res.append(word)                # Keep original if not found or invalid index\n",
    "\n",
    "print(\"Result:\", res)\n"
   ]
  },
  {
   "cell_type": "code",
   "execution_count": 16,
   "id": "52a1b5f8",
   "metadata": {},
   "outputs": [
    {
     "name": "stdout",
     "output_type": "stream",
     "text": [
      "B\n",
      "3\n"
     ]
    }
   ],
   "source": [
    "d = {\"A\": [1, 2, 2], \"B\": [3, 4, 5, 3], \"C\": [6, 7, 7, 8]}\n",
    "\n",
    "max_key = None\n",
    "max_unique = 0 \n",
    "for key, values in d.items():\n",
    "    unique_count =  len(set(values))\n",
    "    if unique_count > max_unique:\n",
    "        max_unique = unique_count\n",
    "        max_key = key\n",
    "print(max_key)\n",
    "print(max_unique)"
   ]
  },
  {
   "cell_type": "code",
   "execution_count": 17,
   "id": "3a90d946",
   "metadata": {},
   "outputs": [
    {
     "name": "stdout",
     "output_type": "stream",
     "text": [
      "is\n"
     ]
    }
   ],
   "source": [
    "d = {\"Gfg\": [5, 7, 5, 4, 5], \"is\": [6, 7, 4, 3, 3], \"Best\": [9, 9, 6, 5, 5]}\n",
    "\n",
    "max_key = max(d, key=lambda k: len(set(d[k])))\n",
    "print(max_key)"
   ]
  },
  {
   "cell_type": "code",
   "execution_count": 20,
   "id": "211599ed",
   "metadata": {},
   "outputs": [
    {
     "name": "stdout",
     "output_type": "stream",
     "text": [
      "['geeks', 'for', 'geeks']\n",
      "['geeks', 'for']\n",
      "geeks for\n"
     ]
    }
   ],
   "source": [
    "s = \"geeks for geeks\"\n",
    "s1 = s.split()\n",
    "print(s1)\n",
    "s3 = list(set(s1))\n",
    "print(s3)\n",
    "s4 = ' '.join(s3)\n",
    "print(s4)"
   ]
  },
  {
   "cell_type": "code",
   "execution_count": 21,
   "id": "5fc6e349",
   "metadata": {},
   "outputs": [
    {
     "name": "stdout",
     "output_type": "stream",
     "text": [
      "Geeks for\n"
     ]
    }
   ],
   "source": [
    "s1 = \"Geeks for Geeks\"\n",
    "s2 = s1.split()  # Split the sentence into words\n",
    "\n",
    "# Use a dictionary to remove duplicates and preserve order\n",
    "s3 = list(dict.fromkeys(s2))\n",
    "\n",
    "# Join the list back into a sentence\n",
    "s4 = ' '.join(s3)\n",
    "print(s4)"
   ]
  },
  {
   "cell_type": "code",
   "execution_count": null,
   "id": "c40de6a6",
   "metadata": {},
   "outputs": [],
   "source": []
  },
  {
   "cell_type": "code",
   "execution_count": 2,
   "id": "64cf3443",
   "metadata": {},
   "outputs": [
    {
     "name": "stdout",
     "output_type": "stream",
     "text": [
      "hi earth, have a wonderful day\n"
     ]
    }
   ],
   "source": [
    "# Input string\n",
    "s = \"hello world, have a great day\"\n",
    "\n",
    "# Dictionary of words to replace\n",
    "r_dict = {\"hello\": \"hi\", \"world\": \"earth\", \"great\": \"wonderful\"}\n",
    "\n",
    "# Replace words in the string using a loop\n",
    "for o_word, n_word in r_dict.items():\n",
    "    s = s.replace(o_word, n_word)\n",
    "\n",
    "# Print the result\n",
    "print(s)"
   ]
  },
  {
   "cell_type": "code",
   "execution_count": 5,
   "id": "ad946f0c",
   "metadata": {},
   "outputs": [
    {
     "name": "stdout",
     "output_type": "stream",
     "text": [
      "['hello', 'world,', 'have', 'a', 'great', 'day']\n",
      "['hi', 'world,', 'have', 'a', 'wonderful', 'day']\n",
      "hi world, have a wonderful day\n"
     ]
    }
   ],
   "source": [
    "# Input string\n",
    "s = \"hello world, have a great day\"\n",
    "print(s.split())\n",
    "# Dictionary of words to replace\n",
    "r_dict = {\"hello\": \"hi\", \"world\": \"earth\", \"great\": \"wonderful\"}\n",
    "res = [r_dict.get(word, word) for word in s.split()]\n",
    "print(res)\n",
    "# Replace words using list comprehension and join\n",
    "result = ' '.join([r_dict.get(word, word) for word in s.split()])\n",
    "\n",
    "# Print the result\n",
    "print(result)"
   ]
  },
  {
   "cell_type": "code",
   "execution_count": 12,
   "id": "6d4673e1",
   "metadata": {},
   "outputs": [
    {
     "name": "stdout",
     "output_type": "stream",
     "text": [
      "['Geeks', 'for', 'Geeks']\n",
      "{'Geeks': None, 'for': None}\n",
      "['Geeks', 'for']\n",
      "Geeks for\n"
     ]
    }
   ],
   "source": [
    "s1 = \"Geeks for Geeks\"\n",
    "s2 = s1.split()  # Split the sentence into words\n",
    "print(s2)\n",
    "# Use a dictionary to remove duplicates and preserve order\n",
    "s3 = dict.fromkeys(s2)\n",
    "print(s3)\n",
    "s4 = list(s3)\n",
    "print(s4)\n",
    "# Join the list back into a sentence\n",
    "s4 = ' '.join(s4)\n",
    "print(s4)"
   ]
  },
  {
   "cell_type": "code",
   "execution_count": 16,
   "id": "8dd0ec37",
   "metadata": {},
   "outputs": [
    {
     "name": "stdout",
     "output_type": "stream",
     "text": [
      "\n",
      "\n",
      "{'e': [2, 3], 'd': [2, 3], 'c': [2, 3], 'b': [2, 3], 'a': [2, 3]}\n",
      "{'e': [2, 3], 'd': [2, 3], 'c': [2, 3], 'b': [2, 3], 'a': [2, 3]}\n"
     ]
    }
   ],
   "source": [
    "# seq = {'a', 'b', 'c', 'd', 'e'}\n",
    "# lis1 = [2, 3]\n",
    "\n",
    "# res_dict = dict.fromkeys(seq, lis1)\n",
    "\n",
    "# # Printing created dict\n",
    "# print(str(res_dict))\n",
    "\n",
    "# # appending to lis1\n",
    "# lis1.append(4)\n",
    "\n",
    "# print(str(res_dict))\n",
    "\n",
    "lis1 = [2, 3]\n",
    "print('\\n')\n",
    "\n",
    "# using fromkeys() to convert sequence to dict\n",
    "# using dict. comprehension\n",
    "res_dict2 = {key: list(lis1) for key in seq}\n",
    "\n",
    "# Printing created dict\n",
    "print(str(res_dict2))\n",
    "\n",
    "# appending to lis1\n",
    "lis1.append(4)\n",
    "\n",
    "# Printing dict after appending\n",
    "# Notice that append doesnt take place now.\n",
    "print( str(res_dict2))"
   ]
  },
  {
   "cell_type": "code",
   "execution_count": 17,
   "id": "4f6389f1",
   "metadata": {},
   "outputs": [
    {
     "name": "stdout",
     "output_type": "stream",
     "text": [
      "[['name', 'Alice'], ['age', 25], ['city', 'New York']]\n"
     ]
    }
   ],
   "source": [
    "a = {'name': 'Alice', 'age': 25, 'city': 'New York'}  # Dictionary of key-value pairs\n",
    "\n",
    "# Use list comprehension to iterate through the dictionary items, creating a list of lists with [key, value] pairs\n",
    "res = [[key, value] for key, value in a.items()]\n",
    "print(res)"
   ]
  },
  {
   "cell_type": "code",
   "execution_count": 19,
   "id": "99ea0e16",
   "metadata": {},
   "outputs": [
    {
     "name": "stdout",
     "output_type": "stream",
     "text": [
      "[<zip object at 0x0000019C7F3E2D80>, <zip object at 0x0000019C7F3E3E40>, <zip object at 0x0000019C7F3E1D80>]\n"
     ]
    }
   ],
   "source": [
    "a = [\"name\", \"age\", \"city\"]  \n",
    "b = [[\"Alice\", 25, \"New York\"], [\"Bob\", 30, \"Los Angeles\"], [\"Charlie\", 22, \"Chicago\"]] \n",
    "\n",
    "# Create a list of dictionaries by zipping keys with each sublist of values\n",
    "ans = [zip(a,values) for values in b]\n",
    "\n",
    "print(ans)"
   ]
  },
  {
   "cell_type": "code",
   "execution_count": 21,
   "id": "a83fe8ed",
   "metadata": {},
   "outputs": [
    {
     "name": "stdout",
     "output_type": "stream",
     "text": [
      "[{'name': 'Alice', 'age': 25}, {'name': 'Bob', 'age': 30}]\n"
     ]
    }
   ],
   "source": [
    "a = [{'name': 'Alice', 'age': 25}, {'name': 'Bob', 'age': 30}]  # List of dictionaries\n",
    "\n",
    "# Use list comprehension to iterate over each dictionary, extracting its values and converting them into a list\n",
    "res = [[value for value in d.values()] for d in a]\n",
    "res1 = [d for d  in a]\n",
    "print(res1)"
   ]
  },
  {
   "cell_type": "code",
   "execution_count": 22,
   "id": "30a5c9cf",
   "metadata": {},
   "outputs": [
    {
     "name": "stdout",
     "output_type": "stream",
     "text": [
      "{'name': 'Alice', 'age': 25, 'city': 'New York'}\n"
     ]
    }
   ],
   "source": [
    "a = [(\"name\", \"Alice\"), (\"age\", 25), (\"city\", \"New York\")]  # List of key-value pairs as tuples\n",
    "\n",
    "# Use dictionary comprehension to create a dictionary by unpacking each tuple into key and value\n",
    "res = {key: value for key, value in a}\n",
    "\n",
    "print(res)"
   ]
  },
  {
   "cell_type": "code",
   "execution_count": 23,
   "id": "ddfd6475",
   "metadata": {},
   "outputs": [
    {
     "name": "stdout",
     "output_type": "stream",
     "text": [
      "{'name': 'Alice', 'age': 25, 'city': 'New York'}\n"
     ]
    }
   ],
   "source": [
    "a = [\"name\", \"age\", \"city\"]  # List of keys\n",
    "b = [\"Alice\", 25, \"New York\"]  # List of values\n",
    "\n",
    "# Use zip to pair each key from 'a' with the corresponding value from 'b', then convert the pairs to a dictionary\n",
    "res = dict(zip(a, b))\n",
    "\n",
    "print(res)"
   ]
  },
  {
   "cell_type": "code",
   "execution_count": 24,
   "id": "408ab624",
   "metadata": {},
   "outputs": [
    {
     "name": "stdout",
     "output_type": "stream",
     "text": [
      "{'a': 1, 'b': 2, 'c': 3}\n"
     ]
    }
   ],
   "source": [
    "a = [(\"a\", 1), (\"b\", 2), (\"c\", 3)]  \n",
    "\n",
    "res = {key: value for key, value in a} \n",
    "\n",
    "print(res)"
   ]
  },
  {
   "cell_type": "code",
   "execution_count": 25,
   "id": "8fc67a41",
   "metadata": {},
   "outputs": [
    {
     "name": "stdout",
     "output_type": "stream",
     "text": [
      "{'a': 1, 'b': 2, 'c': 3}\n"
     ]
    }
   ],
   "source": [
    "a = [(\"a\", 1), (\"b\", 2), (\"c\", 3)]  \n",
    "\n",
    "res = {}  \n",
    "\n",
    "# Populate the dictionary \n",
    "for key, value in a:  \n",
    "    res[key] = value  \n",
    "\n",
    "print(res)"
   ]
  },
  {
   "cell_type": "code",
   "execution_count": 26,
   "id": "19ba62ad",
   "metadata": {},
   "outputs": [
    {
     "name": "stdout",
     "output_type": "stream",
     "text": [
      "{8: {'Gfg': 4}, 3: {'is': 5}, 2: {'best': 9}}\n"
     ]
    }
   ],
   "source": [
    "a = {'Gfg': 4, 'is': 5, 'best': 9}\n",
    "b = [8, 3, 2]\n",
    "\n",
    "res = {key: {k: v} for key, (k, v) in zip(b, a.items())}\n",
    "print(res)"
   ]
  },
  {
   "cell_type": "code",
   "execution_count": 27,
   "id": "5acab845",
   "metadata": {},
   "outputs": [
    {
     "name": "stdout",
     "output_type": "stream",
     "text": [
      "The original dictionary : {'Gfg': {'a': [1, 3], 'b': [3, 6], 'c': [6, 7, 8]}, 'Best': {'a': [7, 9], 'b': [5, 3, 2], 'd': [0, 1, 0]}}\n",
      "The rearranged dictionary : {'a': {'Gfg': [1, 3], 'Best': [7, 9]}, 'b': {'Gfg': [3, 6], 'Best': [5, 3, 2]}, 'c': {'Gfg': [6, 7, 8]}, 'd': {'Best': [0, 1, 0]}}\n"
     ]
    }
   ],
   "source": [
    "# Python3 code to demonstrate working of \n",
    "# Swapping Hierarchy in Nested Dictionaries\n",
    "# Using loop + items()\n",
    "\n",
    "# initializing dictionary\n",
    "test_dict = {'Gfg': { 'a' : [1, 3], 'b' : [3, 6], 'c' : [6, 7, 8]},\n",
    "             'Best': { 'a' : [7, 9], 'b' : [5, 3, 2], 'd' : [0, 1, 0]}}\n",
    "\n",
    "# printing original dictionary\n",
    "print(\"The original dictionary : \" + str(test_dict))\n",
    "\n",
    "# Swapping Hierarchy in Nested Dictionaries\n",
    "# Using loop + items()\n",
    "res = dict()\n",
    "for key, val in test_dict.items():\n",
    "    for key_in, val_in in val.items():\n",
    "        if key_in not in res:\n",
    "            temp = dict()\n",
    "        else:\n",
    "            temp = res[key_in]\n",
    "        temp[key] = val_in\n",
    "        res[key_in] = temp\n",
    "\n",
    "# printing result \n",
    "print(\"The rearranged dictionary : \" + str(res))"
   ]
  },
  {
   "cell_type": "code",
   "execution_count": 29,
   "id": "fdb6d77d",
   "metadata": {},
   "outputs": [
    {
     "name": "stdout",
     "output_type": "stream",
     "text": [
      "[('apple', 3), ('banana', 1), ('cherry', 5), ('date', 2)]\n",
      "{'banana': 1, 'date': 2, 'apple': 3, 'cherry': 5}\n"
     ]
    }
   ],
   "source": [
    "# d = {1: 2, 3: 4, 4: 3, 2: 1, 0: 0}\n",
    "# items = list(d.items())\n",
    "\n",
    "d = {'apple': 3, 'banana': 1, 'cherry': 5, 'date': 2}\n",
    "\n",
    "# Convert dictionary into a list of tuples\n",
    "items = list(d.items())   # [('apple', 3), ('banana', 1), ('cherry', 5), ('date', 2)]\n",
    "print(items)\n",
    "# Bubble Sort by value\n",
    "for i in range(len(items)):\n",
    "    for j in range(i + 1, len(items)):\n",
    "        if items[i][1] > items[j][1]:   # Compare by value\n",
    "            items[i], items[j] = items[j], items[i]\n",
    "\n",
    "# Convert back to dictionary\n",
    "sorted_dict_asc = dict(items)\n",
    "print(sorted_dict_asc)\n"
   ]
  },
  {
   "cell_type": "code",
   "execution_count": null,
   "id": "d1702bf0",
   "metadata": {},
   "outputs": [],
   "source": [
    "sorted_dict_asc = dict(sorted(d.items(), key=lambda item: item[1]))\n",
    "print(sorted_dict_asc)\n"
   ]
  },
  {
   "cell_type": "code",
   "execution_count": 1,
   "id": "c9c161b2",
   "metadata": {},
   "outputs": [
    {
     "name": "stdout",
     "output_type": "stream",
     "text": [
      "Maximum Value:  5874\n"
     ]
    }
   ],
   "source": [
    "# Create a dictionary 'my_dict' with key-value pairs.\n",
    "my_dict = {'x': 500, 'y': 5874, 'z': 560}\n",
    "\n",
    "# Find the key with the maximum value in 'my_dict' using the 'max' function and a lambda function.\n",
    "# The 'key' argument specifies how the maximum value is determined.\n",
    "key_max = max(my_dict.keys(), key=(lambda k: my_dict[k]))\n",
    "# Print the maximum value by using the 'key_max' to access the corresponding value in 'my_dict'.\n",
    "print('Maximum Value: ', my_dict[key_max])"
   ]
  },
  {
   "cell_type": "code",
   "execution_count": 2,
   "id": "94490258",
   "metadata": {},
   "outputs": [
    {
     "name": "stdout",
     "output_type": "stream",
     "text": [
      "{'id1': {'name': ['Sara'], 'class': ['V'], 'subject_integration': ['english, math, science']}, 'id2': {'name': ['David'], 'class': ['V'], 'subject_integration': ['english, math, science']}, 'id4': {'name': ['Surya'], 'class': ['V'], 'subject_integration': ['english, math, science']}}\n"
     ]
    }
   ],
   "source": [
    "# Create a nested dictionary 'student_data' containing information about students with unique IDs.\n",
    "student_data = {\n",
    "    'id1': {\n",
    "        'name': ['Sara'],\n",
    "        'class': ['V'],\n",
    "        'subject_integration': ['english, math, science']\n",
    "    },\n",
    "    'id2': {\n",
    "        'name': ['David'],\n",
    "        'class': ['V'],\n",
    "        'subject_integration': ['english, math, science']\n",
    "    },\n",
    "    'id3': {\n",
    "        'name': ['Sara'],\n",
    "        'class': ['V'],\n",
    "        'subject_integration': ['english, math, science']\n",
    "    },\n",
    "    'id4': {\n",
    "        'name': ['Surya'],\n",
    "        'class': ['V'],\n",
    "        'subject_integration': ['english, math, science']\n",
    "    }\n",
    "}\n",
    "\n",
    "# Create an empty dictionary 'result' to store unique student records.\n",
    "result = {}\n",
    "\n",
    "# Iterate through the key-value pairs in the 'student_data' dictionary using a for loop.\n",
    "for key, value in student_data.items():\n",
    "    # Check if the current 'value' (student record) is not already in the 'result' dictionary.\n",
    "    if value not in result.values():\n",
    "        # If the 'value' is not already in 'result', add it to 'result' with its corresponding 'key'.\n",
    "        result[key] = value\n",
    "\n",
    "# Print the 'result' dictionary containing unique student records.\n",
    "print(result) "
   ]
  },
  {
   "cell_type": "code",
   "execution_count": 3,
   "id": "128f7498",
   "metadata": {},
   "outputs": [
    {
     "name": "stdout",
     "output_type": "stream",
     "text": [
      "Distinct values: [10, 20, 30]\n"
     ]
    }
   ],
   "source": [
    "my_dict = {'a': 10, 'b': 20, 'c': 10, 'd': 30, 'e': 20}\n",
    "\n",
    "unique_values = []\n",
    "for value in my_dict.values():\n",
    "    if value not in unique_values:\n",
    "        unique_values.append(value)\n",
    "\n",
    "print(\"Distinct values:\", unique_values)\n"
   ]
  },
  {
   "cell_type": "code",
   "execution_count": 4,
   "id": "3eca3586",
   "metadata": {},
   "outputs": [
    {
     "name": "stdout",
     "output_type": "stream",
     "text": [
      "Distinct values: {10, 20, 30}\n"
     ]
    }
   ],
   "source": [
    "my_dict = {'a': 10, 'b': 20, 'c': 10, 'd': 30, 'e': 20}\n",
    "\n",
    "# Extract all values and convert to a set to remove duplicates\n",
    "unique_values = set(my_dict.values())\n",
    "\n",
    "# Print distinct values\n",
    "print(\"Distinct values:\", unique_values)\n"
   ]
  },
  {
   "cell_type": "code",
   "execution_count": 10,
   "id": "17588ea5",
   "metadata": {},
   "outputs": [
    {
     "name": "stdout",
     "output_type": "stream",
     "text": [
      "dict_items([('a', 10), ('b', 20), ('c', 10), ('d', 30), ('e', 20)])\n",
      "[('a', 10), ('c', 10), ('b', 20)]\n"
     ]
    }
   ],
   "source": [
    "my_dict = {'a': 10, 'b': 20, 'c': 10, 'd': 30, 'e': 20}\n",
    "print(my_dict.items())\n",
    "# key = lambda x:x[1]\n",
    "# print(key)\n",
    "sorting = sorted(my_dict.items(),key = lambda k : k[1])\n",
    "print(sorting[:3])"
   ]
  },
  {
   "cell_type": "code",
   "execution_count": 11,
   "id": "46435898",
   "metadata": {},
   "outputs": [
    {
     "name": "stdout",
     "output_type": "stream",
     "text": [
      "Letter Frequency: {'m': 1, 'i': 4, 's': 4, 'p': 2}\n"
     ]
    }
   ],
   "source": [
    "s = \"mississippi\"\n",
    "freq_dict = {}   # Empty dictionary\n",
    "\n",
    "for char in s:                   # Go through each character\n",
    "    if char in freq_dict:        # If already there, increase count\n",
    "        freq_dict[char] += 1\n",
    "    else:                        # If not there, add it with count = 1\n",
    "        freq_dict[char] = 1\n",
    "\n",
    "print(\"Letter Frequency:\", freq_dict)\n"
   ]
  },
  {
   "cell_type": "code",
   "execution_count": 12,
   "id": "f9d65422",
   "metadata": {},
   "outputs": [
    {
     "name": "stdout",
     "output_type": "stream",
     "text": [
      "{'a': 1, 's': 1, 'm': 1, 'i': 4, 'k': 1}\n"
     ]
    }
   ],
   "source": [
    "s = \"asmiikii\"\n",
    "freq = {}\n",
    "for char in s :\n",
    "    if char in freq:\n",
    "        freq[char]+=1\n",
    "    else:\n",
    "        freq[char]=1\n",
    "\n",
    "print(freq)"
   ]
  },
  {
   "cell_type": "code",
   "execution_count": 13,
   "id": "503b3e26",
   "metadata": {},
   "outputs": [
    {
     "name": "stdout",
     "output_type": "stream",
     "text": [
      "Letter Frequency: {'m': 1, 'i': 4, 's': 4, 'p': 2}\n"
     ]
    }
   ],
   "source": [
    "s = \"mississippi\"\n",
    "freq_dict = {}\n",
    "\n",
    "for char in s:\n",
    "    freq_dict[char] = freq_dict.get(char, 0) + 1\n",
    "\n",
    "print(\"Letter Frequency:\", freq_dict)\n"
   ]
  },
  {
   "cell_type": "code",
   "execution_count": null,
   "id": "a0ca542e",
   "metadata": {},
   "outputs": [],
   "source": []
  }
 ],
 "metadata": {
  "kernelspec": {
   "display_name": "Python 3",
   "language": "python",
   "name": "python3"
  },
  "language_info": {
   "codemirror_mode": {
    "name": "ipython",
    "version": 3
   },
   "file_extension": ".py",
   "mimetype": "text/x-python",
   "name": "python",
   "nbconvert_exporter": "python",
   "pygments_lexer": "ipython3",
   "version": "3.11.0"
  }
 },
 "nbformat": 4,
 "nbformat_minor": 5
}
