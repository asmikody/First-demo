{
 "cells": [
  {
   "cell_type": "code",
   "execution_count": 34,
   "id": "46c7230e",
   "metadata": {},
   "outputs": [
    {
     "name": "stdout",
     "output_type": "stream",
     "text": [
      "First 5 Rows After Sorting by Age:\n",
      "                   Name                    Team  Number Position   Age Height  \\\n",
      "226       Rashad Vaughn         Milwaukee Bucks    20.0       SG  19.0    6-6   \n",
      "122        Devin Booker            Phoenix Suns     1.0       SG  19.0    6-6   \n",
      "40   Kristaps Porzingis         New York Knicks     6.0       PF  20.0    7-3   \n",
      "401          Tyus Jones  Minnesota Timberwolves     1.0       PG  20.0    6-2   \n",
      "427     Cliff Alexander  Portland Trail Blazers    34.0       PF  20.0    6-8   \n",
      "\n",
      "     Weight   College     Salary  \n",
      "226   202.0      UNLV  1733040.0  \n",
      "122   206.0  Kentucky  2127840.0  \n",
      "40    240.0       NaN  4131720.0  \n",
      "401   195.0      Duke  1282080.0  \n",
      "427   240.0    Kansas   525093.0  \n"
     ]
    }
   ],
   "source": [
    "import pandas as pd\n",
    "\n",
    "data = pd.read_csv(r\"D:\\Download\\FINAL (2)\\nba.csv\")\n",
    "\n",
    "sorted_data = data.sort_values(by='Age', ascending=True)\n",
    "\n",
    "top_sorted = sorted_data.head()\n",
    "\n",
    "print(\"First 5 Rows After Sorting by Age:\")\n",
    "print(top_sorted)\n",
    "\n",
    "\n",
    "\n",
    "\n",
    "\n"
   ]
  },
  {
   "cell_type": "code",
   "execution_count": 3,
   "id": "1e2cd6a2",
   "metadata": {},
   "outputs": [
    {
     "name": "stdout",
     "output_type": "stream",
     "text": [
      "Geeks    10\n",
      "for      20\n",
      "geeks    30\n",
      "dtype: int64\n"
     ]
    }
   ],
   "source": [
    "import pandas as pd\n",
    "\n",
    "data_dict = {'Geeks': 10, 'for': 20, 'geeks': 30}\n",
    "\n",
    "ser = pd.Series(data_dict)\n",
    "print(ser)"
   ]
  },
  {
   "cell_type": "code",
   "execution_count": 4,
   "id": "b47353a4",
   "metadata": {},
   "outputs": [
    {
     "name": "stdout",
     "output_type": "stream",
     "text": [
      "0     5\n",
      "1     6\n",
      "2     7\n",
      "3     8\n",
      "4     9\n",
      "5    10\n",
      "6    11\n",
      "7    12\n",
      "8    13\n",
      "9    14\n",
      "dtype: int64\n"
     ]
    }
   ],
   "source": [
    "import pandas as pd\n",
    "ser = pd.Series(range(5, 15))\n",
    "print(ser)"
   ]
  },
  {
   "cell_type": "code",
   "execution_count": 5,
   "id": "faf81b09",
   "metadata": {},
   "outputs": [
    {
     "name": "stdout",
     "output_type": "stream",
     "text": [
      "           Number         Age      Weight        Salary\n",
      "count  457.000000  457.000000  457.000000  4.460000e+02\n",
      "mean    17.678337   26.938731  221.522976  4.842684e+06\n",
      "std     15.966090    4.404016   26.368343  5.229238e+06\n",
      "min      0.000000   19.000000  161.000000  3.088800e+04\n",
      "25%      5.000000   24.000000  200.000000  1.044792e+06\n",
      "50%     13.000000   26.000000  220.000000  2.839073e+06\n",
      "75%     25.000000   30.000000  240.000000  6.500000e+06\n",
      "max     99.000000   40.000000  307.000000  2.500000e+07\n"
     ]
    }
   ],
   "source": [
    "print(data.describe())"
   ]
  },
  {
   "cell_type": "code",
   "execution_count": 6,
   "id": "780c2b3a",
   "metadata": {},
   "outputs": [
    {
     "name": "stdout",
     "output_type": "stream",
     "text": [
      "count               457\n",
      "unique              457\n",
      "top       Avery Bradley\n",
      "freq                  1\n",
      "Name: Name, dtype: object\n"
     ]
    }
   ],
   "source": [
    "desc = data[\"Name\"].describe()\n",
    "\n",
    "print(desc)"
   ]
  },
  {
   "cell_type": "code",
   "execution_count": 7,
   "id": "0378b4f7",
   "metadata": {},
   "outputs": [
    {
     "data": {
      "text/html": [
       "<div>\n",
       "<style scoped>\n",
       "    .dataframe tbody tr th:only-of-type {\n",
       "        vertical-align: middle;\n",
       "    }\n",
       "\n",
       "    .dataframe tbody tr th {\n",
       "        vertical-align: top;\n",
       "    }\n",
       "\n",
       "    .dataframe thead th {\n",
       "        text-align: right;\n",
       "    }\n",
       "</style>\n",
       "<table border=\"1\" class=\"dataframe\">\n",
       "  <thead>\n",
       "    <tr style=\"text-align: right;\">\n",
       "      <th></th>\n",
       "      <th>Name</th>\n",
       "      <th>Team</th>\n",
       "      <th>Number</th>\n",
       "      <th>Position</th>\n",
       "      <th>Age</th>\n",
       "      <th>Height</th>\n",
       "      <th>Weight</th>\n",
       "      <th>College</th>\n",
       "      <th>Salary</th>\n",
       "    </tr>\n",
       "  </thead>\n",
       "  <tbody>\n",
       "    <tr>\n",
       "      <th>0</th>\n",
       "      <td>Avery Bradley</td>\n",
       "      <td>Boston Celtics</td>\n",
       "      <td>0.0</td>\n",
       "      <td>PG</td>\n",
       "      <td>25.0</td>\n",
       "      <td>6-2</td>\n",
       "      <td>180.0</td>\n",
       "      <td>Texas</td>\n",
       "      <td>7730337.0</td>\n",
       "    </tr>\n",
       "    <tr>\n",
       "      <th>1</th>\n",
       "      <td>Jae Crowder</td>\n",
       "      <td>Boston Celtics</td>\n",
       "      <td>99.0</td>\n",
       "      <td>SF</td>\n",
       "      <td>25.0</td>\n",
       "      <td>6-6</td>\n",
       "      <td>235.0</td>\n",
       "      <td>Marquette</td>\n",
       "      <td>6796117.0</td>\n",
       "    </tr>\n",
       "    <tr>\n",
       "      <th>2</th>\n",
       "      <td>John Holland</td>\n",
       "      <td>Boston Celtics</td>\n",
       "      <td>30.0</td>\n",
       "      <td>SG</td>\n",
       "      <td>27.0</td>\n",
       "      <td>6-5</td>\n",
       "      <td>205.0</td>\n",
       "      <td>Boston University</td>\n",
       "      <td>NaN</td>\n",
       "    </tr>\n",
       "    <tr>\n",
       "      <th>3</th>\n",
       "      <td>R.J. Hunter</td>\n",
       "      <td>Boston Celtics</td>\n",
       "      <td>28.0</td>\n",
       "      <td>SG</td>\n",
       "      <td>22.0</td>\n",
       "      <td>6-5</td>\n",
       "      <td>185.0</td>\n",
       "      <td>Georgia State</td>\n",
       "      <td>1148640.0</td>\n",
       "    </tr>\n",
       "    <tr>\n",
       "      <th>4</th>\n",
       "      <td>Jonas Jerebko</td>\n",
       "      <td>Boston Celtics</td>\n",
       "      <td>8.0</td>\n",
       "      <td>PF</td>\n",
       "      <td>29.0</td>\n",
       "      <td>6-10</td>\n",
       "      <td>231.0</td>\n",
       "      <td>NaN</td>\n",
       "      <td>5000000.0</td>\n",
       "    </tr>\n",
       "  </tbody>\n",
       "</table>\n",
       "</div>"
      ],
      "text/plain": [
       "            Name            Team  Number Position   Age Height  Weight  \\\n",
       "0  Avery Bradley  Boston Celtics     0.0       PG  25.0    6-2   180.0   \n",
       "1    Jae Crowder  Boston Celtics    99.0       SF  25.0    6-6   235.0   \n",
       "2   John Holland  Boston Celtics    30.0       SG  27.0    6-5   205.0   \n",
       "3    R.J. Hunter  Boston Celtics    28.0       SG  22.0    6-5   185.0   \n",
       "4  Jonas Jerebko  Boston Celtics     8.0       PF  29.0   6-10   231.0   \n",
       "\n",
       "             College     Salary  \n",
       "0              Texas  7730337.0  \n",
       "1          Marquette  6796117.0  \n",
       "2  Boston University        NaN  \n",
       "3      Georgia State  1148640.0  \n",
       "4                NaN  5000000.0  "
      ]
     },
     "execution_count": 7,
     "metadata": {},
     "output_type": "execute_result"
    }
   ],
   "source": [
    "data.head()"
   ]
  },
  {
   "cell_type": "code",
   "execution_count": 19,
   "id": "3086343b",
   "metadata": {},
   "outputs": [
    {
     "data": {
      "text/html": [
       "<div>\n",
       "<style scoped>\n",
       "    .dataframe tbody tr th:only-of-type {\n",
       "        vertical-align: middle;\n",
       "    }\n",
       "\n",
       "    .dataframe tbody tr th {\n",
       "        vertical-align: top;\n",
       "    }\n",
       "\n",
       "    .dataframe thead th {\n",
       "        text-align: right;\n",
       "    }\n",
       "</style>\n",
       "<table border=\"1\" class=\"dataframe\">\n",
       "  <thead>\n",
       "    <tr style=\"text-align: right;\">\n",
       "      <th></th>\n",
       "      <th>Team</th>\n",
       "      <th>Number</th>\n",
       "      <th>Position</th>\n",
       "      <th>Age</th>\n",
       "      <th>Height</th>\n",
       "      <th>Weight</th>\n",
       "      <th>College</th>\n",
       "      <th>Salary</th>\n",
       "    </tr>\n",
       "    <tr>\n",
       "      <th>Name</th>\n",
       "      <th></th>\n",
       "      <th></th>\n",
       "      <th></th>\n",
       "      <th></th>\n",
       "      <th></th>\n",
       "      <th></th>\n",
       "      <th></th>\n",
       "      <th></th>\n",
       "    </tr>\n",
       "  </thead>\n",
       "  <tbody>\n",
       "    <tr>\n",
       "      <th>Jae Crowder</th>\n",
       "      <td>Boston Celtics</td>\n",
       "      <td>99.0</td>\n",
       "      <td>SF</td>\n",
       "      <td>25.0</td>\n",
       "      <td>6-6</td>\n",
       "      <td>235.0</td>\n",
       "      <td>Marquette</td>\n",
       "      <td>6796117.0</td>\n",
       "    </tr>\n",
       "    <tr>\n",
       "      <th>Jonas Jerebko</th>\n",
       "      <td>Boston Celtics</td>\n",
       "      <td>8.0</td>\n",
       "      <td>PF</td>\n",
       "      <td>29.0</td>\n",
       "      <td>6-10</td>\n",
       "      <td>231.0</td>\n",
       "      <td>NaN</td>\n",
       "      <td>5000000.0</td>\n",
       "    </tr>\n",
       "    <tr>\n",
       "      <th>Amir Johnson</th>\n",
       "      <td>Boston Celtics</td>\n",
       "      <td>90.0</td>\n",
       "      <td>PF</td>\n",
       "      <td>29.0</td>\n",
       "      <td>6-9</td>\n",
       "      <td>240.0</td>\n",
       "      <td>NaN</td>\n",
       "      <td>12000000.0</td>\n",
       "    </tr>\n",
       "    <tr>\n",
       "      <th>Jordan Mickey</th>\n",
       "      <td>Boston Celtics</td>\n",
       "      <td>55.0</td>\n",
       "      <td>PF</td>\n",
       "      <td>21.0</td>\n",
       "      <td>6-8</td>\n",
       "      <td>235.0</td>\n",
       "      <td>LSU</td>\n",
       "      <td>1170960.0</td>\n",
       "    </tr>\n",
       "    <tr>\n",
       "      <th>Kelly Olynyk</th>\n",
       "      <td>Boston Celtics</td>\n",
       "      <td>41.0</td>\n",
       "      <td>C</td>\n",
       "      <td>25.0</td>\n",
       "      <td>7-0</td>\n",
       "      <td>238.0</td>\n",
       "      <td>Gonzaga</td>\n",
       "      <td>2165160.0</td>\n",
       "    </tr>\n",
       "    <tr>\n",
       "      <th>...</th>\n",
       "      <td>...</td>\n",
       "      <td>...</td>\n",
       "      <td>...</td>\n",
       "      <td>...</td>\n",
       "      <td>...</td>\n",
       "      <td>...</td>\n",
       "      <td>...</td>\n",
       "      <td>...</td>\n",
       "    </tr>\n",
       "    <tr>\n",
       "      <th>Shelvin Mack</th>\n",
       "      <td>Utah Jazz</td>\n",
       "      <td>8.0</td>\n",
       "      <td>PG</td>\n",
       "      <td>26.0</td>\n",
       "      <td>6-3</td>\n",
       "      <td>203.0</td>\n",
       "      <td>Butler</td>\n",
       "      <td>2433333.0</td>\n",
       "    </tr>\n",
       "    <tr>\n",
       "      <th>Raul Neto</th>\n",
       "      <td>Utah Jazz</td>\n",
       "      <td>25.0</td>\n",
       "      <td>PG</td>\n",
       "      <td>24.0</td>\n",
       "      <td>6-1</td>\n",
       "      <td>179.0</td>\n",
       "      <td>NaN</td>\n",
       "      <td>900000.0</td>\n",
       "    </tr>\n",
       "    <tr>\n",
       "      <th>Tibor Pleiss</th>\n",
       "      <td>Utah Jazz</td>\n",
       "      <td>21.0</td>\n",
       "      <td>C</td>\n",
       "      <td>26.0</td>\n",
       "      <td>7-3</td>\n",
       "      <td>256.0</td>\n",
       "      <td>NaN</td>\n",
       "      <td>2900000.0</td>\n",
       "    </tr>\n",
       "    <tr>\n",
       "      <th>Jeff Withey</th>\n",
       "      <td>Utah Jazz</td>\n",
       "      <td>24.0</td>\n",
       "      <td>C</td>\n",
       "      <td>26.0</td>\n",
       "      <td>7-0</td>\n",
       "      <td>231.0</td>\n",
       "      <td>Kansas</td>\n",
       "      <td>947276.0</td>\n",
       "    </tr>\n",
       "    <tr>\n",
       "      <th>NaN</th>\n",
       "      <td>NaN</td>\n",
       "      <td>NaN</td>\n",
       "      <td>NaN</td>\n",
       "      <td>NaN</td>\n",
       "      <td>NaN</td>\n",
       "      <td>NaN</td>\n",
       "      <td>NaN</td>\n",
       "      <td>NaN</td>\n",
       "    </tr>\n",
       "  </tbody>\n",
       "</table>\n",
       "<p>455 rows × 8 columns</p>\n",
       "</div>"
      ],
      "text/plain": [
       "                         Team  Number Position   Age Height  Weight  \\\n",
       "Name                                                                  \n",
       "Jae Crowder    Boston Celtics    99.0       SF  25.0    6-6   235.0   \n",
       "Jonas Jerebko  Boston Celtics     8.0       PF  29.0   6-10   231.0   \n",
       "Amir Johnson   Boston Celtics    90.0       PF  29.0    6-9   240.0   \n",
       "Jordan Mickey  Boston Celtics    55.0       PF  21.0    6-8   235.0   \n",
       "Kelly Olynyk   Boston Celtics    41.0        C  25.0    7-0   238.0   \n",
       "...                       ...     ...      ...   ...    ...     ...   \n",
       "Shelvin Mack        Utah Jazz     8.0       PG  26.0    6-3   203.0   \n",
       "Raul Neto           Utah Jazz    25.0       PG  24.0    6-1   179.0   \n",
       "Tibor Pleiss        Utah Jazz    21.0        C  26.0    7-3   256.0   \n",
       "Jeff Withey         Utah Jazz    24.0        C  26.0    7-0   231.0   \n",
       "NaN                       NaN     NaN      NaN   NaN    NaN     NaN   \n",
       "\n",
       "                 College      Salary  \n",
       "Name                                  \n",
       "Jae Crowder    Marquette   6796117.0  \n",
       "Jonas Jerebko        NaN   5000000.0  \n",
       "Amir Johnson         NaN  12000000.0  \n",
       "Jordan Mickey        LSU   1170960.0  \n",
       "Kelly Olynyk     Gonzaga   2165160.0  \n",
       "...                  ...         ...  \n",
       "Shelvin Mack      Butler   2433333.0  \n",
       "Raul Neto            NaN    900000.0  \n",
       "Tibor Pleiss         NaN   2900000.0  \n",
       "Jeff Withey       Kansas    947276.0  \n",
       "NaN                  NaN         NaN  \n",
       "\n",
       "[455 rows x 8 columns]"
      ]
     },
     "execution_count": 19,
     "metadata": {},
     "output_type": "execute_result"
    }
   ],
   "source": [
    "# importing pandas module\n",
    "import pandas as pd\n",
    "\n",
    "# making data frame from csv file\n",
    "data = pd.read_csv(r\"D:\\Download\\FINAL (2)\\nba.csv\", index_col =\"Name\" )\n",
    "\n",
    "# dropping passed values\n",
    "data.drop([\"Avery Bradley\", \"John Holland\", \"R.J. Hunter\",\n",
    "                            \"R.J. Hunter\"], inplace = True)\n",
    "\n",
    "# display\n",
    "data"
   ]
  },
  {
   "cell_type": "code",
   "execution_count": 10,
   "id": "8eaa89b9",
   "metadata": {},
   "outputs": [
    {
     "name": "stdout",
     "output_type": "stream",
     "text": [
      "              Name  Number Position   Age Height            College     Salary\n",
      "0    Avery Bradley     0.0       PG  25.0    6-2              Texas  7730337.0\n",
      "1      Jae Crowder    99.0       SF  25.0    6-6          Marquette  6796117.0\n",
      "2     John Holland    30.0       SG  27.0    6-5  Boston University        NaN\n",
      "3      R.J. Hunter    28.0       SG  22.0    6-5      Georgia State  1148640.0\n",
      "4    Jonas Jerebko     8.0       PF  29.0   6-10                NaN  5000000.0\n",
      "..             ...     ...      ...   ...    ...                ...        ...\n",
      "453   Shelvin Mack     8.0       PG  26.0    6-3             Butler  2433333.0\n",
      "454      Raul Neto    25.0       PG  24.0    6-1                NaN   900000.0\n",
      "455   Tibor Pleiss    21.0        C  26.0    7-3                NaN  2900000.0\n",
      "456    Jeff Withey    24.0        C  26.0    7-0             Kansas   947276.0\n",
      "457            NaN     NaN      NaN   NaN    NaN                NaN        NaN\n",
      "\n",
      "[458 rows x 7 columns]\n"
     ]
    }
   ],
   "source": [
    "\n",
    "# dropping passed columns\n",
    "data.drop([\"Team\", \"Weight\"], axis = 1,inplace=True)\n",
    "\n",
    "# display\n",
    "print(data)"
   ]
  },
  {
   "cell_type": "code",
   "execution_count": 12,
   "id": "ea75cd02",
   "metadata": {},
   "outputs": [
    {
     "name": "stdout",
     "output_type": "stream",
     "text": [
      "Name      Riya\n",
      "Age         22\n",
      "City    Indore\n",
      "Name: b, dtype: object\n"
     ]
    }
   ],
   "source": [
    "import pandas as pd\n",
    "\n",
    "# Create a simple DataFrame\n",
    "data = {\n",
    "    'Name': ['Asmi', 'Riya', 'Aditya', 'Neha'],\n",
    "    'Age': [21, 22, 23, 24],\n",
    "    'City': ['Bhopal', 'Indore', 'Delhi', 'Pune']\n",
    "}\n",
    "df = pd.DataFrame(data, index=['a', 'b', 'c', 'd'])\n",
    "\n",
    "# Select a row using label\n",
    "print(df.loc['b'])\n"
   ]
  },
  {
   "cell_type": "code",
   "execution_count": 13,
   "id": "9ab20447",
   "metadata": {},
   "outputs": [
    {
     "name": "stdout",
     "output_type": "stream",
     "text": [
      "     Name  Age    City\n",
      "a    Asmi   21  Bhopal\n",
      "c  Aditya   23   Delhi\n"
     ]
    }
   ],
   "source": [
    "print(df.loc[['a', 'c']])\n"
   ]
  },
  {
   "cell_type": "code",
   "execution_count": 14,
   "id": "d417948c",
   "metadata": {},
   "outputs": [
    {
     "data": {
      "text/html": [
       "<div>\n",
       "<style scoped>\n",
       "    .dataframe tbody tr th:only-of-type {\n",
       "        vertical-align: middle;\n",
       "    }\n",
       "\n",
       "    .dataframe tbody tr th {\n",
       "        vertical-align: top;\n",
       "    }\n",
       "\n",
       "    .dataframe thead th {\n",
       "        text-align: right;\n",
       "    }\n",
       "</style>\n",
       "<table border=\"1\" class=\"dataframe\">\n",
       "  <thead>\n",
       "    <tr style=\"text-align: right;\">\n",
       "      <th></th>\n",
       "      <th>Name</th>\n",
       "      <th>Age</th>\n",
       "      <th>City</th>\n",
       "    </tr>\n",
       "  </thead>\n",
       "  <tbody>\n",
       "    <tr>\n",
       "      <th>a</th>\n",
       "      <td>Asmi</td>\n",
       "      <td>21</td>\n",
       "      <td>Bhopal</td>\n",
       "    </tr>\n",
       "    <tr>\n",
       "      <th>b</th>\n",
       "      <td>Riya</td>\n",
       "      <td>22</td>\n",
       "      <td>Indore</td>\n",
       "    </tr>\n",
       "    <tr>\n",
       "      <th>c</th>\n",
       "      <td>Aditya</td>\n",
       "      <td>23</td>\n",
       "      <td>Delhi</td>\n",
       "    </tr>\n",
       "    <tr>\n",
       "      <th>d</th>\n",
       "      <td>Neha</td>\n",
       "      <td>24</td>\n",
       "      <td>Pune</td>\n",
       "    </tr>\n",
       "  </tbody>\n",
       "</table>\n",
       "</div>"
      ],
      "text/plain": [
       "     Name  Age    City\n",
       "a    Asmi   21  Bhopal\n",
       "b    Riya   22  Indore\n",
       "c  Aditya   23   Delhi\n",
       "d    Neha   24    Pune"
      ]
     },
     "execution_count": 14,
     "metadata": {},
     "output_type": "execute_result"
    }
   ],
   "source": [
    "df.head()"
   ]
  },
  {
   "cell_type": "code",
   "execution_count": 15,
   "id": "9f555775",
   "metadata": {},
   "outputs": [
    {
     "name": "stdout",
     "output_type": "stream",
     "text": [
      "Name      Riya\n",
      "Age         22\n",
      "City    Indore\n",
      "Name: b, dtype: object\n",
      "     Name  Age    City\n",
      "a    Asmi   21  Bhopal\n",
      "c  Aditya   23   Delhi\n"
     ]
    }
   ],
   "source": [
    "print(df.iloc[1])      # Select the 2nd row (index starts at 0)\n",
    "print(df.iloc[[0, 2]]) # Select 1st and 3rd rows\n"
   ]
  },
  {
   "cell_type": "code",
   "execution_count": 20,
   "id": "5c27b2ce",
   "metadata": {},
   "outputs": [
    {
     "data": {
      "text/plain": [
       "['Name', 'Age', 'City']"
      ]
     },
     "execution_count": 20,
     "metadata": {},
     "output_type": "execute_result"
    }
   ],
   "source": [
    "list(df.columns)"
   ]
  },
  {
   "cell_type": "code",
   "execution_count": 21,
   "id": "370db0e5",
   "metadata": {},
   "outputs": [
    {
     "name": "stdout",
     "output_type": "stream",
     "text": [
      "Name\n",
      "Age\n",
      "City\n"
     ]
    }
   ],
   "source": [
    "for col in df.columns:\n",
    "    print(col)"
   ]
  },
  {
   "cell_type": "code",
   "execution_count": 23,
   "id": "133f514f",
   "metadata": {},
   "outputs": [
    {
     "name": "stdout",
     "output_type": "stream",
     "text": [
      "    A   B   C\n",
      "0  10  30  50\n",
      "1  20  40  60\n",
      "    X   Y   C\n",
      "0  10  30  50\n",
      "1  20  40  60\n"
     ]
    }
   ],
   "source": [
    "import pandas as pd\n",
    "df = pd.DataFrame({'A': [10, 20], 'B': [30, 40], 'C': [50, 60]})\n",
    "print(df.head())\n",
    "df.rename(columns={'A': 'X', 'B': 'Y'}, inplace=True)\n",
    "print(df)"
   ]
  },
  {
   "cell_type": "code",
   "execution_count": 24,
   "id": "b3499024",
   "metadata": {},
   "outputs": [
    {
     "name": "stdout",
     "output_type": "stream",
     "text": [
      "    A   C\n",
      "0  A1  C1\n",
      "1  A2  C2\n",
      "2  A3  C3\n",
      "3  A4  C4\n",
      "4  A5  C5\n"
     ]
    }
   ],
   "source": [
    "import pandas as pd\n",
    "\n",
    "# Sample DataFrame\n",
    "data = pd.DataFrame({\n",
    "    'A': ['A1', 'A2', 'A3', 'A4', 'A5'],\n",
    "    'B': ['B1', 'B2', 'B3', 'B4', 'B5'],\n",
    "    'C': ['C1', 'C2', 'C3', 'C4', 'C5']\n",
    "})\n",
    "\n",
    "# Syntax: df = df.drop('ColumnName', axis=1)\n",
    "\n",
    "\n",
    "# Drop column 'B'\n",
    "df = data.drop('B', axis=1)\n",
    "print(df)"
   ]
  },
  {
   "cell_type": "code",
   "execution_count": 25,
   "id": "c15f9a14",
   "metadata": {},
   "outputs": [
    {
     "name": "stdout",
     "output_type": "stream",
     "text": [
      "['B1' 'B2' 'B3' 'B4']\n",
      "    A   B   C   D   E\n",
      "0  A1  B1  C1  D1  E1\n",
      "1  A2  B2  C2  D2  E1\n",
      "2  A3  B3  C3  D2  E1\n",
      "3  A4  B4  C3  D2  E1\n",
      "4  A5  B4  C3  D2  E1\n"
     ]
    }
   ],
   "source": [
    "import pandas as pd\n",
    "data = {'A': ['A1', 'A2', 'A3', 'A4', 'A5'],\n",
    "        'B': ['B1', 'B2', 'B3', 'B4', 'B4'],\n",
    "        'C': ['C1', 'C2', 'C3', 'C3', 'C3'],\n",
    "        'D': ['D1', 'D2', 'D2', 'D2', 'D2'],\n",
    "        'E': ['E1', 'E1', 'E1', 'E1', 'E1']}\n",
    "        \n",
    "df = pd.DataFrame(data)\n",
    "\n",
    "unique_B = df['B'].unique()\n",
    "print(unique_B)\n",
    "print(df)"
   ]
  },
  {
   "cell_type": "code",
   "execution_count": 26,
   "id": "56b595de",
   "metadata": {},
   "outputs": [
    {
     "data": {
      "text/html": [
       "<div>\n",
       "<style scoped>\n",
       "    .dataframe tbody tr th:only-of-type {\n",
       "        vertical-align: middle;\n",
       "    }\n",
       "\n",
       "    .dataframe tbody tr th {\n",
       "        vertical-align: top;\n",
       "    }\n",
       "\n",
       "    .dataframe thead th {\n",
       "        text-align: right;\n",
       "    }\n",
       "</style>\n",
       "<table border=\"1\" class=\"dataframe\">\n",
       "  <thead>\n",
       "    <tr style=\"text-align: right;\">\n",
       "      <th></th>\n",
       "      <th>A</th>\n",
       "      <th>B</th>\n",
       "      <th>C</th>\n",
       "      <th>D</th>\n",
       "      <th>E</th>\n",
       "    </tr>\n",
       "  </thead>\n",
       "  <tbody>\n",
       "    <tr>\n",
       "      <th>0</th>\n",
       "      <td>A1</td>\n",
       "      <td>B1</td>\n",
       "      <td>C1</td>\n",
       "      <td>D1</td>\n",
       "      <td>E1</td>\n",
       "    </tr>\n",
       "    <tr>\n",
       "      <th>1</th>\n",
       "      <td>A2</td>\n",
       "      <td>B2</td>\n",
       "      <td>C2</td>\n",
       "      <td>D2</td>\n",
       "      <td>E1</td>\n",
       "    </tr>\n",
       "    <tr>\n",
       "      <th>2</th>\n",
       "      <td>A3</td>\n",
       "      <td>B3</td>\n",
       "      <td>C3</td>\n",
       "      <td>D2</td>\n",
       "      <td>E1</td>\n",
       "    </tr>\n",
       "    <tr>\n",
       "      <th>3</th>\n",
       "      <td>A4</td>\n",
       "      <td>B4</td>\n",
       "      <td>C3</td>\n",
       "      <td>D2</td>\n",
       "      <td>E1</td>\n",
       "    </tr>\n",
       "    <tr>\n",
       "      <th>4</th>\n",
       "      <td>A5</td>\n",
       "      <td>B4</td>\n",
       "      <td>C3</td>\n",
       "      <td>D2</td>\n",
       "      <td>E1</td>\n",
       "    </tr>\n",
       "  </tbody>\n",
       "</table>\n",
       "</div>"
      ],
      "text/plain": [
       "    A   B   C   D   E\n",
       "0  A1  B1  C1  D1  E1\n",
       "1  A2  B2  C2  D2  E1\n",
       "2  A3  B3  C3  D2  E1\n",
       "3  A4  B4  C3  D2  E1\n",
       "4  A5  B4  C3  D2  E1"
      ]
     },
     "execution_count": 26,
     "metadata": {},
     "output_type": "execute_result"
    }
   ],
   "source": [
    "# You can also use \".apply()\" to apply the lower() function to each element:\n",
    "\n",
    "\n",
    "df['A'].apply(lambda x: x.lower())\n",
    "df"
   ]
  },
  {
   "cell_type": "code",
   "execution_count": 28,
   "id": "75b58500",
   "metadata": {},
   "outputs": [
    {
     "name": "stdout",
     "output_type": "stream",
     "text": [
      "     A    B\n",
      "0  1.0  NaN\n",
      "1  NaN  5.0\n",
      "2  3.0  NaN\n"
     ]
    }
   ],
   "source": [
    "import pandas as pd\n",
    "import numpy as np\n",
    "df = pd.DataFrame({'A': [1, -2, 3], 'B': [-1, 5, -6]})\n",
    "df.head()\n",
    "res = df.where(df > 0)\n",
    "print(res)"
   ]
  },
  {
   "cell_type": "code",
   "execution_count": 30,
   "id": "fa876f3c",
   "metadata": {},
   "outputs": [
    {
     "name": "stdout",
     "output_type": "stream",
     "text": [
      "   A  B\n",
      "0  1 -1\n",
      "1 -2  5\n",
      "2  3 -6\n",
      "   A  B\n",
      "0  1  0\n",
      "1  0  5\n",
      "2  3  0\n"
     ]
    }
   ],
   "source": [
    "import pandas as pd\n",
    "df = pd.DataFrame({'A': [1, -2, 3], 'B': [-1, 5, -6]})\n",
    "print(df.head())\n",
    "res = df.where(df > 0, other=0)\n",
    "print(res)"
   ]
  },
  {
   "cell_type": "code",
   "execution_count": 31,
   "id": "2f0bcc10",
   "metadata": {},
   "outputs": [
    {
     "data": {
      "text/plain": [
       "0    13.250000\n",
       "1     6.250000\n",
       "2    23.333333\n",
       "3     2.666667\n",
       "4     5.000000\n",
       "dtype: float64"
      ]
     },
     "execution_count": 31,
     "metadata": {},
     "output_type": "execute_result"
    }
   ],
   "source": [
    "# importing pandas as pd\n",
    "import pandas as pd\n",
    "\n",
    "# Creating the dataframe\n",
    "df = pd.DataFrame({\"A\":[12, 4, 5, None, 1],\n",
    "                \"B\":[7, 2, 54, 3, None],\n",
    "                \"C\":[20, 16, 11, 3, 8],\n",
    "                \"D\":[14, 3, None, 2, 6]})\n",
    "\n",
    "# skip the Na values while finding the mean\n",
    "df.mean(axis = 1, skipna = True)"
   ]
  },
  {
   "cell_type": "code",
   "execution_count": null,
   "id": "927090c6",
   "metadata": {},
   "outputs": [],
   "source": [
    "import pandas as pd\n",
    "\n",
    "data = {'Name': ['Asmi', 'Rahul', 'Sneha'],\n",
    "        'Age': [21, 22, 20],\n",
    "        'City': ['Bhopal', 'Indore', 'Pune']}\n",
    "\n",
    "df = pd.DataFrame(data)\n",
    "print(df)\n",
    "df = df.set_index('Name')\n",
    "print(df)\n",
    "\n"
   ]
  },
  {
   "cell_type": "code",
   "execution_count": 35,
   "id": "23bf9553",
   "metadata": {},
   "outputs": [
    {
     "data": {
      "text/html": [
       "<div>\n",
       "<style scoped>\n",
       "    .dataframe tbody tr th:only-of-type {\n",
       "        vertical-align: middle;\n",
       "    }\n",
       "\n",
       "    .dataframe tbody tr th {\n",
       "        vertical-align: top;\n",
       "    }\n",
       "\n",
       "    .dataframe thead th {\n",
       "        text-align: right;\n",
       "    }\n",
       "</style>\n",
       "<table border=\"1\" class=\"dataframe\">\n",
       "  <thead>\n",
       "    <tr style=\"text-align: right;\">\n",
       "      <th></th>\n",
       "      <th>Name</th>\n",
       "      <th>Team</th>\n",
       "      <th>Number</th>\n",
       "      <th>Position</th>\n",
       "      <th>Age</th>\n",
       "      <th>Height</th>\n",
       "      <th>Weight</th>\n",
       "      <th>College</th>\n",
       "      <th>Salary</th>\n",
       "    </tr>\n",
       "  </thead>\n",
       "  <tbody>\n",
       "    <tr>\n",
       "      <th>0</th>\n",
       "      <td>Avery Bradley</td>\n",
       "      <td>Boston Celtics</td>\n",
       "      <td>0.0</td>\n",
       "      <td>PG</td>\n",
       "      <td>25.0</td>\n",
       "      <td>6-2</td>\n",
       "      <td>180.0</td>\n",
       "      <td>Texas</td>\n",
       "      <td>7730337.0</td>\n",
       "    </tr>\n",
       "    <tr>\n",
       "      <th>1</th>\n",
       "      <td>Jae Crowder</td>\n",
       "      <td>Boston Celtics</td>\n",
       "      <td>99.0</td>\n",
       "      <td>SF</td>\n",
       "      <td>25.0</td>\n",
       "      <td>6-6</td>\n",
       "      <td>235.0</td>\n",
       "      <td>Marquette</td>\n",
       "      <td>6796117.0</td>\n",
       "    </tr>\n",
       "    <tr>\n",
       "      <th>2</th>\n",
       "      <td>John Holland</td>\n",
       "      <td>Boston Celtics</td>\n",
       "      <td>30.0</td>\n",
       "      <td>SG</td>\n",
       "      <td>27.0</td>\n",
       "      <td>6-5</td>\n",
       "      <td>205.0</td>\n",
       "      <td>Boston University</td>\n",
       "      <td>NaN</td>\n",
       "    </tr>\n",
       "    <tr>\n",
       "      <th>3</th>\n",
       "      <td>R.J. Hunter</td>\n",
       "      <td>Boston Celtics</td>\n",
       "      <td>28.0</td>\n",
       "      <td>SG</td>\n",
       "      <td>22.0</td>\n",
       "      <td>6-5</td>\n",
       "      <td>185.0</td>\n",
       "      <td>Georgia State</td>\n",
       "      <td>1148640.0</td>\n",
       "    </tr>\n",
       "    <tr>\n",
       "      <th>4</th>\n",
       "      <td>Jonas Jerebko</td>\n",
       "      <td>Boston Celtics</td>\n",
       "      <td>8.0</td>\n",
       "      <td>PF</td>\n",
       "      <td>29.0</td>\n",
       "      <td>6-10</td>\n",
       "      <td>231.0</td>\n",
       "      <td>NaN</td>\n",
       "      <td>5000000.0</td>\n",
       "    </tr>\n",
       "  </tbody>\n",
       "</table>\n",
       "</div>"
      ],
      "text/plain": [
       "            Name            Team  Number Position   Age Height  Weight  \\\n",
       "0  Avery Bradley  Boston Celtics     0.0       PG  25.0    6-2   180.0   \n",
       "1    Jae Crowder  Boston Celtics    99.0       SF  25.0    6-6   235.0   \n",
       "2   John Holland  Boston Celtics    30.0       SG  27.0    6-5   205.0   \n",
       "3    R.J. Hunter  Boston Celtics    28.0       SG  22.0    6-5   185.0   \n",
       "4  Jonas Jerebko  Boston Celtics     8.0       PF  29.0   6-10   231.0   \n",
       "\n",
       "             College     Salary  \n",
       "0              Texas  7730337.0  \n",
       "1          Marquette  6796117.0  \n",
       "2  Boston University        NaN  \n",
       "3      Georgia State  1148640.0  \n",
       "4                NaN  5000000.0  "
      ]
     },
     "execution_count": 35,
     "metadata": {},
     "output_type": "execute_result"
    }
   ],
   "source": [
    "data.head()"
   ]
  },
  {
   "cell_type": "code",
   "execution_count": 36,
   "id": "658a28be",
   "metadata": {},
   "outputs": [
    {
     "name": "stdout",
     "output_type": "stream",
     "text": [
      "0 Name         Avery Bradley\n",
      "Team        Boston Celtics\n",
      "Number                 0.0\n",
      "Position                PG\n",
      "Age                   25.0\n",
      "Height                 6-2\n",
      "Weight               180.0\n",
      "College              Texas\n",
      "Salary           7730337.0\n",
      "Name: 0, dtype: object\n",
      "\n",
      "1 Name           Jae Crowder\n",
      "Team        Boston Celtics\n",
      "Number                99.0\n",
      "Position                SF\n",
      "Age                   25.0\n",
      "Height                 6-6\n",
      "Weight               235.0\n",
      "College          Marquette\n",
      "Salary           6796117.0\n",
      "Name: 1, dtype: object\n",
      "\n"
     ]
    }
   ],
   "source": [
    "import pandas as pd  \n",
    "# data = pd.read_csv(\"nba.csv\")  \n",
    "\n",
    "# iterate over rows\n",
    "for i, row in data.head(2).iterrows():\n",
    "    print(i, row)\n",
    "    print()"
   ]
  },
  {
   "cell_type": "code",
   "execution_count": 39,
   "id": "079762a4",
   "metadata": {},
   "outputs": [
    {
     "name": "stdout",
     "output_type": "stream",
     "text": [
      "Avery Bradley | 7730337\n",
      "Jae Crowder | 6796117\n",
      "Amir Johnson | 12000000\n",
      "Isaiah Thomas | 6912869\n",
      "Jarrett Jack | 6300000\n",
      "Brook Lopez | 19689000\n",
      "Thaddeus Young | 11235955\n",
      "Arron Afflalo | 8000000\n",
      "Carmelo Anthony | 22875000\n",
      "Jose Calderon | 7402812\n"
     ]
    }
   ],
   "source": [
    "import pandas as pd  \n",
    "# data = pd.read_csv(\"nba.csv\")  \n",
    "\n",
    "high_salary = []\n",
    "for i, row in data.iterrows():\n",
    "    s = row['Salary']\n",
    "    if s > 5_000_000:\n",
    "        high_salary.append((row['Name'], int(s)))\n",
    "\n",
    "for name, sal in high_salary[:10]:\n",
    "    print(f\"{name} | {sal}\")"
   ]
  },
  {
   "cell_type": "code",
   "execution_count": 41,
   "id": "cd8d429b",
   "metadata": {},
   "outputs": [
    {
     "name": "stdout",
     "output_type": "stream",
     "text": [
      "NBA Dataset:\n"
     ]
    },
    {
     "data": {
      "text/html": [
       "<div>\n",
       "<style scoped>\n",
       "    .dataframe tbody tr th:only-of-type {\n",
       "        vertical-align: middle;\n",
       "    }\n",
       "\n",
       "    .dataframe tbody tr th {\n",
       "        vertical-align: top;\n",
       "    }\n",
       "\n",
       "    .dataframe thead th {\n",
       "        text-align: right;\n",
       "    }\n",
       "</style>\n",
       "<table border=\"1\" class=\"dataframe\">\n",
       "  <thead>\n",
       "    <tr style=\"text-align: right;\">\n",
       "      <th></th>\n",
       "      <th>Name</th>\n",
       "      <th>Team</th>\n",
       "      <th>Number</th>\n",
       "      <th>Position</th>\n",
       "      <th>Age</th>\n",
       "      <th>Height</th>\n",
       "      <th>Weight</th>\n",
       "      <th>College</th>\n",
       "      <th>Salary</th>\n",
       "    </tr>\n",
       "  </thead>\n",
       "  <tbody>\n",
       "    <tr>\n",
       "      <th>0</th>\n",
       "      <td>Avery Bradley</td>\n",
       "      <td>Boston Celtics</td>\n",
       "      <td>0.0</td>\n",
       "      <td>PG</td>\n",
       "      <td>25.0</td>\n",
       "      <td>6-2</td>\n",
       "      <td>180.0</td>\n",
       "      <td>Texas</td>\n",
       "      <td>7730337.0</td>\n",
       "    </tr>\n",
       "    <tr>\n",
       "      <th>1</th>\n",
       "      <td>Jae Crowder</td>\n",
       "      <td>Boston Celtics</td>\n",
       "      <td>99.0</td>\n",
       "      <td>SF</td>\n",
       "      <td>25.0</td>\n",
       "      <td>6-6</td>\n",
       "      <td>235.0</td>\n",
       "      <td>Marquette</td>\n",
       "      <td>6796117.0</td>\n",
       "    </tr>\n",
       "    <tr>\n",
       "      <th>2</th>\n",
       "      <td>John Holland</td>\n",
       "      <td>Boston Celtics</td>\n",
       "      <td>30.0</td>\n",
       "      <td>SG</td>\n",
       "      <td>27.0</td>\n",
       "      <td>6-5</td>\n",
       "      <td>205.0</td>\n",
       "      <td>Boston University</td>\n",
       "      <td>NaN</td>\n",
       "    </tr>\n",
       "    <tr>\n",
       "      <th>3</th>\n",
       "      <td>R.J. Hunter</td>\n",
       "      <td>Boston Celtics</td>\n",
       "      <td>28.0</td>\n",
       "      <td>SG</td>\n",
       "      <td>22.0</td>\n",
       "      <td>6-5</td>\n",
       "      <td>185.0</td>\n",
       "      <td>Georgia State</td>\n",
       "      <td>1148640.0</td>\n",
       "    </tr>\n",
       "    <tr>\n",
       "      <th>4</th>\n",
       "      <td>Jonas Jerebko</td>\n",
       "      <td>Boston Celtics</td>\n",
       "      <td>8.0</td>\n",
       "      <td>PF</td>\n",
       "      <td>29.0</td>\n",
       "      <td>6-10</td>\n",
       "      <td>231.0</td>\n",
       "      <td>NaN</td>\n",
       "      <td>5000000.0</td>\n",
       "    </tr>\n",
       "  </tbody>\n",
       "</table>\n",
       "</div>"
      ],
      "text/plain": [
       "            Name            Team  Number Position   Age Height  Weight  \\\n",
       "0  Avery Bradley  Boston Celtics     0.0       PG  25.0    6-2   180.0   \n",
       "1    Jae Crowder  Boston Celtics    99.0       SF  25.0    6-6   235.0   \n",
       "2   John Holland  Boston Celtics    30.0       SG  27.0    6-5   205.0   \n",
       "3    R.J. Hunter  Boston Celtics    28.0       SG  22.0    6-5   185.0   \n",
       "4  Jonas Jerebko  Boston Celtics     8.0       PF  29.0   6-10   231.0   \n",
       "\n",
       "             College     Salary  \n",
       "0              Texas  7730337.0  \n",
       "1          Marquette  6796117.0  \n",
       "2  Boston University        NaN  \n",
       "3      Georgia State  1148640.0  \n",
       "4                NaN  5000000.0  "
      ]
     },
     "metadata": {},
     "output_type": "display_data"
    },
    {
     "name": "stdout",
     "output_type": "stream",
     "text": [
      "\n",
      "Sorted DataFrame:\n"
     ]
    },
    {
     "data": {
      "text/html": [
       "<div>\n",
       "<style scoped>\n",
       "    .dataframe tbody tr th:only-of-type {\n",
       "        vertical-align: middle;\n",
       "    }\n",
       "\n",
       "    .dataframe tbody tr th {\n",
       "        vertical-align: top;\n",
       "    }\n",
       "\n",
       "    .dataframe thead th {\n",
       "        text-align: right;\n",
       "    }\n",
       "</style>\n",
       "<table border=\"1\" class=\"dataframe\">\n",
       "  <thead>\n",
       "    <tr style=\"text-align: right;\">\n",
       "      <th></th>\n",
       "      <th>Name</th>\n",
       "      <th>Team</th>\n",
       "      <th>Number</th>\n",
       "      <th>Position</th>\n",
       "      <th>Age</th>\n",
       "      <th>Height</th>\n",
       "      <th>Weight</th>\n",
       "      <th>College</th>\n",
       "      <th>Salary</th>\n",
       "    </tr>\n",
       "  </thead>\n",
       "  <tbody>\n",
       "    <tr>\n",
       "      <th>152</th>\n",
       "      <td>Aaron Brooks</td>\n",
       "      <td>Chicago Bulls</td>\n",
       "      <td>0.0</td>\n",
       "      <td>PG</td>\n",
       "      <td>31.0</td>\n",
       "      <td>6-0</td>\n",
       "      <td>161.0</td>\n",
       "      <td>Oregon</td>\n",
       "      <td>2250000.0</td>\n",
       "    </tr>\n",
       "    <tr>\n",
       "      <th>356</th>\n",
       "      <td>Aaron Gordon</td>\n",
       "      <td>Orlando Magic</td>\n",
       "      <td>0.0</td>\n",
       "      <td>PF</td>\n",
       "      <td>20.0</td>\n",
       "      <td>6-9</td>\n",
       "      <td>220.0</td>\n",
       "      <td>Arizona</td>\n",
       "      <td>4171680.0</td>\n",
       "    </tr>\n",
       "    <tr>\n",
       "      <th>328</th>\n",
       "      <td>Aaron Harrison</td>\n",
       "      <td>Charlotte Hornets</td>\n",
       "      <td>9.0</td>\n",
       "      <td>SG</td>\n",
       "      <td>21.0</td>\n",
       "      <td>6-6</td>\n",
       "      <td>210.0</td>\n",
       "      <td>Kentucky</td>\n",
       "      <td>525093.0</td>\n",
       "    </tr>\n",
       "    <tr>\n",
       "      <th>404</th>\n",
       "      <td>Adreian Payne</td>\n",
       "      <td>Minnesota Timberwolves</td>\n",
       "      <td>33.0</td>\n",
       "      <td>PF</td>\n",
       "      <td>25.0</td>\n",
       "      <td>6-10</td>\n",
       "      <td>237.0</td>\n",
       "      <td>Michigan State</td>\n",
       "      <td>1938840.0</td>\n",
       "    </tr>\n",
       "    <tr>\n",
       "      <th>312</th>\n",
       "      <td>Al Horford</td>\n",
       "      <td>Atlanta Hawks</td>\n",
       "      <td>15.0</td>\n",
       "      <td>C</td>\n",
       "      <td>30.0</td>\n",
       "      <td>6-10</td>\n",
       "      <td>245.0</td>\n",
       "      <td>Florida</td>\n",
       "      <td>12000000.0</td>\n",
       "    </tr>\n",
       "  </tbody>\n",
       "</table>\n",
       "</div>"
      ],
      "text/plain": [
       "               Name                    Team  Number Position   Age Height  \\\n",
       "152    Aaron Brooks           Chicago Bulls     0.0       PG  31.0    6-0   \n",
       "356    Aaron Gordon           Orlando Magic     0.0       PF  20.0    6-9   \n",
       "328  Aaron Harrison       Charlotte Hornets     9.0       SG  21.0    6-6   \n",
       "404   Adreian Payne  Minnesota Timberwolves    33.0       PF  25.0   6-10   \n",
       "312      Al Horford           Atlanta Hawks    15.0        C  30.0   6-10   \n",
       "\n",
       "     Weight         College      Salary  \n",
       "152   161.0          Oregon   2250000.0  \n",
       "356   220.0         Arizona   4171680.0  \n",
       "328   210.0        Kentucky    525093.0  \n",
       "404   237.0  Michigan State   1938840.0  \n",
       "312   245.0         Florida  12000000.0  "
      ]
     },
     "metadata": {},
     "output_type": "display_data"
    }
   ],
   "source": [
    "import pandas as pd\n",
    "\n",
    "# Load DataFrame from CSV file\n",
    "# data = pd.read_csv(\"nba.csv\")\n",
    "print(\"NBA Dataset:\")\n",
    "display(data.head())\n",
    "\n",
    "# Sort the DataFrame by the 'Name' column in ascending order\n",
    "data.sort_values(\"Name\", axis=0, ascending=True, inplace=True, na_position='last')\n",
    "\n",
    "# Display the sorted DataFrame\n",
    "print(\"\\nSorted DataFrame:\")\n",
    "display(data.head())"
   ]
  },
  {
   "cell_type": "code",
   "execution_count": 42,
   "id": "f2c5a37c",
   "metadata": {},
   "outputs": [
    {
     "name": "stdout",
     "output_type": "stream",
     "text": [
      "     Name  Age    Address Qualification  Mobile No\n",
      "0     Jai   27     Nagpur           Msc         97\n",
      "1  Princi   24     Kanpur            MA         91\n",
      "2  Gaurav   22  Allahabad           MCA         58\n",
      "3    Anuj   32    Kannuaj           Phd         76 \n",
      "\n",
      "      Name  Age    Address Qualification  Salary\n",
      "2  Gaurav   22  Allahabad           MCA    1000\n",
      "3    Anuj   32    Kannuaj           Phd    2000\n",
      "6  Dhiraj   12  Allahabad          Bcom    3000\n",
      "7  Hitesh   52    Kannuaj        B.hons    4000\n"
     ]
    }
   ],
   "source": [
    "import pandas as pd\n",
    "\n",
    "data1 = {'Name': ['Jai', 'Princi', 'Gaurav', 'Anuj'],\n",
    "         'Age': [27, 24, 22, 32],\n",
    "         'Address': ['Nagpur', 'Kanpur', 'Allahabad', 'Kannuaj'],\n",
    "         'Qualification': ['Msc', 'MA', 'MCA', 'Phd'],\n",
    "         'Mobile No': [97, 91, 58, 76]}\n",
    "\n",
    "data2 = {'Name': ['Gaurav', 'Anuj', 'Dhiraj', 'Hitesh'],\n",
    "         'Age': [22, 32, 12, 52],\n",
    "         'Address': ['Allahabad', 'Kannuaj', 'Allahabad', 'Kannuaj'],\n",
    "         'Qualification': ['MCA', 'Phd', 'Bcom', 'B.hons'],\n",
    "         'Salary': [1000, 2000, 3000, 4000]}\n",
    "\n",
    "df = pd.DataFrame(data1, index=[0, 1, 2, 3])\n",
    "\n",
    "df1 = pd.DataFrame(data2, index=[2, 3, 6, 7])\n",
    "\n",
    "print(df, \"\\n\\n\", df1)"
   ]
  },
  {
   "cell_type": "code",
   "execution_count": 43,
   "id": "2fab71d6",
   "metadata": {},
   "outputs": [
    {
     "data": {
      "text/html": [
       "<div>\n",
       "<style scoped>\n",
       "    .dataframe tbody tr th:only-of-type {\n",
       "        vertical-align: middle;\n",
       "    }\n",
       "\n",
       "    .dataframe tbody tr th {\n",
       "        vertical-align: top;\n",
       "    }\n",
       "\n",
       "    .dataframe thead th {\n",
       "        text-align: right;\n",
       "    }\n",
       "</style>\n",
       "<table border=\"1\" class=\"dataframe\">\n",
       "  <thead>\n",
       "    <tr style=\"text-align: right;\">\n",
       "      <th></th>\n",
       "      <th>Name</th>\n",
       "      <th>Age</th>\n",
       "      <th>Address</th>\n",
       "      <th>Qualification</th>\n",
       "      <th>Mobile No</th>\n",
       "      <th>Name</th>\n",
       "      <th>Age</th>\n",
       "      <th>Address</th>\n",
       "      <th>Qualification</th>\n",
       "      <th>Salary</th>\n",
       "    </tr>\n",
       "  </thead>\n",
       "  <tbody>\n",
       "    <tr>\n",
       "      <th>2</th>\n",
       "      <td>Gaurav</td>\n",
       "      <td>22</td>\n",
       "      <td>Allahabad</td>\n",
       "      <td>MCA</td>\n",
       "      <td>58</td>\n",
       "      <td>Gaurav</td>\n",
       "      <td>22</td>\n",
       "      <td>Allahabad</td>\n",
       "      <td>MCA</td>\n",
       "      <td>1000</td>\n",
       "    </tr>\n",
       "    <tr>\n",
       "      <th>3</th>\n",
       "      <td>Anuj</td>\n",
       "      <td>32</td>\n",
       "      <td>Kannuaj</td>\n",
       "      <td>Phd</td>\n",
       "      <td>76</td>\n",
       "      <td>Anuj</td>\n",
       "      <td>32</td>\n",
       "      <td>Kannuaj</td>\n",
       "      <td>Phd</td>\n",
       "      <td>2000</td>\n",
       "    </tr>\n",
       "  </tbody>\n",
       "</table>\n",
       "</div>"
      ],
      "text/plain": [
       "     Name  Age    Address Qualification  Mobile No    Name  Age    Address  \\\n",
       "2  Gaurav   22  Allahabad           MCA         58  Gaurav   22  Allahabad   \n",
       "3    Anuj   32    Kannuaj           Phd         76    Anuj   32    Kannuaj   \n",
       "\n",
       "  Qualification  Salary  \n",
       "2           MCA    1000  \n",
       "3           Phd    2000  "
      ]
     },
     "execution_count": 43,
     "metadata": {},
     "output_type": "execute_result"
    }
   ],
   "source": [
    "res2 = pd.concat([df, df1], axis=1, join='inner')\n",
    "\n",
    "res2"
   ]
  },
  {
   "cell_type": "code",
   "execution_count": 44,
   "id": "3369eb22",
   "metadata": {},
   "outputs": [
    {
     "data": {
      "text/html": [
       "<div>\n",
       "<style scoped>\n",
       "    .dataframe tbody tr th:only-of-type {\n",
       "        vertical-align: middle;\n",
       "    }\n",
       "\n",
       "    .dataframe tbody tr th {\n",
       "        vertical-align: top;\n",
       "    }\n",
       "\n",
       "    .dataframe thead th {\n",
       "        text-align: right;\n",
       "    }\n",
       "</style>\n",
       "<table border=\"1\" class=\"dataframe\">\n",
       "  <thead>\n",
       "    <tr style=\"text-align: right;\">\n",
       "      <th></th>\n",
       "      <th>Name</th>\n",
       "      <th>Age</th>\n",
       "      <th>Address</th>\n",
       "      <th>Qualification</th>\n",
       "      <th>Mobile No</th>\n",
       "      <th>Salary</th>\n",
       "    </tr>\n",
       "  </thead>\n",
       "  <tbody>\n",
       "    <tr>\n",
       "      <th>0</th>\n",
       "      <td>Jai</td>\n",
       "      <td>27</td>\n",
       "      <td>Nagpur</td>\n",
       "      <td>Msc</td>\n",
       "      <td>97.0</td>\n",
       "      <td>NaN</td>\n",
       "    </tr>\n",
       "    <tr>\n",
       "      <th>1</th>\n",
       "      <td>Princi</td>\n",
       "      <td>24</td>\n",
       "      <td>Kanpur</td>\n",
       "      <td>MA</td>\n",
       "      <td>91.0</td>\n",
       "      <td>NaN</td>\n",
       "    </tr>\n",
       "    <tr>\n",
       "      <th>2</th>\n",
       "      <td>Gaurav</td>\n",
       "      <td>22</td>\n",
       "      <td>Allahabad</td>\n",
       "      <td>MCA</td>\n",
       "      <td>58.0</td>\n",
       "      <td>NaN</td>\n",
       "    </tr>\n",
       "    <tr>\n",
       "      <th>3</th>\n",
       "      <td>Anuj</td>\n",
       "      <td>32</td>\n",
       "      <td>Kannuaj</td>\n",
       "      <td>Phd</td>\n",
       "      <td>76.0</td>\n",
       "      <td>NaN</td>\n",
       "    </tr>\n",
       "    <tr>\n",
       "      <th>4</th>\n",
       "      <td>Gaurav</td>\n",
       "      <td>22</td>\n",
       "      <td>Allahabad</td>\n",
       "      <td>MCA</td>\n",
       "      <td>NaN</td>\n",
       "      <td>1000.0</td>\n",
       "    </tr>\n",
       "    <tr>\n",
       "      <th>5</th>\n",
       "      <td>Anuj</td>\n",
       "      <td>32</td>\n",
       "      <td>Kannuaj</td>\n",
       "      <td>Phd</td>\n",
       "      <td>NaN</td>\n",
       "      <td>2000.0</td>\n",
       "    </tr>\n",
       "    <tr>\n",
       "      <th>6</th>\n",
       "      <td>Dhiraj</td>\n",
       "      <td>12</td>\n",
       "      <td>Allahabad</td>\n",
       "      <td>Bcom</td>\n",
       "      <td>NaN</td>\n",
       "      <td>3000.0</td>\n",
       "    </tr>\n",
       "    <tr>\n",
       "      <th>7</th>\n",
       "      <td>Hitesh</td>\n",
       "      <td>52</td>\n",
       "      <td>Kannuaj</td>\n",
       "      <td>B.hons</td>\n",
       "      <td>NaN</td>\n",
       "      <td>4000.0</td>\n",
       "    </tr>\n",
       "  </tbody>\n",
       "</table>\n",
       "</div>"
      ],
      "text/plain": [
       "     Name  Age    Address Qualification  Mobile No  Salary\n",
       "0     Jai   27     Nagpur           Msc       97.0     NaN\n",
       "1  Princi   24     Kanpur            MA       91.0     NaN\n",
       "2  Gaurav   22  Allahabad           MCA       58.0     NaN\n",
       "3    Anuj   32    Kannuaj           Phd       76.0     NaN\n",
       "4  Gaurav   22  Allahabad           MCA        NaN  1000.0\n",
       "5    Anuj   32    Kannuaj           Phd        NaN  2000.0\n",
       "6  Dhiraj   12  Allahabad          Bcom        NaN  3000.0\n",
       "7  Hitesh   52    Kannuaj        B.hons        NaN  4000.0"
      ]
     },
     "execution_count": 44,
     "metadata": {},
     "output_type": "execute_result"
    }
   ],
   "source": [
    "res = pd.concat([df, df1], ignore_index=True)\n",
    " \n",
    "res"
   ]
  },
  {
   "cell_type": "code",
   "execution_count": 56,
   "id": "5ddf63f1",
   "metadata": {},
   "outputs": [
    {
     "name": "stdout",
     "output_type": "stream",
     "text": [
      "Team\n",
      "Australia       41750.000000\n",
      "England         55680.333333\n",
      "India           51832.666667\n",
      "South Africa    57287.500000\n",
      "Name: Salary, dtype: float64\n"
     ]
    }
   ],
   "source": [
    "import pandas as pd\n",
    "\n",
    "# example dataframe\n",
    "example = {'Team':['Australia', 'England', 'South Africa',\n",
    "                   'Australia', 'England', 'India', 'India',\n",
    "                        'South Africa', 'England', 'India'],\n",
    "                        \n",
    "           'Player':['Ricky Ponting', 'Joe Root', 'Hashim Amla',\n",
    "                     'David Warner', 'Jos Buttler', 'Virat Kohli',\n",
    "                     'Rohit Sharma', 'David Miller', 'Eoin Morgan',\n",
    "                                                 'Dinesh Karthik'],\n",
    "                                                 \n",
    "          'Runs':[345, 336, 689, 490, 989, 672, 560, 455, 342, 376],\n",
    "          \n",
    "          'Salary':[34500, 33600, 68900, 49000, 98899,\n",
    "                    67562, 56760, 45675, 34542, 31176] }\n",
    "\n",
    "df = pd.DataFrame(example)\n",
    "\n",
    "total_salary = df['Salary'].groupby(df['Team'])\n",
    "\n",
    "# printing the means value\n",
    "print(total_salary.mean())"
   ]
  },
  {
   "cell_type": "code",
   "execution_count": null,
   "id": "ced969aa",
   "metadata": {},
   "outputs": [],
   "source": [
    "\t1. Create a new DataFrame showing total monthly sales for each customer.\n",
    "\t Identify customers with consecutive purchases for at least three months."
   ]
  },
  {
   "cell_type": "code",
   "execution_count": 63,
   "id": "73be8fcd",
   "metadata": {},
   "outputs": [
    {
     "name": "stdout",
     "output_type": "stream",
     "text": [
      "Original Data:\n",
      "   Customer      Month  Sales\n",
      "0         A 2024-01-01   1000\n",
      "1         A 2024-02-01   1200\n",
      "2         A 2024-02-01   2000\n",
      "3         A 2024-03-01   1300\n",
      "4         B 2024-01-01    900\n",
      "5         B 2024-03-01   1100\n",
      "6         C 2024-02-01    800\n",
      "7         C 2024-03-01    950\n",
      "8         C 2024-04-01   1000\n",
      "9         D 2024-01-01    500\n",
      "10        D 2024-02-01    600\n"
     ]
    }
   ],
   "source": [
    "import pandas as pd\n",
    "\n",
    "# Step 1️: Create sample data\n",
    "data = {\n",
    "    'Customer': ['A','A','A','A','B','B','C','C','C','D','D'],\n",
    "    'Month': ['2024-01','2024-02','2024-02','2024-03','2024-01','2024-03',\n",
    "              '2024-02','2024-03','2024-04','2024-01','2024-02'],\n",
    "    'Sales': [1000,1200,2000,1300,900,1100,800,950,1000,500,600]\n",
    "}\n",
    "\n",
    "df = pd.DataFrame(data)\n",
    "df['Month'] = pd.to_datetime(df['Month'])   # ensure Month is datetime\n",
    "\n",
    "print(\"Original Data:\")\n",
    "print(df)\n",
    "\n"
   ]
  },
  {
   "cell_type": "code",
   "execution_count": 51,
   "id": "e8f5356f",
   "metadata": {},
   "outputs": [],
   "source": [
    "df['Year'] = df['Month'].dt.year\n",
    "df['Month_no'] = df['Month'].dt.month"
   ]
  },
  {
   "cell_type": "code",
   "execution_count": 52,
   "id": "580cedd9",
   "metadata": {},
   "outputs": [
    {
     "data": {
      "text/html": [
       "<div>\n",
       "<style scoped>\n",
       "    .dataframe tbody tr th:only-of-type {\n",
       "        vertical-align: middle;\n",
       "    }\n",
       "\n",
       "    .dataframe tbody tr th {\n",
       "        vertical-align: top;\n",
       "    }\n",
       "\n",
       "    .dataframe thead th {\n",
       "        text-align: right;\n",
       "    }\n",
       "</style>\n",
       "<table border=\"1\" class=\"dataframe\">\n",
       "  <thead>\n",
       "    <tr style=\"text-align: right;\">\n",
       "      <th></th>\n",
       "      <th>Customer</th>\n",
       "      <th>Month</th>\n",
       "      <th>Sales</th>\n",
       "      <th>Year</th>\n",
       "      <th>Month_no</th>\n",
       "    </tr>\n",
       "  </thead>\n",
       "  <tbody>\n",
       "    <tr>\n",
       "      <th>0</th>\n",
       "      <td>A</td>\n",
       "      <td>2024-01-01</td>\n",
       "      <td>1000</td>\n",
       "      <td>2024</td>\n",
       "      <td>1</td>\n",
       "    </tr>\n",
       "    <tr>\n",
       "      <th>1</th>\n",
       "      <td>A</td>\n",
       "      <td>2024-02-01</td>\n",
       "      <td>1200</td>\n",
       "      <td>2024</td>\n",
       "      <td>2</td>\n",
       "    </tr>\n",
       "    <tr>\n",
       "      <th>2</th>\n",
       "      <td>A</td>\n",
       "      <td>2024-02-01</td>\n",
       "      <td>2000</td>\n",
       "      <td>2024</td>\n",
       "      <td>2</td>\n",
       "    </tr>\n",
       "    <tr>\n",
       "      <th>3</th>\n",
       "      <td>A</td>\n",
       "      <td>2024-03-01</td>\n",
       "      <td>1300</td>\n",
       "      <td>2024</td>\n",
       "      <td>3</td>\n",
       "    </tr>\n",
       "    <tr>\n",
       "      <th>4</th>\n",
       "      <td>B</td>\n",
       "      <td>2024-01-01</td>\n",
       "      <td>900</td>\n",
       "      <td>2024</td>\n",
       "      <td>1</td>\n",
       "    </tr>\n",
       "  </tbody>\n",
       "</table>\n",
       "</div>"
      ],
      "text/plain": [
       "  Customer      Month  Sales  Year  Month_no\n",
       "0        A 2024-01-01   1000  2024         1\n",
       "1        A 2024-02-01   1200  2024         2\n",
       "2        A 2024-02-01   2000  2024         2\n",
       "3        A 2024-03-01   1300  2024         3\n",
       "4        B 2024-01-01    900  2024         1"
      ]
     },
     "execution_count": 52,
     "metadata": {},
     "output_type": "execute_result"
    }
   ],
   "source": [
    "df.head()"
   ]
  },
  {
   "cell_type": "code",
   "execution_count": 55,
   "id": "7cb9e080",
   "metadata": {},
   "outputs": [
    {
     "name": "stdout",
     "output_type": "stream",
     "text": [
      "Customer  Year  Month_no\n",
      "A         2024  1           1000\n",
      "                2           3200\n",
      "                3           1300\n",
      "B         2024  1            900\n",
      "                3           1100\n",
      "C         2024  2            800\n",
      "                3            950\n",
      "                4           1000\n",
      "D         2024  1            500\n",
      "                2            600\n",
      "Name: Sales, dtype: int64\n"
     ]
    }
   ],
   "source": [
    "monthly_sales  = (df.groupby(['Customer','Year','Month_no'])['Sales'].sum())\n",
    "print(monthly_sales)"
   ]
  },
  {
   "cell_type": "code",
   "execution_count": 57,
   "id": "2a2e4e5e",
   "metadata": {},
   "outputs": [
    {
     "ename": "SyntaxError",
     "evalue": "invalid syntax (2984888692.py, line 1)",
     "output_type": "error",
     "traceback": [
      "  \u001b[36mCell\u001b[39m\u001b[36m \u001b[39m\u001b[32mIn[57]\u001b[39m\u001b[32m, line 1\u001b[39m\n\u001b[31m    \u001b[39m\u001b[31mIdentify customers with consecutive purchases for at least three months.\u001b[39m\n             ^\n\u001b[31mSyntaxError\u001b[39m\u001b[31m:\u001b[39m invalid syntax\n"
     ]
    }
   ],
   "source": [
    "\n",
    "\tIdentify customers with consecutive purchases for at least three months."
   ]
  },
  {
   "cell_type": "code",
   "execution_count": 65,
   "id": "465c06b9",
   "metadata": {},
   "outputs": [
    {
     "name": "stdout",
     "output_type": "stream",
     "text": [
      "A\n"
     ]
    },
    {
     "ename": "TypeError",
     "evalue": "Series.sort_values() takes 1 positional argument but 2 were given",
     "output_type": "error",
     "traceback": [
      "\u001b[31m---------------------------------------------------------------------------\u001b[39m",
      "\u001b[31mTypeError\u001b[39m                                 Traceback (most recent call last)",
      "\u001b[36mCell\u001b[39m\u001b[36m \u001b[39m\u001b[32mIn[65]\u001b[39m\u001b[32m, line 5\u001b[39m\n\u001b[32m      3\u001b[39m \u001b[38;5;28;01mfor\u001b[39;00m customer, group \u001b[38;5;129;01min\u001b[39;00m monthly_sales.groupby(\u001b[33m'\u001b[39m\u001b[33mCustomer\u001b[39m\u001b[33m'\u001b[39m):\n\u001b[32m      4\u001b[39m     \u001b[38;5;28mprint\u001b[39m(customer)\n\u001b[32m----> \u001b[39m\u001b[32m5\u001b[39m     months = \u001b[43mgroup\u001b[49m\u001b[43m.\u001b[49m\u001b[43msort_values\u001b[49m\u001b[43m(\u001b[49m\u001b[43m[\u001b[49m\u001b[33;43m'\u001b[39;49m\u001b[33;43mYear\u001b[39;49m\u001b[33;43m'\u001b[39;49m\u001b[43m,\u001b[49m\u001b[43m \u001b[49m\u001b[33;43m'\u001b[39;49m\u001b[33;43mMonth_no\u001b[39;49m\u001b[33;43m'\u001b[39;49m\u001b[43m]\u001b[49m\u001b[43m)\u001b[49m[\u001b[33m'\u001b[39m\u001b[33mMonth_no\u001b[39m\u001b[33m'\u001b[39m].tolist()\n\u001b[32m      6\u001b[39m     count = \u001b[32m1\u001b[39m \n\u001b[32m      8\u001b[39m     \u001b[38;5;28;01mfor\u001b[39;00m i \u001b[38;5;129;01min\u001b[39;00m \u001b[38;5;28mrange\u001b[39m(\u001b[32m1\u001b[39m, \u001b[38;5;28mlen\u001b[39m(months)):\n",
      "\u001b[31mTypeError\u001b[39m: Series.sort_values() takes 1 positional argument but 2 were given"
     ]
    }
   ],
   "source": [
    "customers_with_consecutive = []\n",
    "\n",
    "for customer, group in monthly_sales.groupby('Customer'):\n",
    "    print(customer)\n",
    "    months = group.sort_values(['Year', 'Month_no'])['Month_no'].tolist()\n",
    "    count = 1 \n",
    "    \n",
    "    for i in range(1, len(months)):\n",
    "        if months[i] - months[i-1] == 1:\n",
    "            count += 1\n",
    "            if count >= 3:\n",
    "                customers_with_consecutive.append(customer)\n",
    "                break\n",
    "        else:\n",
    "            count = 1\n",
    "\n",
    "print(\"\\nCustomers with 3+ consecutive monthly purchases:\")\n",
    "print(customers_with_consecutive)\n"
   ]
  },
  {
   "cell_type": "code",
   "execution_count": 61,
   "id": "b0864932",
   "metadata": {},
   "outputs": [
    {
     "ename": "TypeError",
     "evalue": "Series.sort_values() takes 1 positional argument but 2 were given",
     "output_type": "error",
     "traceback": [
      "\u001b[31m---------------------------------------------------------------------------\u001b[39m",
      "\u001b[31mTypeError\u001b[39m                                 Traceback (most recent call last)",
      "\u001b[36mCell\u001b[39m\u001b[36m \u001b[39m\u001b[32mIn[61]\u001b[39m\u001b[32m, line 3\u001b[39m\n\u001b[32m      1\u001b[39m \u001b[38;5;28;01mfor\u001b[39;00m customer, group \u001b[38;5;129;01min\u001b[39;00m monthly_sales.groupby(\u001b[33m'\u001b[39m\u001b[33mCustomer\u001b[39m\u001b[33m'\u001b[39m):\n\u001b[32m      2\u001b[39m     \u001b[38;5;66;03m# Sort by Year and Month_no first (on the full DataFrame)\u001b[39;00m\n\u001b[32m----> \u001b[39m\u001b[32m3\u001b[39m     group = \u001b[43mgroup\u001b[49m\u001b[43m.\u001b[49m\u001b[43msort_values\u001b[49m\u001b[43m(\u001b[49m\u001b[43m[\u001b[49m\u001b[33;43m'\u001b[39;49m\u001b[33;43mYear\u001b[39;49m\u001b[33;43m'\u001b[39;49m\u001b[43m,\u001b[49m\u001b[43m \u001b[49m\u001b[33;43m'\u001b[39;49m\u001b[33;43mMonth_no\u001b[39;49m\u001b[33;43m'\u001b[39;49m\u001b[43m]\u001b[49m\u001b[43m)\u001b[49m\n\u001b[32m      5\u001b[39m     \u001b[38;5;66;03m# Now extract the Month_no column as a list\u001b[39;00m\n\u001b[32m      6\u001b[39m     months = group[\u001b[33m'\u001b[39m\u001b[33mMonth_no\u001b[39m\u001b[33m'\u001b[39m].tolist()\n",
      "\u001b[31mTypeError\u001b[39m: Series.sort_values() takes 1 positional argument but 2 were given"
     ]
    }
   ],
   "source": [
    "for customer, group in monthly_sales.groupby('Customer'):\n",
    "    # Sort by Year and Month_no first (on the full DataFrame)\n",
    "    group = group.sort_values(['Year', 'Month_no'])\n",
    "    \n",
    "    # Now extract the Month_no column as a list\n",
    "    months = group['Month_no'].tolist()\n",
    "    \n",
    "    print(customer, months)\n"
   ]
  },
  {
   "cell_type": "code",
   "execution_count": 64,
   "id": "d83ca393",
   "metadata": {},
   "outputs": [
    {
     "data": {
      "text/plain": [
       "array(['A', 'B', 'C', 'D'], dtype=object)"
      ]
     },
     "execution_count": 64,
     "metadata": {},
     "output_type": "execute_result"
    }
   ],
   "source": [
    "df['Customer'].unique()"
   ]
  },
  {
   "cell_type": "code",
   "execution_count": null,
   "id": "b28615f7",
   "metadata": {},
   "outputs": [
    {
     "name": "stdout",
     "output_type": "stream",
     "text": [
      "A\n",
      "3\n",
      "[np.int64(1), np.int64(2), np.int64(3)]\n",
      "B\n",
      "2\n",
      "[np.int64(1), np.int64(4)]\n",
      "C\n",
      "3\n",
      "[np.int64(5), np.int64(6), np.int64(8)]\n",
      "Customers with purchases for 3 consecutive months:\n",
      "['A']\n"
     ]
    }
   ],
   "source": [
    "import pandas as pd\n",
    "\n",
    "# Sample data\n",
    "data = {\n",
    "    'Customer': ['A','A','A','B','B','C','C','C'],\n",
    "    'Year': [2024,2024,2024,2024,2024,2024,2024,2024],\n",
    "    'Month_no': [1,2,3,1,4,5,6,8],\n",
    "    'Sales': [200,300,250,100,150,400,300,500]\n",
    "}\n",
    "\n",
    "df = pd.DataFrame(data)\n",
    "\n",
    "# Find customers with 3 consecutive months\n",
    "customers_3_months = []\n",
    "for customer in df['Customer'].unique():\n",
    "    print(customer)\n",
    "    # Get all months for the customer\n",
    "    months = sorted(df[df['Customer'] == customer]['Month_no'].unique())\n",
    "    print(len(months))\n",
    "    print(months)\n",
    "    count = 1  # to track consecutive sequence length\n",
    "    \n",
    "    for i in range(1, len(months)):\n",
    "        # Check if current month is consecutive to previous\n",
    "        if months[i] == months[i-1] + 1:\n",
    "            count += 1\n",
    "        else:\n",
    "            count = 1  # reset count if gap found\n",
    "        \n",
    "        # If found 3 consecutive months\n",
    "        if count >= 3:\n",
    "            customers_3_months.append(customer)\n",
    "            break  # no need to check more for this customer\n",
    "\n",
    "print(\"Customers with purchases for 3 consecutive months:\")\n",
    "print(customers_3_months)\n"
   ]
  },
  {
   "cell_type": "code",
   "execution_count": 74,
   "id": "0122e123",
   "metadata": {},
   "outputs": [
    {
     "data": {
      "text/html": [
       "<div>\n",
       "<style scoped>\n",
       "    .dataframe tbody tr th:only-of-type {\n",
       "        vertical-align: middle;\n",
       "    }\n",
       "\n",
       "    .dataframe tbody tr th {\n",
       "        vertical-align: top;\n",
       "    }\n",
       "\n",
       "    .dataframe thead th {\n",
       "        text-align: right;\n",
       "    }\n",
       "</style>\n",
       "<table border=\"1\" class=\"dataframe\">\n",
       "  <thead>\n",
       "    <tr style=\"text-align: right;\">\n",
       "      <th></th>\n",
       "      <th>Customer</th>\n",
       "      <th>Year</th>\n",
       "      <th>Month_no</th>\n",
       "      <th>Sales</th>\n",
       "    </tr>\n",
       "  </thead>\n",
       "  <tbody>\n",
       "    <tr>\n",
       "      <th>0</th>\n",
       "      <td>A</td>\n",
       "      <td>2024</td>\n",
       "      <td>1</td>\n",
       "      <td>200</td>\n",
       "    </tr>\n",
       "    <tr>\n",
       "      <th>1</th>\n",
       "      <td>A</td>\n",
       "      <td>2024</td>\n",
       "      <td>2</td>\n",
       "      <td>300</td>\n",
       "    </tr>\n",
       "    <tr>\n",
       "      <th>2</th>\n",
       "      <td>A</td>\n",
       "      <td>2024</td>\n",
       "      <td>3</td>\n",
       "      <td>250</td>\n",
       "    </tr>\n",
       "  </tbody>\n",
       "</table>\n",
       "</div>"
      ],
      "text/plain": [
       "  Customer  Year  Month_no  Sales\n",
       "0        A  2024         1    200\n",
       "1        A  2024         2    300\n",
       "2        A  2024         3    250"
      ]
     },
     "execution_count": 74,
     "metadata": {},
     "output_type": "execute_result"
    }
   ],
   "source": [
    "df[df['Customer'] == 'A']"
   ]
  },
  {
   "cell_type": "code",
   "execution_count": 75,
   "id": "d06aa295",
   "metadata": {},
   "outputs": [
    {
     "data": {
      "text/plain": [
       "0    1\n",
       "1    2\n",
       "2    3\n",
       "Name: Month_no, dtype: int64"
      ]
     },
     "execution_count": 75,
     "metadata": {},
     "output_type": "execute_result"
    }
   ],
   "source": [
    "df[df['Customer'] == 'A']['Month_no']"
   ]
  },
  {
   "cell_type": "code",
   "execution_count": 77,
   "id": "d7f1e870",
   "metadata": {},
   "outputs": [
    {
     "name": "stdout",
     "output_type": "stream",
     "text": [
      "Quarterly sales per product:\n",
      "  Product  Quarter  Sales\n",
      "0      P1        1    450\n",
      "1      P2        1    360\n",
      "2      P3        1    750\n",
      "3      P4        1    330\n",
      "\n",
      "Product with highest total sales:\n",
      "Product     P3\n",
      "Sales      750\n",
      "Name: 2, dtype: object\n"
     ]
    }
   ],
   "source": [
    "# 2. Calculate the quarterly sales for each product and find the product with the highest overall quarterly sales. \n",
    "\n",
    "\n",
    "import pandas as pd\n",
    "\n",
    "# Sample data\n",
    "data = {\n",
    "    'Product': ['P1','P1','P1','P2','P2','P2','P3','P3','P3','P4','P4','P4'],\n",
    "    'Month_no': [1,2,3,1,2,3,1,2,3,1,2,3],\n",
    "    'Sales': [100, 150, 200, 80, 120, 160, 200, 250, 300, 90, 110, 130]\n",
    "}\n",
    "\n",
    "df = pd.DataFrame(data)\n",
    "\n",
    "# Add Quarter column\n",
    "df['Quarter'] = ((df['Month_no'] - 1) // 3) + 1\n",
    "\n",
    "# Calculate quarterly sales for each product\n",
    "quarterly_sales = df.groupby(['Product','Quarter'])['Sales'].sum().reset_index()\n",
    "print(\"Quarterly sales per product:\")\n",
    "print(quarterly_sales)\n",
    "\n",
    "# Calculate total sales per product\n",
    "total_sales = df.groupby('Product')['Sales'].sum().reset_index()\n",
    "\n",
    "# Find product with highest total sales\n",
    "max_product = total_sales.loc[total_sales['Sales'].idxmax()]\n",
    "print(\"\\nProduct with highest total sales:\")\n",
    "print(max_product)\n"
   ]
  },
  {
   "cell_type": "code",
   "execution_count": 1,
   "id": "0d53f8cb",
   "metadata": {},
   "outputs": [
    {
     "name": "stdout",
     "output_type": "stream",
     "text": [
      "Given Dataframe is :\n",
      "             Name  Age\n",
      "0    John Larter   32\n",
      "1  Robert Junior   34\n",
      "2     Jonny Depp   36\n",
      "\n",
      " After adding two new columns : \n",
      "             Name  Age   First    Last\n",
      "0    John Larter   32    John  Larter\n",
      "1  Robert Junior   34  Robert  Junior\n",
      "2     Jonny Depp   36   Jonny    Depp\n"
     ]
    }
   ],
   "source": [
    "# import Pandas as pd\n",
    "import pandas as pd\n",
    " \n",
    "# create a new data frame\n",
    "df = pd.DataFrame({'Name': ['John Larter', 'Robert Junior', 'Jonny Depp'],\n",
    "                    'Age':[32, 34, 36]})\n",
    " \n",
    "print(\"Given Dataframe is :\\n\",df)\n",
    " \n",
    "# Adding two new columns to the existing dataframe.\n",
    "# bydefault splitting is done on the basis of single space.\n",
    "df[['First','Last']] = df.Name.str.split(expand=True)\n",
    " \n",
    "print(\"\\n After adding two new columns : \\n\", df)"
   ]
  },
  {
   "cell_type": "code",
   "execution_count": 2,
   "id": "01423136",
   "metadata": {},
   "outputs": [
    {
     "name": "stdout",
     "output_type": "stream",
     "text": [
      "Department  Gender\n",
      "Finance     F         46000.0\n",
      "            M         44000.0\n",
      "HR          F         32000.0\n",
      "            M         30000.0\n",
      "IT          F         51000.0\n",
      "            M         50000.0\n",
      "Name: Salary, dtype: float64\n"
     ]
    }
   ],
   "source": [
    "data = {'Department': ['HR', 'HR', 'IT', 'IT', 'Finance', 'Finance'],\n",
    "        'Gender': ['M', 'F', 'M', 'F', 'M', 'F'],\n",
    "        'Salary': [30000, 32000, 50000, 51000, 44000, 46000]}\n",
    "df = pd.DataFrame(data)\n",
    "\n",
    "result = df.groupby(['Department', 'Gender'])['Salary'].mean()\n",
    "print(result)\n"
   ]
  },
  {
   "cell_type": "code",
   "execution_count": 3,
   "id": "077cc583",
   "metadata": {},
   "outputs": [
    {
     "name": "stdout",
     "output_type": "stream",
     "text": [
      "               mean    min    max  count\n",
      "Department                              \n",
      "Finance     45000.0  44000  46000      2\n",
      "HR          31000.0  30000  32000      2\n",
      "IT          50500.0  50000  51000      2\n"
     ]
    }
   ],
   "source": [
    "result = df.groupby('Department')['Salary'].agg(['mean', 'min', 'max', 'count'])\n",
    "print(result)\n"
   ]
  },
  {
   "cell_type": "code",
   "execution_count": 4,
   "id": "50617417",
   "metadata": {},
   "outputs": [
    {
     "name": "stdout",
     "output_type": "stream",
     "text": [
      "            avg_salary  lowest  highest\n",
      "Department                             \n",
      "Finance        45000.0   44000    46000\n",
      "HR             31000.0   30000    32000\n",
      "IT             50500.0   50000    51000\n"
     ]
    }
   ],
   "source": [
    "result = df.groupby('Department')['Salary'].agg(\n",
    "    avg_salary='mean', lowest='min', highest='max')\n",
    "print(result)\n",
    "\n"
   ]
  },
  {
   "cell_type": "code",
   "execution_count": 5,
   "id": "4c9b47e2",
   "metadata": {},
   "outputs": [
    {
     "name": "stdout",
     "output_type": "stream",
     "text": [
      "   Age  B\n",
      "0    1  4\n",
      "1    2  5\n",
      "2    3  6\n"
     ]
    }
   ],
   "source": [
    "import pandas as pd\n",
    "\n",
    "# Example DataFrame\n",
    "df = pd.DataFrame({\n",
    "    'A': [1, 2, 3],\n",
    "    'B': [4, 5, 6]\n",
    "})\n",
    "\n",
    "# Rename column 'A' to 'Age'\n",
    "df = df.rename(columns={'A': 'Age'})\n",
    "print(df)\n"
   ]
  },
  {
   "cell_type": "code",
   "execution_count": 6,
   "id": "64ef6571",
   "metadata": {},
   "outputs": [
    {
     "name": "stdout",
     "output_type": "stream",
     "text": [
      "   Age  Score\n",
      "0    1      4\n",
      "1    2      5\n",
      "2    3      6\n"
     ]
    }
   ],
   "source": [
    "df = df.rename(columns={'A': 'Age', 'B': 'Score'})\n",
    "print(df)\n"
   ]
  },
  {
   "cell_type": "code",
   "execution_count": 8,
   "id": "26b67f03",
   "metadata": {},
   "outputs": [
    {
     "data": {
      "text/html": [
       "<div>\n",
       "<style scoped>\n",
       "    .dataframe tbody tr th:only-of-type {\n",
       "        vertical-align: middle;\n",
       "    }\n",
       "\n",
       "    .dataframe tbody tr th {\n",
       "        vertical-align: top;\n",
       "    }\n",
       "\n",
       "    .dataframe thead th {\n",
       "        text-align: right;\n",
       "    }\n",
       "</style>\n",
       "<table border=\"1\" class=\"dataframe\">\n",
       "  <thead>\n",
       "    <tr style=\"text-align: right;\">\n",
       "      <th></th>\n",
       "      <th>Age</th>\n",
       "      <th>Score</th>\n",
       "    </tr>\n",
       "  </thead>\n",
       "  <tbody>\n",
       "    <tr>\n",
       "      <th>0</th>\n",
       "      <td>1</td>\n",
       "      <td>4</td>\n",
       "    </tr>\n",
       "    <tr>\n",
       "      <th>1</th>\n",
       "      <td>2</td>\n",
       "      <td>5</td>\n",
       "    </tr>\n",
       "    <tr>\n",
       "      <th>2</th>\n",
       "      <td>3</td>\n",
       "      <td>6</td>\n",
       "    </tr>\n",
       "  </tbody>\n",
       "</table>\n",
       "</div>"
      ],
      "text/plain": [
       "   Age  Score\n",
       "0    1      4\n",
       "1    2      5\n",
       "2    3      6"
      ]
     },
     "execution_count": 8,
     "metadata": {},
     "output_type": "execute_result"
    }
   ],
   "source": [
    "df.head()"
   ]
  },
  {
   "cell_type": "code",
   "execution_count": 9,
   "id": "db737301",
   "metadata": {},
   "outputs": [
    {
     "name": "stdout",
     "output_type": "stream",
     "text": [
      "             Age Salary       \n",
      "            mean    min    max\n",
      "Department                    \n",
      "Finance     28.0  40000  40000\n",
      "HR          28.5  30000  31000\n",
      "IT          32.5  50000  52000\n"
     ]
    }
   ],
   "source": [
    "data = {'Department': ['HR', 'IT', 'Finance', 'IT', 'HR'],\n",
    "        'Age': [25, 30, 28, 35, 32],\n",
    "        'Salary': [30000, 50000, 40000, 52000, 31000]}\n",
    "df = pd.DataFrame(data)\n",
    "\n",
    "result = df.groupby('Department').agg({'Age': 'mean', 'Salary': ['min', 'max']})\n",
    "print(result)\n"
   ]
  },
  {
   "cell_type": "code",
   "execution_count": 12,
   "id": "ad3e22b2",
   "metadata": {},
   "outputs": [
    {
     "name": "stdout",
     "output_type": "stream",
     "text": [
      "   A   B\n",
      "0  1   4\n",
      "1  2   5\n",
      "2  3   6\n",
      "3  7   9\n",
      "4  8  10\n"
     ]
    }
   ],
   "source": [
    "df1 = pd.DataFrame({'A': [1, 2, 3], 'B': [4, 5, 6]})\n",
    "df2 = pd.DataFrame({'A': [7, 8], 'B': [9, 10]})\n",
    "\n",
    "result = pd.concat([df1, df2], ignore_index=True)\n",
    "print(result)\n"
   ]
  },
  {
   "cell_type": "code",
   "execution_count": 15,
   "id": "cc14b8e4",
   "metadata": {},
   "outputs": [
    {
     "name": "stdout",
     "output_type": "stream",
     "text": [
      "     A    B   C\n",
      "0  1.0  4.0  11\n",
      "1  2.0  5.0  12\n",
      "2  3.0  6.0  13\n",
      "3  NaN  NaN  14\n",
      "4  NaN  NaN  15\n"
     ]
    }
   ],
   "source": [
    "df3 = pd.DataFrame({'C': [11, 12, 13, 14, 15]})\n",
    "result = pd.concat([df1, df3], axis=1)\n",
    "print(result)\n"
   ]
  },
  {
   "cell_type": "code",
   "execution_count": 16,
   "id": "3aeb2bdd",
   "metadata": {},
   "outputs": [
    {
     "name": "stdout",
     "output_type": "stream",
     "text": [
      "   EmpID     Name  DeptID DeptName\n",
      "0      1    Alice     101       HR\n",
      "1      2      Bob     102       IT\n",
      "2      3  Charlie     101       HR\n"
     ]
    }
   ],
   "source": [
    "employees = pd.DataFrame({'EmpID': [1, 2, 3],\n",
    "                          'Name': ['Alice', 'Bob', 'Charlie'],\n",
    "                          'DeptID': [101, 102, 101]})\n",
    "\n",
    "departments = pd.DataFrame({'DeptID': [101, 102],\n",
    "                            'DeptName': ['HR', 'IT']})\n",
    "\n",
    "merged = pd.merge(employees, departments, on='DeptID', how='inner')\n",
    "print(merged)\n"
   ]
  },
  {
   "cell_type": "code",
   "execution_count": 17,
   "id": "ede5d2f8",
   "metadata": {},
   "outputs": [
    {
     "name": "stdout",
     "output_type": "stream",
     "text": [
      "    ID    City  Emp_ID   Salary\n",
      "0  1.0   Delhi     1.0  40000.0\n",
      "1  2.0    Pune     NaN      NaN\n",
      "2  3.0  Bhopal     3.0  50000.0\n",
      "3  NaN     NaN     4.0  60000.0\n"
     ]
    }
   ],
   "source": [
    "left = pd.DataFrame({'ID': [1, 2, 3], 'City': ['Delhi', 'Pune', 'Bhopal']})\n",
    "right = pd.DataFrame({'Emp_ID': [1, 3, 4], 'Salary': [40000, 50000, 60000]})\n",
    "\n",
    "merged = pd.merge(left, right, left_on='ID', right_on='Emp_ID', how='outer')\n",
    "print(merged)\n"
   ]
  },
  {
   "cell_type": "code",
   "execution_count": 21,
   "id": "06ee9ba7",
   "metadata": {},
   "outputs": [
    {
     "name": "stdout",
     "output_type": "stream",
     "text": [
      "Original DataFrame:\n",
      "  Department  Salary\n",
      "0         HR   30000\n",
      "1         IT   50000\n",
      "2    Finance   45000\n",
      "3         HR   31000\n",
      "4         IT   52000\n",
      "5    Finance   46000\n",
      "6         HR   33000\n",
      "\n",
      "Average salary by department:\n",
      "Department\n",
      "Finance    45500.000000\n",
      "HR         31333.333333\n",
      "IT         51000.000000\n",
      "Name: Salary, dtype: float64\n",
      "\n",
      "Departments with average salary > 40000:\n",
      "Index(['Finance', 'IT'], dtype='object', name='Department')\n",
      "\n",
      "Filtered DataFrame (only high-salary departments):\n",
      "  Department  Salary\n",
      "1         IT   50000\n",
      "2    Finance   45000\n",
      "4         IT   52000\n",
      "5    Finance   46000\n"
     ]
    }
   ],
   "source": [
    "import pandas as pd\n",
    "\n",
    "# Step 1: Create a sample DataFrame\n",
    "data = {\n",
    "    'Department': ['HR', 'IT', 'Finance', 'HR', 'IT', 'Finance', 'HR'],\n",
    "    'Salary': [30000, 50000, 45000, 31000, 52000, 46000, 33000]\n",
    "}\n",
    "\n",
    "df = pd.DataFrame(data)\n",
    "print(\"Original DataFrame:\")\n",
    "print(df)\n",
    "\n",
    "# Step 2: Calculate average salary for each department\n",
    "avg_salary = df.groupby('Department')['Salary'].mean()\n",
    "print(\"\\nAverage salary by department:\")\n",
    "print(avg_salary)\n",
    "\n",
    "# Step 3: Filter departments where average salary > 40000\n",
    "high_salary_depts = avg_salary[avg_salary > 40000].index\n",
    "print(\"\\nDepartments with average salary > 40000:\")\n",
    "print(high_salary_depts)\n",
    "\n",
    "# Step 4: Select only rows where department is in those high-salary departments\n",
    "filtered_df = df[df['Department'].isin(high_salary_depts)]\n",
    "print(\"\\nFiltered DataFrame (only high-salary departments):\")\n",
    "print(filtered_df)\n",
    "\n"
   ]
  },
  {
   "cell_type": "code",
   "execution_count": null,
   "id": "5bb9137e",
   "metadata": {},
   "outputs": [],
   "source": []
  }
 ],
 "metadata": {
  "kernelspec": {
   "display_name": "Python 3",
   "language": "python",
   "name": "python3"
  },
  "language_info": {
   "codemirror_mode": {
    "name": "ipython",
    "version": 3
   },
   "file_extension": ".py",
   "mimetype": "text/x-python",
   "name": "python",
   "nbconvert_exporter": "python",
   "pygments_lexer": "ipython3",
   "version": "3.11.0"
  }
 },
 "nbformat": 4,
 "nbformat_minor": 5
}
