{
 "cells": [
  {
   "cell_type": "code",
   "execution_count": null,
   "id": "a06e8422",
   "metadata": {},
   "outputs": [
    {
     "data": {
      "text/plain": [
       "264"
      ]
     },
     "execution_count": 3,
     "metadata": {},
     "output_type": "execute_result"
    }
   ],
   "source": [
    "import numpy as np\n",
    "a = np.array([[1,\"a\",3],[4,5,6]])\n",
    "a.shape    # (2, 3)\n",
    "a.dtype    # int64\n",
    "a.nbytes   # 48 (6 elements * 8 bytes)\n",
    "a.size\n"
   ]
  },
  {
   "cell_type": "code",
   "execution_count": 4,
   "id": "9e6baf94",
   "metadata": {},
   "outputs": [
    {
     "name": "stdout",
     "output_type": "stream",
     "text": [
      "first 2 rows and alternate columns(0 and 2):\n",
      " [[-1.  0.]\n",
      " [ 4.  6.]]\n"
     ]
    }
   ],
   "source": [
    "import numpy as np\n",
    " \n",
    "arr = np.array([[-1, 2, 0, 4],\n",
    "                [4, -0.5, 6, 0],\n",
    "                [2.6, 0, 7, 8],\n",
    "                [3, -7, 4, 2.0]])\n",
    "\n",
    "# Printing a range of Array\n",
    "# with the use of slicing method\n",
    "arr2 = arr[:2, ::2]\n",
    "print (\"first 2 rows and alternate columns(0 and 2):\\n\", arr2)"
   ]
  },
  {
   "cell_type": "code",
   "execution_count": 5,
   "id": "673721b5",
   "metadata": {},
   "outputs": [
    {
     "name": "stdout",
     "output_type": "stream",
     "text": [
      "Adding 1 to every element: [[2 3]\n",
      " [4 5]]\n",
      "\n",
      "Subtracting 2 from each element: [[ 2  1]\n",
      " [ 0 -1]]\n",
      "\n",
      "Sum of all array elements:  10\n",
      "\n",
      "Array sum:\n",
      " [[5 5]\n",
      " [5 5]]\n"
     ]
    }
   ],
   "source": [
    "import numpy as np\n",
    " \n",
    "# Defining Array 1\n",
    "a = np.array([[1, 2],\n",
    "              [3, 4]])\n",
    " \n",
    "# Defining Array 2\n",
    "b = np.array([[4, 3],\n",
    "              [2, 1]])\n",
    "               \n",
    "# Adding 1 to every element\n",
    "print (\"Adding 1 to every element:\", a + 1)\n",
    " \n",
    "# Subtracting 2 from each element\n",
    "print (\"\\nSubtracting 2 from each element:\", b - 2)\n",
    " \n",
    "# sum of array elements\n",
    "# Performing Unary operations\n",
    "print (\"\\nSum of all array elements: \", a.sum())\n",
    " \n",
    "# Adding two arrays\n",
    "# Performing Binary operations\n",
    "print (\"\\nArray sum:\\n\", a + b)"
   ]
  },
  {
   "cell_type": "code",
   "execution_count": 6,
   "id": "a934560b",
   "metadata": {},
   "outputs": [
    {
     "name": "stdout",
     "output_type": "stream",
     "text": [
      "[[ 7. 13.]\n",
      " [ 4. 14.]]\n",
      "19.0\n",
      "[[2.         2.64575131]\n",
      " [1.41421356 2.44948974]]\n",
      "[[4. 2.]\n",
      " [7. 6.]]\n"
     ]
    }
   ],
   "source": [
    "import numpy as np\n",
    " \n",
    "# First Array\n",
    "arr1 = np.array([[4, 7], [2, 6]], \n",
    "                 dtype = np.float64)\n",
    "                  \n",
    "# Second Array\n",
    "arr2 = np.array([[3, 6], [2, 8]], \n",
    "                 dtype = np.float64) \n",
    " \n",
    "# Addition of two Arrays\n",
    "Sum = np.add(arr1, arr2)\n",
    "print(Sum)\n",
    " \n",
    "# Addition of all Array elements\n",
    "Sum1 = np.sum(arr1)\n",
    "print(Sum1)\n",
    " \n",
    "# Square root of Array\n",
    "Sqrt = np.sqrt(arr1)\n",
    "print(Sqrt)\n",
    " \n",
    "# Transpose of Array\n",
    "Trans_arr = arr1.T\n",
    "print(Trans_arr)"
   ]
  },
  {
   "cell_type": "code",
   "execution_count": 7,
   "id": "70a78bb8",
   "metadata": {},
   "outputs": [
    {
     "name": "stdout",
     "output_type": "stream",
     "text": [
      "[False  True  True]\n",
      "[ True False]\n"
     ]
    }
   ],
   "source": [
    "\n",
    "arr = np.array([[1, 2, 3],\n",
    "                [0, 4, 5]])\n",
    "\n",
    "print(np.all(arr, axis=0))  # column-wise\n",
    "print(np.all(arr, axis=1))  # row-wise\n"
   ]
  },
  {
   "cell_type": "code",
   "execution_count": 8,
   "id": "fd9257d6",
   "metadata": {},
   "outputs": [
    {
     "name": "stdout",
     "output_type": "stream",
     "text": [
      "False\n"
     ]
    }
   ],
   "source": [
    "import numpy as np\n",
    "\n",
    "arr = np.array([0, 0, 0])\n",
    "print(np.any(arr))\n"
   ]
  },
  {
   "cell_type": "code",
   "execution_count": 9,
   "id": "243e895b",
   "metadata": {},
   "outputs": [
    {
     "name": "stdout",
     "output_type": "stream",
     "text": [
      "True\n"
     ]
    }
   ],
   "source": [
    "arr = np.array([0, 5, 0])\n",
    "print(np.any(arr))\n"
   ]
  },
  {
   "cell_type": "code",
   "execution_count": 11,
   "id": "9f9593c1",
   "metadata": {},
   "outputs": [
    {
     "name": "stdout",
     "output_type": "stream",
     "text": [
      "True\n",
      "[False False  True]\n",
      "[ True False]\n"
     ]
    }
   ],
   "source": [
    "bool_arr = np.array([False, False, True])\n",
    "print(np.any(bool_arr))\n",
    "\n",
    "\n",
    "arr = np.array([[0, 0, 3],\n",
    "                [0, 0, 0]])\n",
    "\n",
    "print(np.any(arr, axis=0))  # column-wise\n",
    "print(np.any(arr, axis=1))  # row-wise\n",
    "\n"
   ]
  },
  {
   "cell_type": "code",
   "execution_count": 12,
   "id": "3ecd5722",
   "metadata": {},
   "outputs": [],
   "source": [
    "# 1-dimensonal array, also referred to as a vector\n",
    "a1 = np.array([1, 2, 3])\n",
    "\n",
    "# 2-dimensional array, also referred to as matrix\n",
    "a2 = np.array([[1, 2.0, 3.3],\n",
    "               [4, 5, 6.5]])\n",
    "\n",
    "# 3-dimensional array, also referred to as a matrix\n",
    "a3 = np.array([[[1, 2, 3],\n",
    "                [4, 5, 6],\n",
    "                [7, 8, 9]],\n",
    "                [[10, 11, 12],\n",
    "                 [13, 14, 15],\n",
    "                 [16, 17, 18]]])"
   ]
  },
  {
   "cell_type": "code",
   "execution_count": 13,
   "id": "cbb411ec",
   "metadata": {},
   "outputs": [
    {
     "name": "stdout",
     "output_type": "stream",
     "text": [
      "Array:\n",
      " [1 2 3]\n",
      "ndim: 1\n",
      "shape: (3,)\n",
      "size: 3\n",
      "dtype: int32\n",
      "itemsize: 4\n",
      "nbytes: 12\n"
     ]
    }
   ],
   "source": [
    "a1 = np.array([1, 2, 3])\n",
    "\n",
    "print(\"Array:\\n\", a1)\n",
    "print(\"ndim:\", a1.ndim)\n",
    "print(\"shape:\", a1.shape)\n",
    "print(\"size:\", a1.size)\n",
    "print(\"dtype:\", a1.dtype)\n",
    "print(\"itemsize:\", a1.itemsize)\n",
    "print(\"nbytes:\", a1.nbytes)\n"
   ]
  },
  {
   "cell_type": "code",
   "execution_count": 14,
   "id": "9ec3f092",
   "metadata": {},
   "outputs": [
    {
     "name": "stdout",
     "output_type": "stream",
     "text": [
      "\n",
      "Array:\n",
      " [[[ 1  2  3]\n",
      "  [ 4  5  6]\n",
      "  [ 7  8  9]]\n",
      "\n",
      " [[10 11 12]\n",
      "  [13 14 15]\n",
      "  [16 17 18]]]\n",
      "ndim: 3\n",
      "shape: (2, 3, 3)\n",
      "size: 18\n",
      "dtype: int32\n",
      "itemsize: 4\n",
      "nbytes: 72\n"
     ]
    }
   ],
   "source": [
    "a3 = np.array([[[1, 2, 3],\n",
    "                [4, 5, 6],\n",
    "                [7, 8, 9]],\n",
    "               [[10, 11, 12],\n",
    "                [13, 14, 15],\n",
    "                [16, 17, 18]]])\n",
    "\n",
    "print(\"\\nArray:\\n\", a3)\n",
    "print(\"ndim:\", a3.ndim)\n",
    "print(\"shape:\", a3.shape)\n",
    "print(\"size:\", a3.size)\n",
    "print(\"dtype:\", a3.dtype)\n",
    "print(\"itemsize:\", a3.itemsize)\n",
    "print(\"nbytes:\", a3.nbytes)\n"
   ]
  },
  {
   "cell_type": "code",
   "execution_count": 15,
   "id": "274f15f7",
   "metadata": {},
   "outputs": [
    {
     "name": "stdout",
     "output_type": "stream",
     "text": [
      "[0.94213865 0.22518584 0.66551903 0.69034691 0.01851591]\n",
      "[[0.40893612 0.92614256 0.69980227]\n",
      " [0.54178767 0.55612809 0.24603234]]\n"
     ]
    }
   ],
   "source": [
    "import numpy as np\n",
    "\n",
    "# 1D array of 5 elements\n",
    "arr1 = np.random.rand(5)\n",
    "print(arr1)\n",
    "\n",
    "# 2D array 2x3\n",
    "arr2 = np.random.rand(2,3)\n",
    "print(arr2)\n"
   ]
  },
  {
   "cell_type": "code",
   "execution_count": 16,
   "id": "21b1a5df",
   "metadata": {},
   "outputs": [
    {
     "name": "stdout",
     "output_type": "stream",
     "text": [
      "1\n",
      "[0 6 4 7 1]\n",
      "[[16 13 19]\n",
      " [10  9  4]]\n"
     ]
    }
   ],
   "source": [
    "# Single random int between 0 and 9\n",
    "print(np.random.randint(10))\n",
    "\n",
    "# Array of 5 random ints between 0 and 9\n",
    "print(np.random.randint(0, 10, size=5))\n",
    "\n",
    "# 2x3 array of ints 1-20\n",
    "print(np.random.randint(1, 21, size=(2,3)))\n"
   ]
  },
  {
   "cell_type": "code",
   "execution_count": 17,
   "id": "ccf13341",
   "metadata": {},
   "outputs": [
    {
     "name": "stdout",
     "output_type": "stream",
     "text": [
      "40\n",
      "[10 10 10]\n",
      "[10 50 30]\n"
     ]
    }
   ],
   "source": [
    "arr = np.array([10, 20, 30, 40, 50])\n",
    "\n",
    "# Pick 1 random element\n",
    "print(np.random.choice(arr))\n",
    "\n",
    "# Pick 3 elements with replacement\n",
    "print(np.random.choice(arr, 3))\n",
    "\n",
    "# Pick 3 elements without replacement\n",
    "print(np.random.choice(arr, 3, replace=False))\n"
   ]
  },
  {
   "cell_type": "code",
   "execution_count": 20,
   "id": "8cfa0604",
   "metadata": {},
   "outputs": [
    {
     "name": "stdout",
     "output_type": "stream",
     "text": [
      "[0.37454012 0.95071431 0.73199394]\n"
     ]
    }
   ],
   "source": [
    "np.random.seed(42)\n",
    "print(np.random.rand(3))\n"
   ]
  },
  {
   "cell_type": "code",
   "execution_count": 19,
   "id": "effc0796",
   "metadata": {},
   "outputs": [
    {
     "name": "stdout",
     "output_type": "stream",
     "text": [
      "[[7.99329242 5.7800932  5.7799726 ]\n",
      " [5.29041806 9.33088073 8.00557506]]\n"
     ]
    }
   ],
   "source": [
    "arr = np.random.uniform(5, 10, size=(2,3))\n",
    "print(arr)\n"
   ]
  },
  {
   "cell_type": "code",
   "execution_count": 21,
   "id": "33617b7e",
   "metadata": {},
   "outputs": [
    {
     "name": "stdout",
     "output_type": "stream",
     "text": [
      "1D arr : \n",
      " [0 1 2 3 4]\n",
      "Shape :  (5,)\n",
      "\n",
      "Array after insertion :  [0 9 1 2 3 4]\n",
      "Shape :  (6,)\n",
      "\n",
      "\n",
      "2D arr : \n",
      " [[ 0  1  2  3]\n",
      " [ 4  5  6  7]\n",
      " [ 8  9 10 11]]\n",
      "Shape :  (3, 4)\n",
      "\n",
      "Array after insertion : \n",
      " [[ 0  9  1  2  3]\n",
      " [ 4  9  5  6  7]\n",
      " [ 8  9  9 10 11]]\n",
      "Shape :  (3, 5)\n"
     ]
    }
   ],
   "source": [
    "# Python Program illustrating\n",
    "# numpy.insert()\n",
    "\n",
    "import numpy as geek\n",
    "\n",
    "#Working on 1D\n",
    "arr = geek.arange(5)\n",
    "print(\"1D arr : \\n\", arr)\n",
    "print(\"Shape : \", arr.shape)\n",
    "\n",
    "# value = 9\n",
    "# index = 1   \n",
    "# Insertion before first index\n",
    "a = geek.insert(arr, 1, 9)\n",
    "print(\"\\nArray after insertion : \", a)\n",
    "print(\"Shape : \", a.shape)\n",
    "\n",
    "\n",
    "# Working on 2D array \n",
    "arr = geek.arange(12).reshape(3, 4)\n",
    "print(\"\\n\\n2D arr : \\n\", arr)\n",
    "print(\"Shape : \", arr.shape)\n",
    "\n",
    "a = geek.insert(arr, 1, 9, axis = 1)\n",
    "print(\"\\nArray after insertion : \\n\", a)\n",
    "print(\"Shape : \", a.shape)"
   ]
  },
  {
   "cell_type": "code",
   "execution_count": null,
   "id": "410ab6f7",
   "metadata": {},
   "outputs": [],
   "source": []
  }
 ],
 "metadata": {
  "kernelspec": {
   "display_name": "Python 3",
   "language": "python",
   "name": "python3"
  },
  "language_info": {
   "codemirror_mode": {
    "name": "ipython",
    "version": 3
   },
   "file_extension": ".py",
   "mimetype": "text/x-python",
   "name": "python",
   "nbconvert_exporter": "python",
   "pygments_lexer": "ipython3",
   "version": "3.10.0"
  }
 },
 "nbformat": 4,
 "nbformat_minor": 5
}
