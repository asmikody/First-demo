{
 "cells": [
  {
   "cell_type": "code",
   "execution_count": 12,
   "id": "6061e318",
   "metadata": {},
   "outputs": [
    {
     "name": "stdout",
     "output_type": "stream",
     "text": [
      "&&&    Product  Month_no  Sales  Quarter\n",
      "0       P1         1    100        1\n",
      "1       P1         2    150        1\n",
      "2       P1         3    200        1\n",
      "3       P2         1    120        1\n",
      "4       P2         2    160        1\n",
      "5       P3         1    200        1\n",
      "6       P3         2    250        1\n",
      "7       P3         3    300        1\n",
      "8       P4         1     90        1\n",
      "9       P4         2    110        1\n",
      "10      P4         3    130        1\n",
      "_______----------------------------------------------____________________\n",
      "Quarterly sales per product:\n",
      "  Product  Quarter  Sales\n",
      "0      P1        1    450\n",
      "1      P2        1    280\n",
      "2      P3        1    750\n",
      "3      P4        1    330\n",
      "$$$$$$$   Product  Sales\n",
      "0      P1    450\n",
      "1      P2    280\n",
      "2      P3    750\n",
      "3      P4    330\n",
      "\n",
      "Product with highest total sales:\n",
      "Product     P3\n",
      "Sales      750\n",
      "Name: 2, dtype: object\n"
     ]
    }
   ],
   "source": [
    "import pandas as pd\n",
    "\n",
    "# Sample data\n",
    "data = {\n",
    "    'Product': ['P1','P1','P1','P2','P2','P3','P3','P3','P4','P4','P4'],\n",
    "    'Month_no': [1,2,3,1,2,1,2,3,1,2,3],\n",
    "    'Sales': [100, 150, 200, 120, 160, 200, 250, 300, 90, 110, 130]\n",
    "}\n",
    "\n",
    "df = pd.DataFrame(data)\n",
    "\n",
    "# Add Quarter column\n",
    "df['Quarter'] = ((df['Month_no'] - 1) // 3) + 1\n",
    "print(\"&&&\",df.head(11))\n",
    "print(\"_______----------------------------------------------____________________\")\n",
    "# Calculate quarterly sales for each product\n",
    "quarterly_sales = df.groupby(['Product','Quarter'])['Sales'].sum().reset_index()\n",
    "print(\"Quarterly sales per product:\")\n",
    "print(quarterly_sales)\n",
    "\n",
    "# Calculate total sales per product\n",
    "total_sales = df.groupby('Product')['Sales'].sum().reset_index()\n",
    "print(\"$$$$$$$\",total_sales)\n",
    "# Find product with highest total sales\n",
    "max_product = total_sales.loc[total_sales['Sales'].idxmax()]\n",
    "print(\"\\nProduct with highest total sales:\")\n",
    "print(max_product)\n"
   ]
  },
  {
   "cell_type": "code",
   "execution_count": 18,
   "id": "09dbb664",
   "metadata": {},
   "outputs": [
    {
     "name": "stdout",
     "output_type": "stream",
     "text": [
      "\n",
      "Weekly average stock price:\n",
      "Date\n",
      "2025-01-05    103.000000\n",
      "2025-01-12    114.428571\n",
      "2025-01-19    121.666667\n",
      "Freq: W-SUN, Name: Price, dtype: float64\n",
      "\n",
      "Week ending on 2025-01-19 has the highest average stock price: 121.67\n"
     ]
    }
   ],
   "source": [
    "# 3. Resample the stock data to a weekly frequency, \n",
    "# calculate the average stock price for each week, and identify the week with the highest average price.\n",
    "    \n",
    "\n",
    "import pandas as pd\n",
    "import pandas as pd\n",
    "\n",
    "# Sample stock data\n",
    "data = {\n",
    "    'Date': ['2025-01-01','2025-01-02','2025-01-03','2025-01-04','2025-01-05',\n",
    "             '2025-01-06','2025-01-07','2025-01-08','2025-01-09','2025-01-10',\n",
    "             '2025-01-11','2025-01-12','2025-01-13','2025-01-14','2025-01-15'],\n",
    "    'Price': [100,102,101,105,107,110,108,112,115,117,120,119,118,122,125]\n",
    "}\n",
    "\n",
    "# Create DataFrame\n",
    "df = pd.DataFrame(data)\n",
    "\n",
    "# Convert 'Date' column to datetime\n",
    "df['Date'] = pd.to_datetime(df['Date'])\n",
    "\n",
    "# Set 'Date' as index (required for resample)\n",
    "df.set_index('Date', inplace=True)\n",
    "\n",
    "# Resample to weekly frequency (sum of 7 days), 'W' means weekly ending Sunday\n",
    "weekly_avg = df['Price'].resample('W').mean()\n",
    "\n",
    "print(\"\\nWeekly average stock price:\")\n",
    "print(weekly_avg)\n",
    "\n",
    "# Find the week with highest average price\n",
    "max_week_date = weekly_avg.idxmax()\n",
    "max_price = weekly_avg.max()\n",
    "\n",
    "print(f\"\\nWeek ending on {max_week_date.date()} has the highest average stock price: {max_price:.2f}\")\n"
   ]
  },
  {
   "cell_type": "code",
   "execution_count": 19,
   "id": "41e2f9f5",
   "metadata": {},
   "outputs": [
    {
     "name": "stdout",
     "output_type": "stream",
     "text": [
      "Employee Data:\n",
      "   EmployeeID  DepartmentID  Salary\n",
      "0           1           101    5000\n",
      "1           2           102    6000\n",
      "2           3           101    5500\n",
      "3           4           103    7000\n",
      "4           5           102    6500\n",
      "5           6           101    5800\n",
      "\n",
      "Department Data:\n",
      "   DepartmentID DepartmentName\n",
      "0           101             HR\n",
      "1           102        Finance\n",
      "2           103             IT\n"
     ]
    }
   ],
   "source": [
    "import pandas as pd\n",
    "\n",
    "# Employee data\n",
    "employee_data = {\n",
    "    'EmployeeID': [1, 2, 3, 4, 5, 6],\n",
    "    'DepartmentID': [101, 102, 101, 103, 102, 101],\n",
    "    'Salary': [5000, 6000, 5500, 7000, 6500, 5800]\n",
    "}\n",
    "\n",
    "df_employee = pd.DataFrame(employee_data)\n",
    "\n",
    "# Department data\n",
    "department_data = {\n",
    "    'DepartmentID': [101, 102, 103],\n",
    "    'DepartmentName': ['HR', 'Finance', 'IT']\n",
    "}\n",
    "\n",
    "df_department = pd.DataFrame(department_data)\n",
    "\n",
    "print(\"Employee Data:\")\n",
    "print(df_employee)\n",
    "print(\"\\nDepartment Data:\")\n",
    "print(df_department)\n"
   ]
  },
  {
   "cell_type": "code",
   "execution_count": 20,
   "id": "da432ef8",
   "metadata": {},
   "outputs": [
    {
     "name": "stdout",
     "output_type": "stream",
     "text": [
      "\n",
      "Merged DataFrame:\n",
      "   EmployeeID  DepartmentID  Salary DepartmentName\n",
      "0           1           101    5000             HR\n",
      "1           2           102    6000        Finance\n",
      "2           3           101    5500             HR\n",
      "3           4           103    7000             IT\n",
      "4           5           102    6500        Finance\n",
      "5           6           101    5800             HR\n"
     ]
    }
   ],
   "source": [
    "df_merged = pd.merge(df_employee, df_department, on='DepartmentID', how='left')\n",
    "print(\"\\nMerged DataFrame:\")\n",
    "print(df_merged)\n"
   ]
  },
  {
   "cell_type": "code",
   "execution_count": null,
   "id": "37239b92",
   "metadata": {},
   "outputs": [],
   "source": [
    "# 5. Identify the top 3 sensors with the highest average value, excluding sensors with missing values for more than 10% of the timestamps.\n",
    " "
   ]
  }
 ],
 "metadata": {
  "kernelspec": {
   "display_name": "Python 3",
   "language": "python",
   "name": "python3"
  },
  "language_info": {
   "codemirror_mode": {
    "name": "ipython",
    "version": 3
   },
   "file_extension": ".py",
   "mimetype": "text/x-python",
   "name": "python",
   "nbconvert_exporter": "python",
   "pygments_lexer": "ipython3",
   "version": "3.11.0"
  }
 },
 "nbformat": 4,
 "nbformat_minor": 5
}
