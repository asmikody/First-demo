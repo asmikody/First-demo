{
 "cells": [
  {
   "cell_type": "code",
   "execution_count": 1,
   "id": "f738dccf",
   "metadata": {},
   "outputs": [
    {
     "name": "stdout",
     "output_type": "stream",
     "text": [
      "Alice from Marketing is working.\n",
      "Alice has scheduled a team meeting.\n",
      "Bob from Software Engineering is working.\n",
      "Bob is getting coffee for the team.\n"
     ]
    }
   ],
   "source": [
    "class Employee:\n",
    "    def __init__(self, name, department):\n",
    "        self.name = name\n",
    "        self.department = department\n",
    "\n",
    "    def work(self):\n",
    "        return f\"{self.name} from {self.department} is working.\"\n",
    "\n",
    "class Manager(Employee):\n",
    "    def schedule_meeting(self):\n",
    "        return f\"{self.name} has scheduled a team meeting.\"\n",
    "\n",
    "class Intern(Employee):\n",
    "    def fetch_coffee(self):\n",
    "        return f\"{self.name} is getting coffee for the team.\"\n",
    "\n",
    "# Testing classes\n",
    "alice = Manager(\"Alice\", \"Marketing\")\n",
    "bob = Intern(\"Bob\", \"Software Engineering\")\n",
    "\n",
    "print(alice.work())\n",
    "print(alice.schedule_meeting())\n",
    "print(bob.work())\n",
    "print(bob.fetch_coffee())\n"
   ]
  },
  {
   "cell_type": "code",
   "execution_count": 2,
   "id": "3521c2c9",
   "metadata": {},
   "outputs": [
    {
     "name": "stdout",
     "output_type": "stream",
     "text": [
      "Large coffee with 2 extra shots\n"
     ]
    }
   ],
   "source": [
    "class Coffee:\n",
    "    def __init__(self, size):\n",
    "        self.size = size\n",
    "    def describe(self):\n",
    "        return f\"{self.size} coffee\"\n",
    "\n",
    "class Espresso(Coffee):\n",
    "    def __init__(self, size, shots):\n",
    "        super().__init__(size)  # Calls Coffee.__init__()\n",
    "        self.shots = shots\n",
    "    def describe(self):\n",
    "        return f\"{super().describe()} with {self.shots} extra shots\"\n",
    "\n",
    "order = Espresso(\"Large\", 2)\n",
    "print(order.describe())\n"
   ]
  },
  {
   "cell_type": "code",
   "execution_count": null,
   "id": "c7d2a9e5",
   "metadata": {},
   "outputs": [],
   "source": []
  }
 ],
 "metadata": {
  "kernelspec": {
   "display_name": "Python 3",
   "language": "python",
   "name": "python3"
  },
  "language_info": {
   "codemirror_mode": {
    "name": "ipython",
    "version": 3
   },
   "file_extension": ".py",
   "mimetype": "text/x-python",
   "name": "python",
   "nbconvert_exporter": "python",
   "pygments_lexer": "ipython3",
   "version": "3.10.0"
  }
 },
 "nbformat": 4,
 "nbformat_minor": 5
}
