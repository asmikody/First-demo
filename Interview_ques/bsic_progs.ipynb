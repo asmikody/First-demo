{
 "cells": [
  {
   "cell_type": "code",
   "execution_count": 1,
   "id": "8fb84694",
   "metadata": {},
   "outputs": [
    {
     "name": "stdout",
     "output_type": "stream",
     "text": [
      "120\n"
     ]
    }
   ],
   "source": [
    "def fact(n):\n",
    "    return 1 if (n==1 or n==0) else n* fact(n-1)\n",
    "num = 5\n",
    "print(fact(num))"
   ]
  },
  {
   "cell_type": "code",
   "execution_count": 2,
   "id": "9f49f827",
   "metadata": {},
   "outputs": [
    {
     "name": "stdout",
     "output_type": "stream",
     "text": [
      "720\n"
     ]
    }
   ],
   "source": [
    "n = 6\n",
    "\n",
    "# Initialize the factorial variable to 1\n",
    "fact = 1\n",
    "\n",
    "# Calculate the factorial using a for loop\n",
    "for i in range(1, n + 1):\n",
    "    fact *= i\n",
    "\n",
    "print(fact)"
   ]
  },
  {
   "cell_type": "code",
   "execution_count": 3,
   "id": "f1273238",
   "metadata": {},
   "outputs": [
    {
     "name": "stdout",
     "output_type": "stream",
     "text": [
      "3.84\n"
     ]
    }
   ],
   "source": [
    "def fun(p, t, r):\n",
    "    return (p * t * r) / 100\n",
    "\n",
    "p, t, r = 8, 6, 8\n",
    "\n",
    "res = fun(p, t, r)\n",
    "print(res)"
   ]
  },
  {
   "cell_type": "code",
   "execution_count": 4,
   "id": "0b71b980",
   "metadata": {},
   "outputs": [
    {
     "name": "stdout",
     "output_type": "stream",
     "text": [
      "Compound interest: 133.0992000000001\n"
     ]
    }
   ],
   "source": [
    "P = 1200   \n",
    "R = 5.4    \n",
    "T = 2      \n",
    "\n",
    "A = P * (1 + R/100) ** T\n",
    "CI = A - P\n",
    "\n",
    "print(\"Compound interest:\", CI)"
   ]
  },
  {
   "cell_type": "code",
   "execution_count": 5,
   "id": "274bd64b",
   "metadata": {},
   "outputs": [
    {
     "name": "stdout",
     "output_type": "stream",
     "text": [
      "Armstrong Number\n"
     ]
    }
   ],
   "source": [
    "num = int(input(\"Enter a number: \"))\n",
    "n = num\n",
    "power = len(str(num))\n",
    "total = 0\n",
    "\n",
    "while n > 0:\n",
    "    digit = n % 10\n",
    "    total += digit ** power\n",
    "    n //= 10\n",
    "\n",
    "if total == num:\n",
    "    print(\"Armstrong Number\")\n",
    "else:\n",
    "    print(\"Not an Armstrong Number\")"
   ]
  },
  {
   "cell_type": "code",
   "execution_count": 6,
   "id": "2d054b82",
   "metadata": {},
   "outputs": [
    {
     "name": "stdout",
     "output_type": "stream",
     "text": [
      "153 is an Armstrong number\n"
     ]
    }
   ],
   "source": [
    "num = 153\n",
    "num2 = str(num)\n",
    "n = len(num2)\n",
    "sum1 = 0\n",
    "\n",
    "for digit in num2:\n",
    "    sum1 += int(digit) ** n\n",
    "\n",
    "if sum1 == num:\n",
    "    print(num, \"is an Armstrong number\")\n",
    "else:\n",
    "    print(num, \"is not an Armstrong number\")"
   ]
  },
  {
   "cell_type": "code",
   "execution_count": 7,
   "id": "6d0ba6eb",
   "metadata": {},
   "outputs": [
    {
     "name": "stdout",
     "output_type": "stream",
     "text": [
      "Not an Armstrong Number\n"
     ]
    }
   ],
   "source": [
    "num = int(input(\"Enter a number: \"))\n",
    "power = len(str(num))\n",
    "\n",
    "def armstrong_sum(n):\n",
    "    if n == 0:\n",
    "        return 0\n",
    "    return (n % 10) ** power + armstrong_sum(n // 10)\n",
    "\n",
    "if armstrong_sum(num) == num:\n",
    "    print(\"Armstrong Number\")\n",
    "else:\n",
    "    print(\"Not an Armstrong Number\")"
   ]
  },
  {
   "cell_type": "code",
   "execution_count": null,
   "id": "4ce6d00f",
   "metadata": {},
   "outputs": [],
   "source": [
    "# Take input range from user\n",
    "lower = int(input(\"Enter lower range: \"))\n",
    "upper = int(input(\"Enter upper range: \"))\n",
    "\n",
    "print(f\"Prime numbers between {lower} and {upper} are:\")\n",
    "\n",
    "# Loop through all numbers in the range\n",
    "for num in range(lower, upper + 1):\n",
    "    if num > 1:  # Prime numbers are greater than 1\n",
    "        for i in range(2, int(num**0.5) + 1):\n",
    "            if num % i == 0:\n",
    "                break\n",
    "        else:\n",
    "            print(num, end=\" \")\n"
   ]
  },
  {
   "cell_type": "code",
   "execution_count": 8,
   "id": "f9852c1c",
   "metadata": {},
   "outputs": [
    {
     "name": "stdout",
     "output_type": "stream",
     "text": [
      "True\n"
     ]
    }
   ],
   "source": [
    "n = 11\n",
    "if n <= 1:\n",
    "    print(False)\n",
    "else:\n",
    "    is_prime = True  # Flag variable\n",
    "    for i in range(2, int(n**0.5) + 1):\n",
    "        if n % i == 0:\n",
    "            is_prime = False\n",
    "            break\n",
    "    print(is_prime)"
   ]
  },
  {
   "cell_type": "code",
   "execution_count": 9,
   "id": "9608b793",
   "metadata": {},
   "outputs": [
    {
     "name": "stdout",
     "output_type": "stream",
     "text": [
      "34\n"
     ]
    }
   ],
   "source": [
    "# Function for nth Fibonacci number\n",
    "def Fibonacci(n):\n",
    "    if n<= 0:\n",
    "        print(\"Incorrect input\")\n",
    "    # First Fibonacci number is 0\n",
    "    elif n == 1:\n",
    "        return 0\n",
    "    # Second Fibonacci number is 1\n",
    "    elif n == 2:\n",
    "        return 1\n",
    "    else:\n",
    "        return Fibonacci(n-1)+Fibonacci(n-2)\n",
    "\n",
    "# Driver Program\n",
    "\n",
    "print(Fibonacci(10))"
   ]
  },
  {
   "cell_type": "code",
   "execution_count": 11,
   "id": "9150a212",
   "metadata": {},
   "outputs": [
    {
     "name": "stdout",
     "output_type": "stream",
     "text": [
      "34\n"
     ]
    }
   ],
   "source": [
    "def fibonacci(n):\n",
    "    a = 0\n",
    "    b = 1\n",
    "    if n < 0:\n",
    "        print(\"Incorrect input\")\n",
    "    elif n == 0:\n",
    "        return a\n",
    "    elif n == 1:\n",
    "        return b\n",
    "    else:\n",
    "        for i in range(2, n+1):\n",
    "            c = a + b\n",
    "            a = b\n",
    "            b = c\n",
    "        return b\n",
    "\n",
    "# Driver Program\n",
    "\n",
    "print(fibonacci(9))"
   ]
  },
  {
   "cell_type": "code",
   "execution_count": null,
   "id": "12fe561f",
   "metadata": {},
   "outputs": [],
   "source": [
    "import math\n",
    "\n",
    "# Function to check if a number is a perfect square\n",
    "def is_perfect_square(x):\n",
    "    s = int(math.sqrt(x))\n",
    "    return s * s == x\n",
    "\n",
    "# Function to checkn if n is a Fibonacci number\n",
    "def is_fibonacci(n):\n",
    "    # Apply the mathematical test\n",
    "    return is_perfect_square(5 * n * n + 4) or is_perfect_square(5 * n * n - 4)\n",
    "\n",
    "# Driver Code\n",
    "num = int(input(\"Enter a number: \"))\n",
    "\n",
    "if is_fibonacci(num):\n",
    "    print(num, \"is a Fibonacci number.\")\n",
    "else:\n",
    "    print(num, \"is NOT a Fibonacci number.\")\n",
    "d"
   ]
  },
  {
   "cell_type": "code",
   "execution_count": null,
   "id": "24fcceb6",
   "metadata": {},
   "outputs": [],
   "source": [
    "num = int(input(\"Enter a number: \"))\n",
    "\n",
    "a, b = 0, 1\n",
    "\n",
    "# Generate Fibonacci numbers until b becomes greater than or equal to num\n",
    "while b < num:\n",
    "    a, b = b, a + b\n",
    "\n",
    "# Check if the number matches a Fibonacci number\n",
    "if b == num or num == 0:\n",
    "    print(num, \"is a Fibonacci number.\")\n",
    "else:\n",
    "    print(num, \"is NOT a Fibonacci number.\")\n"
   ]
  },
  {
   "cell_type": "code",
   "execution_count": 12,
   "id": "82981e47",
   "metadata": {},
   "outputs": [
    {
     "name": "stdout",
     "output_type": "stream",
     "text": [
      "Array after left rotation is:  [3, 4, 5, 6, 7, 1, 2]\n"
     ]
    }
   ],
   "source": [
    "# function to rotate array by d elements using temp array\n",
    "def rotateArray(arr, n, d):\n",
    "    temp = []\n",
    "    i = 0\n",
    "    while (i < d):\n",
    "        temp.append(arr[i])\n",
    "        i = i + 1\n",
    "    i = 0\n",
    "    while (d < n):\n",
    "        arr[i] = arr[d]\n",
    "        i = i + 1\n",
    "        d = d + 1\n",
    "    arr[:] = arr[: i] + temp\n",
    "    return arr\n",
    "\n",
    "\n",
    "# Driver function to test above function\n",
    "arr = [1, 2, 3, 4, 5, 6, 7]\n",
    "print(\"Array after left rotation is: \", end=' ')\n",
    "print(rotateArray(arr, len(arr), 2))"
   ]
  },
  {
   "cell_type": "code",
   "execution_count": null,
   "id": "3cd3ad96",
   "metadata": {},
   "outputs": [],
   "source": [
    "a = [10, 20, 4, 45, 99]\n",
    "\n",
    "# Initialize largest (max1)\n",
    "# and second largest (max2) to negative infinity\n",
    "max1 = max2 = float('-inf')\n",
    "\n",
    "# Loop through each number in list\n",
    "for n in a:\n",
    "  \n",
    "    # If the current number is greater \n",
    "    # than largest found so far\n",
    "    if n > max1:\n",
    "      \n",
    "        # Update second largest to the previous largest\n",
    "        max2 = max1  \n",
    "        \n",
    "        # Update largest to the current number\n",
    "        max1 = n     \n",
    "        \n",
    "    # If current number is less than largest\n",
    "    # but greater than second largest\n",
    "    elif n > max2 and n != max1:\n",
    "      \n",
    "        # Update second largest to current number\n",
    "        max2 = n  \n",
    "\n",
    "print(max2)"
   ]
  },
  {
   "cell_type": "code",
   "execution_count": 13,
   "id": "e7776bdb",
   "metadata": {},
   "outputs": [
    {
     "name": "stdout",
     "output_type": "stream",
     "text": [
      "Largest in given array  9808\n"
     ]
    }
   ],
   "source": [
    "# Python3 program to find maximum\n",
    "# in arr[] of size n\n",
    "\n",
    "# python function to find maximum\n",
    "# in arr[] of size n\n",
    "\n",
    "\n",
    "def largest(arr, n):\n",
    "\n",
    "    # Initialize maximum element\n",
    "    max = arr[0]\n",
    "\n",
    "    # Traverse array elements from second\n",
    "    # and compare every element with\n",
    "    # current max\n",
    "    for i in range(1, n):\n",
    "        if arr[i] > max:\n",
    "            max = arr[i]\n",
    "    return max\n",
    "\n",
    "\n",
    "# Driver Code\n",
    "arr = [10, 324, 45, 90, 9808]\n",
    "n = len(arr)\n",
    "Ans = largest(arr, n)\n",
    "print(\"Largest in given array \", Ans)  "
   ]
  },
  {
   "cell_type": "code",
   "execution_count": null,
   "id": "2ab883d4",
   "metadata": {},
   "outputs": [],
   "source": []
  }
 ],
 "metadata": {
  "kernelspec": {
   "display_name": "Python 3",
   "language": "python",
   "name": "python3"
  },
  "language_info": {
   "codemirror_mode": {
    "name": "ipython",
    "version": 3
   },
   "file_extension": ".py",
   "mimetype": "text/x-python",
   "name": "python",
   "nbconvert_exporter": "python",
   "pygments_lexer": "ipython3",
   "version": "3.11.0"
  }
 },
 "nbformat": 4,
 "nbformat_minor": 5
}
